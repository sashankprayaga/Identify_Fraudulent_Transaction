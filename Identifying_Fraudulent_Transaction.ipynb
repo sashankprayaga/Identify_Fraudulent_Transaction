{
 "cells": [
  {
   "cell_type": "markdown",
   "id": "varied-inside",
   "metadata": {},
   "source": [
    "# Identifying Fraudlent User"
   ]
  },
  {
   "cell_type": "markdown",
   "id": "stunning-giving",
   "metadata": {},
   "source": [
    "##### **Problem Statement:**  *E-commerce websites often transact huge amounts of money. Whenever a huge amount of money is moved, there is a high risk of users performing fraudulent activities, e.g. using stolen credit cards, laundering money, etc*"
   ]
  },
  {
   "cell_type": "markdown",
   "id": "middle-lying",
   "metadata": {},
   "source": [
    "#### Objective: *The goal of this challenge is to build a machine learning model that predicts the probability that the first transaction of a new user is fraudulent*"
   ]
  },
  {
   "cell_type": "code",
   "execution_count": 289,
   "id": "biological-stone",
   "metadata": {},
   "outputs": [],
   "source": [
    "## Importing Libraries\n",
    "import pandas as pd\n",
    "import numpy as np\n",
    "import matplotlib.pyplot as plt\n",
    "import seaborn as sns"
   ]
  },
  {
   "cell_type": "markdown",
   "id": "isolated-warehouse",
   "metadata": {},
   "source": [
    "## Data Analysis"
   ]
  },
  {
   "cell_type": "code",
   "execution_count": 2,
   "id": "logical-practitioner",
   "metadata": {},
   "outputs": [],
   "source": [
    "# Reading data containing transaction details\n",
    "df=pd.read_csv(\"Candidate_tech_evaluation_candidate_copy_data science_fraud.csv\")"
   ]
  },
  {
   "cell_type": "code",
   "execution_count": 3,
   "id": "pacific-opening",
   "metadata": {},
   "outputs": [
    {
     "data": {
      "text/html": [
       "<div>\n",
       "<style scoped>\n",
       "    .dataframe tbody tr th:only-of-type {\n",
       "        vertical-align: middle;\n",
       "    }\n",
       "\n",
       "    .dataframe tbody tr th {\n",
       "        vertical-align: top;\n",
       "    }\n",
       "\n",
       "    .dataframe thead th {\n",
       "        text-align: right;\n",
       "    }\n",
       "</style>\n",
       "<table border=\"1\" class=\"dataframe\">\n",
       "  <thead>\n",
       "    <tr style=\"text-align: right;\">\n",
       "      <th></th>\n",
       "      <th>Unnamed: 0</th>\n",
       "      <th>user_id</th>\n",
       "      <th>signup_time</th>\n",
       "      <th>purchase_time</th>\n",
       "      <th>purchase_value</th>\n",
       "      <th>device_id</th>\n",
       "      <th>source</th>\n",
       "      <th>browser</th>\n",
       "      <th>sex</th>\n",
       "      <th>age</th>\n",
       "      <th>ip_address</th>\n",
       "      <th>class</th>\n",
       "    </tr>\n",
       "  </thead>\n",
       "  <tbody>\n",
       "    <tr>\n",
       "      <th>0</th>\n",
       "      <td>149671</td>\n",
       "      <td>285108</td>\n",
       "      <td>7/15/2015 4:36</td>\n",
       "      <td>9/10/2015 14:17</td>\n",
       "      <td>31</td>\n",
       "      <td>HZAKVUFTDOSFD</td>\n",
       "      <td>Direct</td>\n",
       "      <td>Chrome</td>\n",
       "      <td>M</td>\n",
       "      <td>49</td>\n",
       "      <td>2.818400e+09</td>\n",
       "      <td>0</td>\n",
       "    </tr>\n",
       "    <tr>\n",
       "      <th>1</th>\n",
       "      <td>15611</td>\n",
       "      <td>131009</td>\n",
       "      <td>1/24/2015 12:29</td>\n",
       "      <td>4/13/2015 4:53</td>\n",
       "      <td>31</td>\n",
       "      <td>XGQAJSOUJIZCC</td>\n",
       "      <td>SEO</td>\n",
       "      <td>IE</td>\n",
       "      <td>F</td>\n",
       "      <td>21</td>\n",
       "      <td>3.251268e+09</td>\n",
       "      <td>0</td>\n",
       "    </tr>\n",
       "    <tr>\n",
       "      <th>2</th>\n",
       "      <td>73178</td>\n",
       "      <td>328855</td>\n",
       "      <td>3/11/2015 0:54</td>\n",
       "      <td>4/5/2015 12:23</td>\n",
       "      <td>16</td>\n",
       "      <td>VCCTAYDCWKZIY</td>\n",
       "      <td>Direct</td>\n",
       "      <td>IE</td>\n",
       "      <td>M</td>\n",
       "      <td>26</td>\n",
       "      <td>2.727760e+09</td>\n",
       "      <td>0</td>\n",
       "    </tr>\n",
       "    <tr>\n",
       "      <th>3</th>\n",
       "      <td>84546</td>\n",
       "      <td>229053</td>\n",
       "      <td>1/7/2015 13:19</td>\n",
       "      <td>1/9/2015 10:12</td>\n",
       "      <td>29</td>\n",
       "      <td>MFFIHYNXCJLEY</td>\n",
       "      <td>SEO</td>\n",
       "      <td>Chrome</td>\n",
       "      <td>M</td>\n",
       "      <td>34</td>\n",
       "      <td>2.083420e+09</td>\n",
       "      <td>0</td>\n",
       "    </tr>\n",
       "    <tr>\n",
       "      <th>4</th>\n",
       "      <td>35978</td>\n",
       "      <td>108439</td>\n",
       "      <td>2/8/2015 21:11</td>\n",
       "      <td>4/9/2015 14:26</td>\n",
       "      <td>26</td>\n",
       "      <td>WMSXWGVPNIFBM</td>\n",
       "      <td>Ads</td>\n",
       "      <td>FireFox</td>\n",
       "      <td>M</td>\n",
       "      <td>33</td>\n",
       "      <td>3.207913e+09</td>\n",
       "      <td>0</td>\n",
       "    </tr>\n",
       "  </tbody>\n",
       "</table>\n",
       "</div>"
      ],
      "text/plain": [
       "   Unnamed: 0  user_id      signup_time    purchase_time  purchase_value  \\\n",
       "0      149671   285108   7/15/2015 4:36  9/10/2015 14:17              31   \n",
       "1       15611   131009  1/24/2015 12:29   4/13/2015 4:53              31   \n",
       "2       73178   328855   3/11/2015 0:54   4/5/2015 12:23              16   \n",
       "3       84546   229053   1/7/2015 13:19   1/9/2015 10:12              29   \n",
       "4       35978   108439   2/8/2015 21:11   4/9/2015 14:26              26   \n",
       "\n",
       "       device_id  source  browser sex  age    ip_address  class  \n",
       "0  HZAKVUFTDOSFD  Direct   Chrome   M   49  2.818400e+09      0  \n",
       "1  XGQAJSOUJIZCC     SEO       IE   F   21  3.251268e+09      0  \n",
       "2  VCCTAYDCWKZIY  Direct       IE   M   26  2.727760e+09      0  \n",
       "3  MFFIHYNXCJLEY     SEO   Chrome   M   34  2.083420e+09      0  \n",
       "4  WMSXWGVPNIFBM     Ads  FireFox   M   33  3.207913e+09      0  "
      ]
     },
     "execution_count": 3,
     "metadata": {},
     "output_type": "execute_result"
    }
   ],
   "source": [
    "df.head()"
   ]
  },
  {
   "cell_type": "code",
   "execution_count": 4,
   "id": "purple-electric",
   "metadata": {},
   "outputs": [
    {
     "data": {
      "text/plain": [
       "(120000, 12)"
      ]
     },
     "execution_count": 4,
     "metadata": {},
     "output_type": "execute_result"
    }
   ],
   "source": [
    "df.shape"
   ]
  },
  {
   "cell_type": "code",
   "execution_count": 5,
   "id": "persistent-banana",
   "metadata": {},
   "outputs": [],
   "source": [
    "# dropping unnamed:0 column\n",
    "df.drop('Unnamed: 0',axis=1,inplace=True)"
   ]
  },
  {
   "cell_type": "code",
   "execution_count": 6,
   "id": "legislative-illustration",
   "metadata": {},
   "outputs": [
    {
     "data": {
      "text/html": [
       "<div>\n",
       "<style scoped>\n",
       "    .dataframe tbody tr th:only-of-type {\n",
       "        vertical-align: middle;\n",
       "    }\n",
       "\n",
       "    .dataframe tbody tr th {\n",
       "        vertical-align: top;\n",
       "    }\n",
       "\n",
       "    .dataframe thead th {\n",
       "        text-align: right;\n",
       "    }\n",
       "</style>\n",
       "<table border=\"1\" class=\"dataframe\">\n",
       "  <thead>\n",
       "    <tr style=\"text-align: right;\">\n",
       "      <th></th>\n",
       "      <th>user_id</th>\n",
       "      <th>signup_time</th>\n",
       "      <th>purchase_time</th>\n",
       "      <th>purchase_value</th>\n",
       "      <th>device_id</th>\n",
       "      <th>source</th>\n",
       "      <th>browser</th>\n",
       "      <th>sex</th>\n",
       "      <th>age</th>\n",
       "      <th>ip_address</th>\n",
       "      <th>class</th>\n",
       "    </tr>\n",
       "  </thead>\n",
       "  <tbody>\n",
       "    <tr>\n",
       "      <th>0</th>\n",
       "      <td>285108</td>\n",
       "      <td>7/15/2015 4:36</td>\n",
       "      <td>9/10/2015 14:17</td>\n",
       "      <td>31</td>\n",
       "      <td>HZAKVUFTDOSFD</td>\n",
       "      <td>Direct</td>\n",
       "      <td>Chrome</td>\n",
       "      <td>M</td>\n",
       "      <td>49</td>\n",
       "      <td>2.818400e+09</td>\n",
       "      <td>0</td>\n",
       "    </tr>\n",
       "    <tr>\n",
       "      <th>1</th>\n",
       "      <td>131009</td>\n",
       "      <td>1/24/2015 12:29</td>\n",
       "      <td>4/13/2015 4:53</td>\n",
       "      <td>31</td>\n",
       "      <td>XGQAJSOUJIZCC</td>\n",
       "      <td>SEO</td>\n",
       "      <td>IE</td>\n",
       "      <td>F</td>\n",
       "      <td>21</td>\n",
       "      <td>3.251268e+09</td>\n",
       "      <td>0</td>\n",
       "    </tr>\n",
       "    <tr>\n",
       "      <th>2</th>\n",
       "      <td>328855</td>\n",
       "      <td>3/11/2015 0:54</td>\n",
       "      <td>4/5/2015 12:23</td>\n",
       "      <td>16</td>\n",
       "      <td>VCCTAYDCWKZIY</td>\n",
       "      <td>Direct</td>\n",
       "      <td>IE</td>\n",
       "      <td>M</td>\n",
       "      <td>26</td>\n",
       "      <td>2.727760e+09</td>\n",
       "      <td>0</td>\n",
       "    </tr>\n",
       "    <tr>\n",
       "      <th>3</th>\n",
       "      <td>229053</td>\n",
       "      <td>1/7/2015 13:19</td>\n",
       "      <td>1/9/2015 10:12</td>\n",
       "      <td>29</td>\n",
       "      <td>MFFIHYNXCJLEY</td>\n",
       "      <td>SEO</td>\n",
       "      <td>Chrome</td>\n",
       "      <td>M</td>\n",
       "      <td>34</td>\n",
       "      <td>2.083420e+09</td>\n",
       "      <td>0</td>\n",
       "    </tr>\n",
       "    <tr>\n",
       "      <th>4</th>\n",
       "      <td>108439</td>\n",
       "      <td>2/8/2015 21:11</td>\n",
       "      <td>4/9/2015 14:26</td>\n",
       "      <td>26</td>\n",
       "      <td>WMSXWGVPNIFBM</td>\n",
       "      <td>Ads</td>\n",
       "      <td>FireFox</td>\n",
       "      <td>M</td>\n",
       "      <td>33</td>\n",
       "      <td>3.207913e+09</td>\n",
       "      <td>0</td>\n",
       "    </tr>\n",
       "    <tr>\n",
       "      <th>...</th>\n",
       "      <td>...</td>\n",
       "      <td>...</td>\n",
       "      <td>...</td>\n",
       "      <td>...</td>\n",
       "      <td>...</td>\n",
       "      <td>...</td>\n",
       "      <td>...</td>\n",
       "      <td>...</td>\n",
       "      <td>...</td>\n",
       "      <td>...</td>\n",
       "      <td>...</td>\n",
       "    </tr>\n",
       "    <tr>\n",
       "      <th>119995</th>\n",
       "      <td>116698</td>\n",
       "      <td>2/26/2015 11:51</td>\n",
       "      <td>4/16/2015 22:57</td>\n",
       "      <td>46</td>\n",
       "      <td>UJYRDGZXTFFJG</td>\n",
       "      <td>Ads</td>\n",
       "      <td>Chrome</td>\n",
       "      <td>M</td>\n",
       "      <td>18</td>\n",
       "      <td>2.509395e+09</td>\n",
       "      <td>0</td>\n",
       "    </tr>\n",
       "    <tr>\n",
       "      <th>119996</th>\n",
       "      <td>122699</td>\n",
       "      <td>8/1/2015 18:40</td>\n",
       "      <td>8/25/2015 7:56</td>\n",
       "      <td>26</td>\n",
       "      <td>EMMTCPTUYQYPX</td>\n",
       "      <td>Ads</td>\n",
       "      <td>IE</td>\n",
       "      <td>F</td>\n",
       "      <td>36</td>\n",
       "      <td>2.946612e+09</td>\n",
       "      <td>0</td>\n",
       "    </tr>\n",
       "    <tr>\n",
       "      <th>119997</th>\n",
       "      <td>115120</td>\n",
       "      <td>7/25/2015 12:50</td>\n",
       "      <td>9/3/2015 4:10</td>\n",
       "      <td>41</td>\n",
       "      <td>YSZGGEARGETEU</td>\n",
       "      <td>SEO</td>\n",
       "      <td>Chrome</td>\n",
       "      <td>M</td>\n",
       "      <td>31</td>\n",
       "      <td>5.570629e+08</td>\n",
       "      <td>0</td>\n",
       "    </tr>\n",
       "    <tr>\n",
       "      <th>119998</th>\n",
       "      <td>87098</td>\n",
       "      <td>4/2/2015 21:11</td>\n",
       "      <td>6/22/2015 16:51</td>\n",
       "      <td>50</td>\n",
       "      <td>BJDWRJULJZNOV</td>\n",
       "      <td>SEO</td>\n",
       "      <td>Chrome</td>\n",
       "      <td>F</td>\n",
       "      <td>43</td>\n",
       "      <td>2.687887e+09</td>\n",
       "      <td>0</td>\n",
       "    </tr>\n",
       "    <tr>\n",
       "      <th>119999</th>\n",
       "      <td>341401</td>\n",
       "      <td>7/15/2015 15:11</td>\n",
       "      <td>9/3/2015 13:45</td>\n",
       "      <td>32</td>\n",
       "      <td>AOKZUNMPCDKVK</td>\n",
       "      <td>Ads</td>\n",
       "      <td>Chrome</td>\n",
       "      <td>F</td>\n",
       "      <td>47</td>\n",
       "      <td>1.174840e+09</td>\n",
       "      <td>0</td>\n",
       "    </tr>\n",
       "  </tbody>\n",
       "</table>\n",
       "<p>120000 rows × 11 columns</p>\n",
       "</div>"
      ],
      "text/plain": [
       "        user_id      signup_time    purchase_time  purchase_value  \\\n",
       "0        285108   7/15/2015 4:36  9/10/2015 14:17              31   \n",
       "1        131009  1/24/2015 12:29   4/13/2015 4:53              31   \n",
       "2        328855   3/11/2015 0:54   4/5/2015 12:23              16   \n",
       "3        229053   1/7/2015 13:19   1/9/2015 10:12              29   \n",
       "4        108439   2/8/2015 21:11   4/9/2015 14:26              26   \n",
       "...         ...              ...              ...             ...   \n",
       "119995   116698  2/26/2015 11:51  4/16/2015 22:57              46   \n",
       "119996   122699   8/1/2015 18:40   8/25/2015 7:56              26   \n",
       "119997   115120  7/25/2015 12:50    9/3/2015 4:10              41   \n",
       "119998    87098   4/2/2015 21:11  6/22/2015 16:51              50   \n",
       "119999   341401  7/15/2015 15:11   9/3/2015 13:45              32   \n",
       "\n",
       "            device_id  source  browser sex  age    ip_address  class  \n",
       "0       HZAKVUFTDOSFD  Direct   Chrome   M   49  2.818400e+09      0  \n",
       "1       XGQAJSOUJIZCC     SEO       IE   F   21  3.251268e+09      0  \n",
       "2       VCCTAYDCWKZIY  Direct       IE   M   26  2.727760e+09      0  \n",
       "3       MFFIHYNXCJLEY     SEO   Chrome   M   34  2.083420e+09      0  \n",
       "4       WMSXWGVPNIFBM     Ads  FireFox   M   33  3.207913e+09      0  \n",
       "...               ...     ...      ...  ..  ...           ...    ...  \n",
       "119995  UJYRDGZXTFFJG     Ads   Chrome   M   18  2.509395e+09      0  \n",
       "119996  EMMTCPTUYQYPX     Ads       IE   F   36  2.946612e+09      0  \n",
       "119997  YSZGGEARGETEU     SEO   Chrome   M   31  5.570629e+08      0  \n",
       "119998  BJDWRJULJZNOV     SEO   Chrome   F   43  2.687887e+09      0  \n",
       "119999  AOKZUNMPCDKVK     Ads   Chrome   F   47  1.174840e+09      0  \n",
       "\n",
       "[120000 rows x 11 columns]"
      ]
     },
     "execution_count": 6,
     "metadata": {},
     "output_type": "execute_result"
    }
   ],
   "source": [
    "df"
   ]
  },
  {
   "cell_type": "code",
   "execution_count": 7,
   "id": "divided-israeli",
   "metadata": {},
   "outputs": [
    {
     "data": {
      "text/plain": [
       "user_id           0\n",
       "signup_time       0\n",
       "purchase_time     0\n",
       "purchase_value    0\n",
       "device_id         0\n",
       "source            0\n",
       "browser           0\n",
       "sex               0\n",
       "age               0\n",
       "ip_address        0\n",
       "class             0\n",
       "dtype: int64"
      ]
     },
     "execution_count": 7,
     "metadata": {},
     "output_type": "execute_result"
    }
   ],
   "source": [
    "# Checking for null values\n",
    "df.isnull().sum()"
   ]
  },
  {
   "cell_type": "code",
   "execution_count": 8,
   "id": "typical-knife",
   "metadata": {},
   "outputs": [
    {
     "data": {
      "text/plain": [
       "user_id           0\n",
       "signup_time       0\n",
       "purchase_time     0\n",
       "purchase_value    0\n",
       "device_id         0\n",
       "source            0\n",
       "browser           0\n",
       "sex               0\n",
       "age               0\n",
       "ip_address        0\n",
       "class             0\n",
       "dtype: int64"
      ]
     },
     "execution_count": 8,
     "metadata": {},
     "output_type": "execute_result"
    }
   ],
   "source": [
    "# Checking NaN\n",
    "df.isna().sum()"
   ]
  },
  {
   "cell_type": "code",
   "execution_count": 9,
   "id": "sophisticated-greek",
   "metadata": {},
   "outputs": [
    {
     "data": {
      "text/plain": [
       "0"
      ]
     },
     "execution_count": 9,
     "metadata": {},
     "output_type": "execute_result"
    }
   ],
   "source": [
    "## Checking for duplicate entries\n",
    "df.duplicated().sum()"
   ]
  },
  {
   "cell_type": "code",
   "execution_count": 10,
   "id": "worst-bishop",
   "metadata": {},
   "outputs": [
    {
     "data": {
      "text/plain": [
       "user_id           120000\n",
       "signup_time       109111\n",
       "purchase_time     100058\n",
       "purchase_value       120\n",
       "device_id         110599\n",
       "source                 3\n",
       "browser                5\n",
       "sex                    2\n",
       "age                   57\n",
       "ip_address        114134\n",
       "class                  2\n",
       "dtype: int64"
      ]
     },
     "execution_count": 10,
     "metadata": {},
     "output_type": "execute_result"
    }
   ],
   "source": [
    "#Checking for unique values\n",
    "df.nunique()"
   ]
  },
  {
   "cell_type": "code",
   "execution_count": 11,
   "id": "worthy-desktop",
   "metadata": {},
   "outputs": [],
   "source": [
    "## It is observed that an ip_address and device_id are used more than once"
   ]
  },
  {
   "cell_type": "code",
   "execution_count": 12,
   "id": "impaired-auditor",
   "metadata": {},
   "outputs": [],
   "source": [
    "# Reading data containing country and ip address ranges\n",
    "df_ip=pd.read_excel('Candidate_tech_evaluation_candidate_copy_datascience_IpAddress_to_Country.xlsx')"
   ]
  },
  {
   "cell_type": "code",
   "execution_count": 13,
   "id": "moved-durham",
   "metadata": {},
   "outputs": [
    {
     "data": {
      "text/html": [
       "<div>\n",
       "<style scoped>\n",
       "    .dataframe tbody tr th:only-of-type {\n",
       "        vertical-align: middle;\n",
       "    }\n",
       "\n",
       "    .dataframe tbody tr th {\n",
       "        vertical-align: top;\n",
       "    }\n",
       "\n",
       "    .dataframe thead th {\n",
       "        text-align: right;\n",
       "    }\n",
       "</style>\n",
       "<table border=\"1\" class=\"dataframe\">\n",
       "  <thead>\n",
       "    <tr style=\"text-align: right;\">\n",
       "      <th></th>\n",
       "      <th>lower_bound_ip_address</th>\n",
       "      <th>upper_bound_ip_address</th>\n",
       "      <th>country</th>\n",
       "    </tr>\n",
       "  </thead>\n",
       "  <tbody>\n",
       "    <tr>\n",
       "      <th>53164</th>\n",
       "      <td>3034482688</td>\n",
       "      <td>3034484735</td>\n",
       "      <td>Afghanistan</td>\n",
       "    </tr>\n",
       "    <tr>\n",
       "      <th>49110</th>\n",
       "      <td>2942967808</td>\n",
       "      <td>2942975999</td>\n",
       "      <td>Afghanistan</td>\n",
       "    </tr>\n",
       "    <tr>\n",
       "      <th>29368</th>\n",
       "      <td>1728976896</td>\n",
       "      <td>1728977151</td>\n",
       "      <td>Afghanistan</td>\n",
       "    </tr>\n",
       "    <tr>\n",
       "      <th>31650</th>\n",
       "      <td>1744547840</td>\n",
       "      <td>1744548863</td>\n",
       "      <td>Afghanistan</td>\n",
       "    </tr>\n",
       "    <tr>\n",
       "      <th>30857</th>\n",
       "      <td>1743887360</td>\n",
       "      <td>1743888383</td>\n",
       "      <td>Afghanistan</td>\n",
       "    </tr>\n",
       "    <tr>\n",
       "      <th>...</th>\n",
       "      <td>...</td>\n",
       "      <td>...</td>\n",
       "      <td>...</td>\n",
       "    </tr>\n",
       "    <tr>\n",
       "      <th>91595</th>\n",
       "      <td>3288616960</td>\n",
       "      <td>3288617215</td>\n",
       "      <td>Zimbabwe</td>\n",
       "    </tr>\n",
       "    <tr>\n",
       "      <th>92379</th>\n",
       "      <td>3318988800</td>\n",
       "      <td>3319005183</td>\n",
       "      <td>Zimbabwe</td>\n",
       "    </tr>\n",
       "    <tr>\n",
       "      <th>3941</th>\n",
       "      <td>693071872</td>\n",
       "      <td>693072895</td>\n",
       "      <td>Zimbabwe</td>\n",
       "    </tr>\n",
       "    <tr>\n",
       "      <th>92318</th>\n",
       "      <td>3315326976</td>\n",
       "      <td>3315331071</td>\n",
       "      <td>Zimbabwe</td>\n",
       "    </tr>\n",
       "    <tr>\n",
       "      <th>92433</th>\n",
       "      <td>3320304640</td>\n",
       "      <td>3320305663</td>\n",
       "      <td>Zimbabwe</td>\n",
       "    </tr>\n",
       "  </tbody>\n",
       "</table>\n",
       "<p>138846 rows × 3 columns</p>\n",
       "</div>"
      ],
      "text/plain": [
       "       lower_bound_ip_address  upper_bound_ip_address      country\n",
       "53164              3034482688              3034484735  Afghanistan\n",
       "49110              2942967808              2942975999  Afghanistan\n",
       "29368              1728976896              1728977151  Afghanistan\n",
       "31650              1744547840              1744548863  Afghanistan\n",
       "30857              1743887360              1743888383  Afghanistan\n",
       "...                       ...                     ...          ...\n",
       "91595              3288616960              3288617215     Zimbabwe\n",
       "92379              3318988800              3319005183     Zimbabwe\n",
       "3941                693071872               693072895     Zimbabwe\n",
       "92318              3315326976              3315331071     Zimbabwe\n",
       "92433              3320304640              3320305663     Zimbabwe\n",
       "\n",
       "[138846 rows x 3 columns]"
      ]
     },
     "execution_count": 13,
     "metadata": {},
     "output_type": "execute_result"
    }
   ],
   "source": [
    "df_ip.sort_values(by='country')"
   ]
  },
  {
   "cell_type": "markdown",
   "id": "individual-maintenance",
   "metadata": {},
   "source": [
    "## Feature Engineering"
   ]
  },
  {
   "cell_type": "code",
   "execution_count": 14,
   "id": "ultimate-recall",
   "metadata": {},
   "outputs": [],
   "source": [
    "## Function returns country based on ip address\n",
    "def ip_to_country(ip):\n",
    "    '''Function to return country based on ip_address\n",
    "    Input:ip address in int format\n",
    "    Output:Country name if ipaddress exists in range and None if no information regarding the country is available'''\n",
    "    country = df_ip.loc[(df_ip['lower_bound_ip_address'] <= ip) & (ip <= df_ip['upper_bound_ip_address']), 'country']     \n",
    "    try:         \n",
    "        return country.item()     \n",
    "    except ValueError:         \n",
    "        return \"None\""
   ]
  },
  {
   "cell_type": "code",
   "execution_count": 15,
   "id": "forced-rates",
   "metadata": {},
   "outputs": [
    {
     "data": {
      "text/plain": [
       "'United States'"
      ]
     },
     "execution_count": 15,
     "metadata": {},
     "output_type": "execute_result"
    }
   ],
   "source": [
    "##  testing function ip_to_country\n",
    "ip_to_country(2.727760e+09)"
   ]
  },
  {
   "cell_type": "code",
   "execution_count": 16,
   "id": "expected-enough",
   "metadata": {},
   "outputs": [],
   "source": [
    "## Adding country column to the data by using ip_to_country function\n",
    "df['country']=df['ip_address'].map(ip_to_country)"
   ]
  },
  {
   "cell_type": "code",
   "execution_count": 17,
   "id": "restricted-kernel",
   "metadata": {},
   "outputs": [
    {
     "data": {
      "text/html": [
       "<div>\n",
       "<style scoped>\n",
       "    .dataframe tbody tr th:only-of-type {\n",
       "        vertical-align: middle;\n",
       "    }\n",
       "\n",
       "    .dataframe tbody tr th {\n",
       "        vertical-align: top;\n",
       "    }\n",
       "\n",
       "    .dataframe thead th {\n",
       "        text-align: right;\n",
       "    }\n",
       "</style>\n",
       "<table border=\"1\" class=\"dataframe\">\n",
       "  <thead>\n",
       "    <tr style=\"text-align: right;\">\n",
       "      <th></th>\n",
       "      <th>user_id</th>\n",
       "      <th>signup_time</th>\n",
       "      <th>purchase_time</th>\n",
       "      <th>purchase_value</th>\n",
       "      <th>device_id</th>\n",
       "      <th>source</th>\n",
       "      <th>browser</th>\n",
       "      <th>sex</th>\n",
       "      <th>age</th>\n",
       "      <th>ip_address</th>\n",
       "      <th>class</th>\n",
       "      <th>country</th>\n",
       "    </tr>\n",
       "  </thead>\n",
       "  <tbody>\n",
       "    <tr>\n",
       "      <th>0</th>\n",
       "      <td>285108</td>\n",
       "      <td>7/15/2015 4:36</td>\n",
       "      <td>9/10/2015 14:17</td>\n",
       "      <td>31</td>\n",
       "      <td>HZAKVUFTDOSFD</td>\n",
       "      <td>Direct</td>\n",
       "      <td>Chrome</td>\n",
       "      <td>M</td>\n",
       "      <td>49</td>\n",
       "      <td>2.818400e+09</td>\n",
       "      <td>0</td>\n",
       "      <td>United States</td>\n",
       "    </tr>\n",
       "    <tr>\n",
       "      <th>1</th>\n",
       "      <td>131009</td>\n",
       "      <td>1/24/2015 12:29</td>\n",
       "      <td>4/13/2015 4:53</td>\n",
       "      <td>31</td>\n",
       "      <td>XGQAJSOUJIZCC</td>\n",
       "      <td>SEO</td>\n",
       "      <td>IE</td>\n",
       "      <td>F</td>\n",
       "      <td>21</td>\n",
       "      <td>3.251268e+09</td>\n",
       "      <td>0</td>\n",
       "      <td>United Kingdom</td>\n",
       "    </tr>\n",
       "    <tr>\n",
       "      <th>2</th>\n",
       "      <td>328855</td>\n",
       "      <td>3/11/2015 0:54</td>\n",
       "      <td>4/5/2015 12:23</td>\n",
       "      <td>16</td>\n",
       "      <td>VCCTAYDCWKZIY</td>\n",
       "      <td>Direct</td>\n",
       "      <td>IE</td>\n",
       "      <td>M</td>\n",
       "      <td>26</td>\n",
       "      <td>2.727760e+09</td>\n",
       "      <td>0</td>\n",
       "      <td>United States</td>\n",
       "    </tr>\n",
       "    <tr>\n",
       "      <th>3</th>\n",
       "      <td>229053</td>\n",
       "      <td>1/7/2015 13:19</td>\n",
       "      <td>1/9/2015 10:12</td>\n",
       "      <td>29</td>\n",
       "      <td>MFFIHYNXCJLEY</td>\n",
       "      <td>SEO</td>\n",
       "      <td>Chrome</td>\n",
       "      <td>M</td>\n",
       "      <td>34</td>\n",
       "      <td>2.083420e+09</td>\n",
       "      <td>0</td>\n",
       "      <td>Korea Republic of</td>\n",
       "    </tr>\n",
       "    <tr>\n",
       "      <th>4</th>\n",
       "      <td>108439</td>\n",
       "      <td>2/8/2015 21:11</td>\n",
       "      <td>4/9/2015 14:26</td>\n",
       "      <td>26</td>\n",
       "      <td>WMSXWGVPNIFBM</td>\n",
       "      <td>Ads</td>\n",
       "      <td>FireFox</td>\n",
       "      <td>M</td>\n",
       "      <td>33</td>\n",
       "      <td>3.207913e+09</td>\n",
       "      <td>0</td>\n",
       "      <td>Brazil</td>\n",
       "    </tr>\n",
       "  </tbody>\n",
       "</table>\n",
       "</div>"
      ],
      "text/plain": [
       "   user_id      signup_time    purchase_time  purchase_value      device_id  \\\n",
       "0   285108   7/15/2015 4:36  9/10/2015 14:17              31  HZAKVUFTDOSFD   \n",
       "1   131009  1/24/2015 12:29   4/13/2015 4:53              31  XGQAJSOUJIZCC   \n",
       "2   328855   3/11/2015 0:54   4/5/2015 12:23              16  VCCTAYDCWKZIY   \n",
       "3   229053   1/7/2015 13:19   1/9/2015 10:12              29  MFFIHYNXCJLEY   \n",
       "4   108439   2/8/2015 21:11   4/9/2015 14:26              26  WMSXWGVPNIFBM   \n",
       "\n",
       "   source  browser sex  age    ip_address  class            country  \n",
       "0  Direct   Chrome   M   49  2.818400e+09      0      United States  \n",
       "1     SEO       IE   F   21  3.251268e+09      0     United Kingdom  \n",
       "2  Direct       IE   M   26  2.727760e+09      0      United States  \n",
       "3     SEO   Chrome   M   34  2.083420e+09      0  Korea Republic of  \n",
       "4     Ads  FireFox   M   33  3.207913e+09      0             Brazil  "
      ]
     },
     "execution_count": 17,
     "metadata": {},
     "output_type": "execute_result"
    }
   ],
   "source": [
    "## Checking the column \"country\"\n",
    "df.head()"
   ]
  },
  {
   "cell_type": "code",
   "execution_count": 18,
   "id": "attended-samoa",
   "metadata": {},
   "outputs": [],
   "source": [
    "## Creating feature \"#times_device_used\" to find number of times the same device has been used based on device_id\n",
    "def times_device_used(data):\n",
    "    '''Returns Data Frame containing data about number of times a device has been used'''\n",
    "    multiple_usage_device=data[['user_id','device_id']].groupby('device_id').count().reset_index()\n",
    "    multiple_usage_device.rename(columns={'user_id':'#times_device_used'},inplace=True)\n",
    "    return multiple_usage_device"
   ]
  },
  {
   "cell_type": "code",
   "execution_count": 19,
   "id": "amino-collins",
   "metadata": {},
   "outputs": [],
   "source": [
    "device_usage=times_device_used(df)"
   ]
  },
  {
   "cell_type": "code",
   "execution_count": 20,
   "id": "interpreted-alcohol",
   "metadata": {},
   "outputs": [],
   "source": [
    "df=df.merge(right=device_usage,how='left')"
   ]
  },
  {
   "cell_type": "code",
   "execution_count": 21,
   "id": "mathematical-pizza",
   "metadata": {},
   "outputs": [],
   "source": [
    "## Creating feature \"#times_ip_used\" to find number of times the same ip has been used based on ip_address\n",
    "def times_ip_used(data):\n",
    "    '''Returns Data Frame containing data about number of times an ip has been used'''\n",
    "    multiple_usage_ip=data[['user_id','ip_address']].groupby('ip_address').count().reset_index()\n",
    "    multiple_usage_ip.rename(columns={'user_id':'#times_ip_used'},inplace=True)\n",
    "    return multiple_usage_ip"
   ]
  },
  {
   "cell_type": "code",
   "execution_count": 22,
   "id": "confident-vertical",
   "metadata": {},
   "outputs": [],
   "source": [
    "ip_usage=times_ip_used(df)"
   ]
  },
  {
   "cell_type": "code",
   "execution_count": 23,
   "id": "adult-equality",
   "metadata": {},
   "outputs": [],
   "source": [
    "df=df.merge(right=ip_usage,how='left')"
   ]
  },
  {
   "cell_type": "code",
   "execution_count": 24,
   "id": "exact-tamil",
   "metadata": {},
   "outputs": [
    {
     "data": {
      "text/html": [
       "<div>\n",
       "<style scoped>\n",
       "    .dataframe tbody tr th:only-of-type {\n",
       "        vertical-align: middle;\n",
       "    }\n",
       "\n",
       "    .dataframe tbody tr th {\n",
       "        vertical-align: top;\n",
       "    }\n",
       "\n",
       "    .dataframe thead th {\n",
       "        text-align: right;\n",
       "    }\n",
       "</style>\n",
       "<table border=\"1\" class=\"dataframe\">\n",
       "  <thead>\n",
       "    <tr style=\"text-align: right;\">\n",
       "      <th></th>\n",
       "      <th>user_id</th>\n",
       "      <th>signup_time</th>\n",
       "      <th>purchase_time</th>\n",
       "      <th>purchase_value</th>\n",
       "      <th>device_id</th>\n",
       "      <th>source</th>\n",
       "      <th>browser</th>\n",
       "      <th>sex</th>\n",
       "      <th>age</th>\n",
       "      <th>ip_address</th>\n",
       "      <th>class</th>\n",
       "      <th>country</th>\n",
       "      <th>#times_device_used</th>\n",
       "      <th>#times_ip_used</th>\n",
       "    </tr>\n",
       "  </thead>\n",
       "  <tbody>\n",
       "    <tr>\n",
       "      <th>0</th>\n",
       "      <td>285108</td>\n",
       "      <td>7/15/2015 4:36</td>\n",
       "      <td>9/10/2015 14:17</td>\n",
       "      <td>31</td>\n",
       "      <td>HZAKVUFTDOSFD</td>\n",
       "      <td>Direct</td>\n",
       "      <td>Chrome</td>\n",
       "      <td>M</td>\n",
       "      <td>49</td>\n",
       "      <td>2.818400e+09</td>\n",
       "      <td>0</td>\n",
       "      <td>United States</td>\n",
       "      <td>2</td>\n",
       "      <td>1</td>\n",
       "    </tr>\n",
       "    <tr>\n",
       "      <th>1</th>\n",
       "      <td>131009</td>\n",
       "      <td>1/24/2015 12:29</td>\n",
       "      <td>4/13/2015 4:53</td>\n",
       "      <td>31</td>\n",
       "      <td>XGQAJSOUJIZCC</td>\n",
       "      <td>SEO</td>\n",
       "      <td>IE</td>\n",
       "      <td>F</td>\n",
       "      <td>21</td>\n",
       "      <td>3.251268e+09</td>\n",
       "      <td>0</td>\n",
       "      <td>United Kingdom</td>\n",
       "      <td>1</td>\n",
       "      <td>1</td>\n",
       "    </tr>\n",
       "    <tr>\n",
       "      <th>2</th>\n",
       "      <td>328855</td>\n",
       "      <td>3/11/2015 0:54</td>\n",
       "      <td>4/5/2015 12:23</td>\n",
       "      <td>16</td>\n",
       "      <td>VCCTAYDCWKZIY</td>\n",
       "      <td>Direct</td>\n",
       "      <td>IE</td>\n",
       "      <td>M</td>\n",
       "      <td>26</td>\n",
       "      <td>2.727760e+09</td>\n",
       "      <td>0</td>\n",
       "      <td>United States</td>\n",
       "      <td>1</td>\n",
       "      <td>1</td>\n",
       "    </tr>\n",
       "    <tr>\n",
       "      <th>3</th>\n",
       "      <td>229053</td>\n",
       "      <td>1/7/2015 13:19</td>\n",
       "      <td>1/9/2015 10:12</td>\n",
       "      <td>29</td>\n",
       "      <td>MFFIHYNXCJLEY</td>\n",
       "      <td>SEO</td>\n",
       "      <td>Chrome</td>\n",
       "      <td>M</td>\n",
       "      <td>34</td>\n",
       "      <td>2.083420e+09</td>\n",
       "      <td>0</td>\n",
       "      <td>Korea Republic of</td>\n",
       "      <td>1</td>\n",
       "      <td>1</td>\n",
       "    </tr>\n",
       "    <tr>\n",
       "      <th>4</th>\n",
       "      <td>108439</td>\n",
       "      <td>2/8/2015 21:11</td>\n",
       "      <td>4/9/2015 14:26</td>\n",
       "      <td>26</td>\n",
       "      <td>WMSXWGVPNIFBM</td>\n",
       "      <td>Ads</td>\n",
       "      <td>FireFox</td>\n",
       "      <td>M</td>\n",
       "      <td>33</td>\n",
       "      <td>3.207913e+09</td>\n",
       "      <td>0</td>\n",
       "      <td>Brazil</td>\n",
       "      <td>1</td>\n",
       "      <td>1</td>\n",
       "    </tr>\n",
       "    <tr>\n",
       "      <th>...</th>\n",
       "      <td>...</td>\n",
       "      <td>...</td>\n",
       "      <td>...</td>\n",
       "      <td>...</td>\n",
       "      <td>...</td>\n",
       "      <td>...</td>\n",
       "      <td>...</td>\n",
       "      <td>...</td>\n",
       "      <td>...</td>\n",
       "      <td>...</td>\n",
       "      <td>...</td>\n",
       "      <td>...</td>\n",
       "      <td>...</td>\n",
       "      <td>...</td>\n",
       "    </tr>\n",
       "    <tr>\n",
       "      <th>119995</th>\n",
       "      <td>116698</td>\n",
       "      <td>2/26/2015 11:51</td>\n",
       "      <td>4/16/2015 22:57</td>\n",
       "      <td>46</td>\n",
       "      <td>UJYRDGZXTFFJG</td>\n",
       "      <td>Ads</td>\n",
       "      <td>Chrome</td>\n",
       "      <td>M</td>\n",
       "      <td>18</td>\n",
       "      <td>2.509395e+09</td>\n",
       "      <td>0</td>\n",
       "      <td>Netherlands</td>\n",
       "      <td>1</td>\n",
       "      <td>1</td>\n",
       "    </tr>\n",
       "    <tr>\n",
       "      <th>119996</th>\n",
       "      <td>122699</td>\n",
       "      <td>8/1/2015 18:40</td>\n",
       "      <td>8/25/2015 7:56</td>\n",
       "      <td>26</td>\n",
       "      <td>EMMTCPTUYQYPX</td>\n",
       "      <td>Ads</td>\n",
       "      <td>IE</td>\n",
       "      <td>F</td>\n",
       "      <td>36</td>\n",
       "      <td>2.946612e+09</td>\n",
       "      <td>0</td>\n",
       "      <td>China</td>\n",
       "      <td>1</td>\n",
       "      <td>1</td>\n",
       "    </tr>\n",
       "    <tr>\n",
       "      <th>119997</th>\n",
       "      <td>115120</td>\n",
       "      <td>7/25/2015 12:50</td>\n",
       "      <td>9/3/2015 4:10</td>\n",
       "      <td>41</td>\n",
       "      <td>YSZGGEARGETEU</td>\n",
       "      <td>SEO</td>\n",
       "      <td>Chrome</td>\n",
       "      <td>M</td>\n",
       "      <td>31</td>\n",
       "      <td>5.570629e+08</td>\n",
       "      <td>0</td>\n",
       "      <td>United States</td>\n",
       "      <td>1</td>\n",
       "      <td>1</td>\n",
       "    </tr>\n",
       "    <tr>\n",
       "      <th>119998</th>\n",
       "      <td>87098</td>\n",
       "      <td>4/2/2015 21:11</td>\n",
       "      <td>6/22/2015 16:51</td>\n",
       "      <td>50</td>\n",
       "      <td>BJDWRJULJZNOV</td>\n",
       "      <td>SEO</td>\n",
       "      <td>Chrome</td>\n",
       "      <td>F</td>\n",
       "      <td>43</td>\n",
       "      <td>2.687887e+09</td>\n",
       "      <td>0</td>\n",
       "      <td>Switzerland</td>\n",
       "      <td>1</td>\n",
       "      <td>1</td>\n",
       "    </tr>\n",
       "    <tr>\n",
       "      <th>119999</th>\n",
       "      <td>341401</td>\n",
       "      <td>7/15/2015 15:11</td>\n",
       "      <td>9/3/2015 13:45</td>\n",
       "      <td>32</td>\n",
       "      <td>AOKZUNMPCDKVK</td>\n",
       "      <td>Ads</td>\n",
       "      <td>Chrome</td>\n",
       "      <td>F</td>\n",
       "      <td>47</td>\n",
       "      <td>1.174840e+09</td>\n",
       "      <td>0</td>\n",
       "      <td>United States</td>\n",
       "      <td>2</td>\n",
       "      <td>1</td>\n",
       "    </tr>\n",
       "  </tbody>\n",
       "</table>\n",
       "<p>120000 rows × 14 columns</p>\n",
       "</div>"
      ],
      "text/plain": [
       "        user_id      signup_time    purchase_time  purchase_value  \\\n",
       "0        285108   7/15/2015 4:36  9/10/2015 14:17              31   \n",
       "1        131009  1/24/2015 12:29   4/13/2015 4:53              31   \n",
       "2        328855   3/11/2015 0:54   4/5/2015 12:23              16   \n",
       "3        229053   1/7/2015 13:19   1/9/2015 10:12              29   \n",
       "4        108439   2/8/2015 21:11   4/9/2015 14:26              26   \n",
       "...         ...              ...              ...             ...   \n",
       "119995   116698  2/26/2015 11:51  4/16/2015 22:57              46   \n",
       "119996   122699   8/1/2015 18:40   8/25/2015 7:56              26   \n",
       "119997   115120  7/25/2015 12:50    9/3/2015 4:10              41   \n",
       "119998    87098   4/2/2015 21:11  6/22/2015 16:51              50   \n",
       "119999   341401  7/15/2015 15:11   9/3/2015 13:45              32   \n",
       "\n",
       "            device_id  source  browser sex  age    ip_address  class  \\\n",
       "0       HZAKVUFTDOSFD  Direct   Chrome   M   49  2.818400e+09      0   \n",
       "1       XGQAJSOUJIZCC     SEO       IE   F   21  3.251268e+09      0   \n",
       "2       VCCTAYDCWKZIY  Direct       IE   M   26  2.727760e+09      0   \n",
       "3       MFFIHYNXCJLEY     SEO   Chrome   M   34  2.083420e+09      0   \n",
       "4       WMSXWGVPNIFBM     Ads  FireFox   M   33  3.207913e+09      0   \n",
       "...               ...     ...      ...  ..  ...           ...    ...   \n",
       "119995  UJYRDGZXTFFJG     Ads   Chrome   M   18  2.509395e+09      0   \n",
       "119996  EMMTCPTUYQYPX     Ads       IE   F   36  2.946612e+09      0   \n",
       "119997  YSZGGEARGETEU     SEO   Chrome   M   31  5.570629e+08      0   \n",
       "119998  BJDWRJULJZNOV     SEO   Chrome   F   43  2.687887e+09      0   \n",
       "119999  AOKZUNMPCDKVK     Ads   Chrome   F   47  1.174840e+09      0   \n",
       "\n",
       "                  country  #times_device_used  #times_ip_used  \n",
       "0           United States                   2               1  \n",
       "1          United Kingdom                   1               1  \n",
       "2           United States                   1               1  \n",
       "3       Korea Republic of                   1               1  \n",
       "4                  Brazil                   1               1  \n",
       "...                   ...                 ...             ...  \n",
       "119995        Netherlands                   1               1  \n",
       "119996              China                   1               1  \n",
       "119997      United States                   1               1  \n",
       "119998        Switzerland                   1               1  \n",
       "119999      United States                   2               1  \n",
       "\n",
       "[120000 rows x 14 columns]"
      ]
     },
     "execution_count": 24,
     "metadata": {},
     "output_type": "execute_result"
    }
   ],
   "source": [
    "## Checking the new features in the data frame\n",
    "df"
   ]
  },
  {
   "cell_type": "code",
   "execution_count": 25,
   "id": "engaged-parade",
   "metadata": {},
   "outputs": [],
   "source": [
    "## Converting time to datetime data type\n",
    "df['signup_time']=pd.to_datetime(df['signup_time'])\n",
    "df['purchase_time']=pd.to_datetime(df['purchase_time'])"
   ]
  },
  {
   "cell_type": "code",
   "execution_count": 26,
   "id": "built-penetration",
   "metadata": {},
   "outputs": [],
   "source": [
    "## Calculating time between purchase and signup in minutes\n",
    "df['time_gap']=(df['purchase_time']-df['signup_time']).astype('timedelta64[m]')"
   ]
  },
  {
   "cell_type": "code",
   "execution_count": 27,
   "id": "constitutional-delight",
   "metadata": {},
   "outputs": [
    {
     "data": {
      "text/html": [
       "<div>\n",
       "<style scoped>\n",
       "    .dataframe tbody tr th:only-of-type {\n",
       "        vertical-align: middle;\n",
       "    }\n",
       "\n",
       "    .dataframe tbody tr th {\n",
       "        vertical-align: top;\n",
       "    }\n",
       "\n",
       "    .dataframe thead th {\n",
       "        text-align: right;\n",
       "    }\n",
       "</style>\n",
       "<table border=\"1\" class=\"dataframe\">\n",
       "  <thead>\n",
       "    <tr style=\"text-align: right;\">\n",
       "      <th></th>\n",
       "      <th>user_id</th>\n",
       "      <th>signup_time</th>\n",
       "      <th>purchase_time</th>\n",
       "      <th>purchase_value</th>\n",
       "      <th>device_id</th>\n",
       "      <th>source</th>\n",
       "      <th>browser</th>\n",
       "      <th>sex</th>\n",
       "      <th>age</th>\n",
       "      <th>ip_address</th>\n",
       "      <th>class</th>\n",
       "      <th>country</th>\n",
       "      <th>#times_device_used</th>\n",
       "      <th>#times_ip_used</th>\n",
       "      <th>time_gap</th>\n",
       "    </tr>\n",
       "  </thead>\n",
       "  <tbody>\n",
       "    <tr>\n",
       "      <th>0</th>\n",
       "      <td>285108</td>\n",
       "      <td>2015-07-15 04:36:00</td>\n",
       "      <td>2015-09-10 14:17:00</td>\n",
       "      <td>31</td>\n",
       "      <td>HZAKVUFTDOSFD</td>\n",
       "      <td>Direct</td>\n",
       "      <td>Chrome</td>\n",
       "      <td>M</td>\n",
       "      <td>49</td>\n",
       "      <td>2.818400e+09</td>\n",
       "      <td>0</td>\n",
       "      <td>United States</td>\n",
       "      <td>2</td>\n",
       "      <td>1</td>\n",
       "      <td>82661.0</td>\n",
       "    </tr>\n",
       "    <tr>\n",
       "      <th>1</th>\n",
       "      <td>131009</td>\n",
       "      <td>2015-01-24 12:29:00</td>\n",
       "      <td>2015-04-13 04:53:00</td>\n",
       "      <td>31</td>\n",
       "      <td>XGQAJSOUJIZCC</td>\n",
       "      <td>SEO</td>\n",
       "      <td>IE</td>\n",
       "      <td>F</td>\n",
       "      <td>21</td>\n",
       "      <td>3.251268e+09</td>\n",
       "      <td>0</td>\n",
       "      <td>United Kingdom</td>\n",
       "      <td>1</td>\n",
       "      <td>1</td>\n",
       "      <td>113304.0</td>\n",
       "    </tr>\n",
       "    <tr>\n",
       "      <th>2</th>\n",
       "      <td>328855</td>\n",
       "      <td>2015-03-11 00:54:00</td>\n",
       "      <td>2015-04-05 12:23:00</td>\n",
       "      <td>16</td>\n",
       "      <td>VCCTAYDCWKZIY</td>\n",
       "      <td>Direct</td>\n",
       "      <td>IE</td>\n",
       "      <td>M</td>\n",
       "      <td>26</td>\n",
       "      <td>2.727760e+09</td>\n",
       "      <td>0</td>\n",
       "      <td>United States</td>\n",
       "      <td>1</td>\n",
       "      <td>1</td>\n",
       "      <td>36689.0</td>\n",
       "    </tr>\n",
       "    <tr>\n",
       "      <th>3</th>\n",
       "      <td>229053</td>\n",
       "      <td>2015-01-07 13:19:00</td>\n",
       "      <td>2015-01-09 10:12:00</td>\n",
       "      <td>29</td>\n",
       "      <td>MFFIHYNXCJLEY</td>\n",
       "      <td>SEO</td>\n",
       "      <td>Chrome</td>\n",
       "      <td>M</td>\n",
       "      <td>34</td>\n",
       "      <td>2.083420e+09</td>\n",
       "      <td>0</td>\n",
       "      <td>Korea Republic of</td>\n",
       "      <td>1</td>\n",
       "      <td>1</td>\n",
       "      <td>2693.0</td>\n",
       "    </tr>\n",
       "    <tr>\n",
       "      <th>4</th>\n",
       "      <td>108439</td>\n",
       "      <td>2015-02-08 21:11:00</td>\n",
       "      <td>2015-04-09 14:26:00</td>\n",
       "      <td>26</td>\n",
       "      <td>WMSXWGVPNIFBM</td>\n",
       "      <td>Ads</td>\n",
       "      <td>FireFox</td>\n",
       "      <td>M</td>\n",
       "      <td>33</td>\n",
       "      <td>3.207913e+09</td>\n",
       "      <td>0</td>\n",
       "      <td>Brazil</td>\n",
       "      <td>1</td>\n",
       "      <td>1</td>\n",
       "      <td>85995.0</td>\n",
       "    </tr>\n",
       "  </tbody>\n",
       "</table>\n",
       "</div>"
      ],
      "text/plain": [
       "   user_id         signup_time       purchase_time  purchase_value  \\\n",
       "0   285108 2015-07-15 04:36:00 2015-09-10 14:17:00              31   \n",
       "1   131009 2015-01-24 12:29:00 2015-04-13 04:53:00              31   \n",
       "2   328855 2015-03-11 00:54:00 2015-04-05 12:23:00              16   \n",
       "3   229053 2015-01-07 13:19:00 2015-01-09 10:12:00              29   \n",
       "4   108439 2015-02-08 21:11:00 2015-04-09 14:26:00              26   \n",
       "\n",
       "       device_id  source  browser sex  age    ip_address  class  \\\n",
       "0  HZAKVUFTDOSFD  Direct   Chrome   M   49  2.818400e+09      0   \n",
       "1  XGQAJSOUJIZCC     SEO       IE   F   21  3.251268e+09      0   \n",
       "2  VCCTAYDCWKZIY  Direct       IE   M   26  2.727760e+09      0   \n",
       "3  MFFIHYNXCJLEY     SEO   Chrome   M   34  2.083420e+09      0   \n",
       "4  WMSXWGVPNIFBM     Ads  FireFox   M   33  3.207913e+09      0   \n",
       "\n",
       "             country  #times_device_used  #times_ip_used  time_gap  \n",
       "0      United States                   2               1   82661.0  \n",
       "1     United Kingdom                   1               1  113304.0  \n",
       "2      United States                   1               1   36689.0  \n",
       "3  Korea Republic of                   1               1    2693.0  \n",
       "4             Brazil                   1               1   85995.0  "
      ]
     },
     "execution_count": 27,
     "metadata": {},
     "output_type": "execute_result"
    }
   ],
   "source": [
    "df.head()"
   ]
  },
  {
   "cell_type": "code",
   "execution_count": 28,
   "id": "fantastic-gardening",
   "metadata": {},
   "outputs": [
    {
     "data": {
      "text/plain": [
       "(5936, 15)"
      ]
     },
     "execution_count": 28,
     "metadata": {},
     "output_type": "execute_result"
    }
   ],
   "source": [
    "## Checking immediate transcations\n",
    "df[df['time_gap']==0].shape"
   ]
  },
  {
   "cell_type": "code",
   "execution_count": 29,
   "id": "looking-civilian",
   "metadata": {},
   "outputs": [
    {
     "data": {
      "text/plain": [
       "(5936, 15)"
      ]
     },
     "execution_count": 29,
     "metadata": {},
     "output_type": "execute_result"
    }
   ],
   "source": [
    "## Checking immediate transactions that are fraudlent\n",
    "df[(df['time_gap']==0) & (df['class']==1)].shape"
   ]
  },
  {
   "cell_type": "code",
   "execution_count": 30,
   "id": "closed-eligibility",
   "metadata": {},
   "outputs": [],
   "source": [
    "## It is observed that all the transactions that occured within 0 mins of signing up are fraudlent, This indicates that the feature time_gap should be one of the most important features"
   ]
  },
  {
   "cell_type": "code",
   "execution_count": null,
   "id": "recent-angle",
   "metadata": {},
   "outputs": [],
   "source": []
  },
  {
   "cell_type": "code",
   "execution_count": 31,
   "id": "secondary-eating",
   "metadata": {},
   "outputs": [],
   "source": [
    "#### Mapping Values to Browsers (1:Chrome,2:IE,3:Safari,4:Firefox,5:Opera)"
   ]
  },
  {
   "cell_type": "code",
   "execution_count": 32,
   "id": "legislative-wagon",
   "metadata": {},
   "outputs": [
    {
     "data": {
      "text/plain": [
       "Chrome     48652\n",
       "IE         29138\n",
       "Safari     19620\n",
       "FireFox    19615\n",
       "Opera       2975\n",
       "Name: browser, dtype: int64"
      ]
     },
     "execution_count": 32,
     "metadata": {},
     "output_type": "execute_result"
    }
   ],
   "source": [
    "df['browser'].value_counts()"
   ]
  },
  {
   "cell_type": "code",
   "execution_count": 33,
   "id": "adjustable-politics",
   "metadata": {},
   "outputs": [],
   "source": [
    "df['browser']=df['browser'].map({'Chrome':1,'IE':2,'Safari':3,'FireFox':4,'Opera':5})"
   ]
  },
  {
   "cell_type": "code",
   "execution_count": null,
   "id": "detailed-halifax",
   "metadata": {},
   "outputs": [],
   "source": []
  },
  {
   "cell_type": "code",
   "execution_count": 34,
   "id": "forbidden-chicago",
   "metadata": {},
   "outputs": [],
   "source": [
    "#### Mapping Values to Source (1:SEO,2:Ads,3:Direct)"
   ]
  },
  {
   "cell_type": "code",
   "execution_count": 35,
   "id": "worst-audience",
   "metadata": {},
   "outputs": [
    {
     "data": {
      "text/plain": [
       "SEO       48297\n",
       "Ads       47461\n",
       "Direct    24242\n",
       "Name: source, dtype: int64"
      ]
     },
     "execution_count": 35,
     "metadata": {},
     "output_type": "execute_result"
    }
   ],
   "source": [
    "df['source'].value_counts()"
   ]
  },
  {
   "cell_type": "code",
   "execution_count": 36,
   "id": "accessible-following",
   "metadata": {},
   "outputs": [],
   "source": [
    "df['source']=df['source'].map({'SEO':1,'Ads':2,'Direct':3})"
   ]
  },
  {
   "cell_type": "code",
   "execution_count": null,
   "id": "rational-athletics",
   "metadata": {},
   "outputs": [],
   "source": []
  },
  {
   "cell_type": "code",
   "execution_count": 37,
   "id": "federal-portsmouth",
   "metadata": {},
   "outputs": [],
   "source": [
    "#### Mapping Values to Gender (0:Male,1:Female)"
   ]
  },
  {
   "cell_type": "code",
   "execution_count": 38,
   "id": "durable-bangkok",
   "metadata": {},
   "outputs": [],
   "source": [
    "df['sex']=df['sex'].map({'M':0,'F':1})"
   ]
  },
  {
   "cell_type": "code",
   "execution_count": null,
   "id": "wrong-there",
   "metadata": {},
   "outputs": [],
   "source": []
  },
  {
   "cell_type": "code",
   "execution_count": 39,
   "id": "homeless-glucose",
   "metadata": {},
   "outputs": [
    {
     "data": {
      "text/html": [
       "<div>\n",
       "<style scoped>\n",
       "    .dataframe tbody tr th:only-of-type {\n",
       "        vertical-align: middle;\n",
       "    }\n",
       "\n",
       "    .dataframe tbody tr th {\n",
       "        vertical-align: top;\n",
       "    }\n",
       "\n",
       "    .dataframe thead th {\n",
       "        text-align: right;\n",
       "    }\n",
       "</style>\n",
       "<table border=\"1\" class=\"dataframe\">\n",
       "  <thead>\n",
       "    <tr style=\"text-align: right;\">\n",
       "      <th></th>\n",
       "      <th>user_id</th>\n",
       "      <th>signup_time</th>\n",
       "      <th>purchase_time</th>\n",
       "      <th>purchase_value</th>\n",
       "      <th>device_id</th>\n",
       "      <th>source</th>\n",
       "      <th>browser</th>\n",
       "      <th>sex</th>\n",
       "      <th>age</th>\n",
       "      <th>ip_address</th>\n",
       "      <th>class</th>\n",
       "      <th>country</th>\n",
       "      <th>#times_device_used</th>\n",
       "      <th>#times_ip_used</th>\n",
       "      <th>time_gap</th>\n",
       "    </tr>\n",
       "  </thead>\n",
       "  <tbody>\n",
       "    <tr>\n",
       "      <th>0</th>\n",
       "      <td>285108</td>\n",
       "      <td>2015-07-15 04:36:00</td>\n",
       "      <td>2015-09-10 14:17:00</td>\n",
       "      <td>31</td>\n",
       "      <td>HZAKVUFTDOSFD</td>\n",
       "      <td>3</td>\n",
       "      <td>1</td>\n",
       "      <td>0</td>\n",
       "      <td>49</td>\n",
       "      <td>2.818400e+09</td>\n",
       "      <td>0</td>\n",
       "      <td>United States</td>\n",
       "      <td>2</td>\n",
       "      <td>1</td>\n",
       "      <td>82661.0</td>\n",
       "    </tr>\n",
       "    <tr>\n",
       "      <th>1</th>\n",
       "      <td>131009</td>\n",
       "      <td>2015-01-24 12:29:00</td>\n",
       "      <td>2015-04-13 04:53:00</td>\n",
       "      <td>31</td>\n",
       "      <td>XGQAJSOUJIZCC</td>\n",
       "      <td>1</td>\n",
       "      <td>2</td>\n",
       "      <td>1</td>\n",
       "      <td>21</td>\n",
       "      <td>3.251268e+09</td>\n",
       "      <td>0</td>\n",
       "      <td>United Kingdom</td>\n",
       "      <td>1</td>\n",
       "      <td>1</td>\n",
       "      <td>113304.0</td>\n",
       "    </tr>\n",
       "    <tr>\n",
       "      <th>2</th>\n",
       "      <td>328855</td>\n",
       "      <td>2015-03-11 00:54:00</td>\n",
       "      <td>2015-04-05 12:23:00</td>\n",
       "      <td>16</td>\n",
       "      <td>VCCTAYDCWKZIY</td>\n",
       "      <td>3</td>\n",
       "      <td>2</td>\n",
       "      <td>0</td>\n",
       "      <td>26</td>\n",
       "      <td>2.727760e+09</td>\n",
       "      <td>0</td>\n",
       "      <td>United States</td>\n",
       "      <td>1</td>\n",
       "      <td>1</td>\n",
       "      <td>36689.0</td>\n",
       "    </tr>\n",
       "    <tr>\n",
       "      <th>3</th>\n",
       "      <td>229053</td>\n",
       "      <td>2015-01-07 13:19:00</td>\n",
       "      <td>2015-01-09 10:12:00</td>\n",
       "      <td>29</td>\n",
       "      <td>MFFIHYNXCJLEY</td>\n",
       "      <td>1</td>\n",
       "      <td>1</td>\n",
       "      <td>0</td>\n",
       "      <td>34</td>\n",
       "      <td>2.083420e+09</td>\n",
       "      <td>0</td>\n",
       "      <td>Korea Republic of</td>\n",
       "      <td>1</td>\n",
       "      <td>1</td>\n",
       "      <td>2693.0</td>\n",
       "    </tr>\n",
       "    <tr>\n",
       "      <th>4</th>\n",
       "      <td>108439</td>\n",
       "      <td>2015-02-08 21:11:00</td>\n",
       "      <td>2015-04-09 14:26:00</td>\n",
       "      <td>26</td>\n",
       "      <td>WMSXWGVPNIFBM</td>\n",
       "      <td>2</td>\n",
       "      <td>4</td>\n",
       "      <td>0</td>\n",
       "      <td>33</td>\n",
       "      <td>3.207913e+09</td>\n",
       "      <td>0</td>\n",
       "      <td>Brazil</td>\n",
       "      <td>1</td>\n",
       "      <td>1</td>\n",
       "      <td>85995.0</td>\n",
       "    </tr>\n",
       "  </tbody>\n",
       "</table>\n",
       "</div>"
      ],
      "text/plain": [
       "   user_id         signup_time       purchase_time  purchase_value  \\\n",
       "0   285108 2015-07-15 04:36:00 2015-09-10 14:17:00              31   \n",
       "1   131009 2015-01-24 12:29:00 2015-04-13 04:53:00              31   \n",
       "2   328855 2015-03-11 00:54:00 2015-04-05 12:23:00              16   \n",
       "3   229053 2015-01-07 13:19:00 2015-01-09 10:12:00              29   \n",
       "4   108439 2015-02-08 21:11:00 2015-04-09 14:26:00              26   \n",
       "\n",
       "       device_id  source  browser  sex  age    ip_address  class  \\\n",
       "0  HZAKVUFTDOSFD       3        1    0   49  2.818400e+09      0   \n",
       "1  XGQAJSOUJIZCC       1        2    1   21  3.251268e+09      0   \n",
       "2  VCCTAYDCWKZIY       3        2    0   26  2.727760e+09      0   \n",
       "3  MFFIHYNXCJLEY       1        1    0   34  2.083420e+09      0   \n",
       "4  WMSXWGVPNIFBM       2        4    0   33  3.207913e+09      0   \n",
       "\n",
       "             country  #times_device_used  #times_ip_used  time_gap  \n",
       "0      United States                   2               1   82661.0  \n",
       "1     United Kingdom                   1               1  113304.0  \n",
       "2      United States                   1               1   36689.0  \n",
       "3  Korea Republic of                   1               1    2693.0  \n",
       "4             Brazil                   1               1   85995.0  "
      ]
     },
     "execution_count": 39,
     "metadata": {},
     "output_type": "execute_result"
    }
   ],
   "source": [
    "## Checking data frame \n",
    "df.head()"
   ]
  },
  {
   "cell_type": "code",
   "execution_count": 40,
   "id": "experimental-michigan",
   "metadata": {},
   "outputs": [
    {
     "data": {
      "image/png": "[encoded data removed]",
      "text/plain": [
       "<Figure size 720x720 with 4 Axes>"
      ]
     },
     "metadata": {
      "needs_background": "light"
     },
     "output_type": "display_data"
    }
   ],
   "source": [
    "#### Checking for distributions of continous variables purchase_value and age based on class\n",
    "plt.figure(figsize=(10,10))\n",
    "plt.subplot(221)\n",
    "sns.boxplot(x=df['class'],y=df['purchase_value'])\n",
    "plt.subplot(222)\n",
    "sns.boxplot(x=df['class'],y=df['age'])\n",
    "plt.subplot(223)\n",
    "sns.histplot(data=df,x=\"age\",hue='class',kde=True,bins=50)\n",
    "plt.subplot(224)\n",
    "sns.histplot(data=df,x=\"purchase_value\",hue='class',kde=True,bins=50)\n",
    "\n",
    "plt.show()\n",
    "\n"
   ]
  },
  {
   "cell_type": "code",
   "execution_count": 41,
   "id": "preceding-myrtle",
   "metadata": {},
   "outputs": [],
   "source": [
    "##There are few outliers but some of them seem to be genuine transactions"
   ]
  },
  {
   "cell_type": "code",
   "execution_count": 42,
   "id": "twenty-railway",
   "metadata": {},
   "outputs": [],
   "source": [
    "## Converting country names to numeric classes\n",
    "\n",
    "df['country']=df['country'].factorize()[0]"
   ]
  },
  {
   "cell_type": "code",
   "execution_count": 43,
   "id": "confident-quebec",
   "metadata": {},
   "outputs": [],
   "source": [
    "#### Converting Categorical columns to category type\n",
    "cat_cols=['source','browser','sex','class','country','device_id','user_id']"
   ]
  },
  {
   "cell_type": "code",
   "execution_count": 44,
   "id": "alternative-distributor",
   "metadata": {},
   "outputs": [],
   "source": [
    "for i in cat_cols:\n",
    "    df[i]=df[i].astype('category')"
   ]
  },
  {
   "cell_type": "code",
   "execution_count": 45,
   "id": "rotary-freeware",
   "metadata": {},
   "outputs": [
    {
     "data": {
      "text/html": [
       "<div>\n",
       "<style scoped>\n",
       "    .dataframe tbody tr th:only-of-type {\n",
       "        vertical-align: middle;\n",
       "    }\n",
       "\n",
       "    .dataframe tbody tr th {\n",
       "        vertical-align: top;\n",
       "    }\n",
       "\n",
       "    .dataframe thead th {\n",
       "        text-align: right;\n",
       "    }\n",
       "</style>\n",
       "<table border=\"1\" class=\"dataframe\">\n",
       "  <thead>\n",
       "    <tr style=\"text-align: right;\">\n",
       "      <th></th>\n",
       "      <th>user_id</th>\n",
       "      <th>signup_time</th>\n",
       "      <th>purchase_time</th>\n",
       "      <th>purchase_value</th>\n",
       "      <th>device_id</th>\n",
       "      <th>source</th>\n",
       "      <th>browser</th>\n",
       "      <th>sex</th>\n",
       "      <th>age</th>\n",
       "      <th>ip_address</th>\n",
       "      <th>class</th>\n",
       "      <th>country</th>\n",
       "      <th>#times_device_used</th>\n",
       "      <th>#times_ip_used</th>\n",
       "      <th>time_gap</th>\n",
       "    </tr>\n",
       "  </thead>\n",
       "  <tbody>\n",
       "    <tr>\n",
       "      <th>0</th>\n",
       "      <td>285108</td>\n",
       "      <td>2015-07-15 04:36:00</td>\n",
       "      <td>2015-09-10 14:17:00</td>\n",
       "      <td>31</td>\n",
       "      <td>HZAKVUFTDOSFD</td>\n",
       "      <td>3</td>\n",
       "      <td>1</td>\n",
       "      <td>0</td>\n",
       "      <td>49</td>\n",
       "      <td>2.818400e+09</td>\n",
       "      <td>0</td>\n",
       "      <td>0</td>\n",
       "      <td>2</td>\n",
       "      <td>1</td>\n",
       "      <td>82661.0</td>\n",
       "    </tr>\n",
       "    <tr>\n",
       "      <th>1</th>\n",
       "      <td>131009</td>\n",
       "      <td>2015-01-24 12:29:00</td>\n",
       "      <td>2015-04-13 04:53:00</td>\n",
       "      <td>31</td>\n",
       "      <td>XGQAJSOUJIZCC</td>\n",
       "      <td>1</td>\n",
       "      <td>2</td>\n",
       "      <td>1</td>\n",
       "      <td>21</td>\n",
       "      <td>3.251268e+09</td>\n",
       "      <td>0</td>\n",
       "      <td>1</td>\n",
       "      <td>1</td>\n",
       "      <td>1</td>\n",
       "      <td>113304.0</td>\n",
       "    </tr>\n",
       "    <tr>\n",
       "      <th>2</th>\n",
       "      <td>328855</td>\n",
       "      <td>2015-03-11 00:54:00</td>\n",
       "      <td>2015-04-05 12:23:00</td>\n",
       "      <td>16</td>\n",
       "      <td>VCCTAYDCWKZIY</td>\n",
       "      <td>3</td>\n",
       "      <td>2</td>\n",
       "      <td>0</td>\n",
       "      <td>26</td>\n",
       "      <td>2.727760e+09</td>\n",
       "      <td>0</td>\n",
       "      <td>0</td>\n",
       "      <td>1</td>\n",
       "      <td>1</td>\n",
       "      <td>36689.0</td>\n",
       "    </tr>\n",
       "    <tr>\n",
       "      <th>3</th>\n",
       "      <td>229053</td>\n",
       "      <td>2015-01-07 13:19:00</td>\n",
       "      <td>2015-01-09 10:12:00</td>\n",
       "      <td>29</td>\n",
       "      <td>MFFIHYNXCJLEY</td>\n",
       "      <td>1</td>\n",
       "      <td>1</td>\n",
       "      <td>0</td>\n",
       "      <td>34</td>\n",
       "      <td>2.083420e+09</td>\n",
       "      <td>0</td>\n",
       "      <td>2</td>\n",
       "      <td>1</td>\n",
       "      <td>1</td>\n",
       "      <td>2693.0</td>\n",
       "    </tr>\n",
       "    <tr>\n",
       "      <th>4</th>\n",
       "      <td>108439</td>\n",
       "      <td>2015-02-08 21:11:00</td>\n",
       "      <td>2015-04-09 14:26:00</td>\n",
       "      <td>26</td>\n",
       "      <td>WMSXWGVPNIFBM</td>\n",
       "      <td>2</td>\n",
       "      <td>4</td>\n",
       "      <td>0</td>\n",
       "      <td>33</td>\n",
       "      <td>3.207913e+09</td>\n",
       "      <td>0</td>\n",
       "      <td>3</td>\n",
       "      <td>1</td>\n",
       "      <td>1</td>\n",
       "      <td>85995.0</td>\n",
       "    </tr>\n",
       "  </tbody>\n",
       "</table>\n",
       "</div>"
      ],
      "text/plain": [
       "  user_id         signup_time       purchase_time  purchase_value  \\\n",
       "0  285108 2015-07-15 04:36:00 2015-09-10 14:17:00              31   \n",
       "1  131009 2015-01-24 12:29:00 2015-04-13 04:53:00              31   \n",
       "2  328855 2015-03-11 00:54:00 2015-04-05 12:23:00              16   \n",
       "3  229053 2015-01-07 13:19:00 2015-01-09 10:12:00              29   \n",
       "4  108439 2015-02-08 21:11:00 2015-04-09 14:26:00              26   \n",
       "\n",
       "       device_id source browser sex  age    ip_address class country  \\\n",
       "0  HZAKVUFTDOSFD      3       1   0   49  2.818400e+09     0       0   \n",
       "1  XGQAJSOUJIZCC      1       2   1   21  3.251268e+09     0       1   \n",
       "2  VCCTAYDCWKZIY      3       2   0   26  2.727760e+09     0       0   \n",
       "3  MFFIHYNXCJLEY      1       1   0   34  2.083420e+09     0       2   \n",
       "4  WMSXWGVPNIFBM      2       4   0   33  3.207913e+09     0       3   \n",
       "\n",
       "   #times_device_used  #times_ip_used  time_gap  \n",
       "0                   2               1   82661.0  \n",
       "1                   1               1  113304.0  \n",
       "2                   1               1   36689.0  \n",
       "3                   1               1    2693.0  \n",
       "4                   1               1   85995.0  "
      ]
     },
     "execution_count": 45,
     "metadata": {},
     "output_type": "execute_result"
    }
   ],
   "source": [
    "## Checking data frame after all feature engineering steps\n",
    "df.head()"
   ]
  },
  {
   "cell_type": "code",
   "execution_count": 46,
   "id": "proud-arrest",
   "metadata": {},
   "outputs": [],
   "source": [
    "### Checking class imbalance"
   ]
  },
  {
   "cell_type": "code",
   "execution_count": 47,
   "id": "norwegian-numbers",
   "metadata": {
    "scrolled": false
   },
   "outputs": [
    {
     "data": {
      "text/plain": [
       "<AxesSubplot:xlabel='class', ylabel='count'>"
      ]
     },
     "execution_count": 47,
     "metadata": {},
     "output_type": "execute_result"
    },
    {
     "data": {
      "image/png": "[encoded data removed]",
      "text/plain": [
       "<Figure size 720x432 with 1 Axes>"
      ]
     },
     "metadata": {
      "needs_background": "light"
     },
     "output_type": "display_data"
    }
   ],
   "source": [
    "plt.figure(figsize=(10,6))\n",
    "sns.countplot(x=df['class'])"
   ]
  },
  {
   "cell_type": "code",
   "execution_count": 48,
   "id": "specific-monday",
   "metadata": {},
   "outputs": [],
   "source": [
    "## There is a clear imbalance in the data"
   ]
  },
  {
   "cell_type": "code",
   "execution_count": null,
   "id": "through-liberia",
   "metadata": {},
   "outputs": [],
   "source": []
  },
  {
   "cell_type": "markdown",
   "id": "secure-lover",
   "metadata": {},
   "source": [
    "## Prediciton Models"
   ]
  },
  {
   "cell_type": "code",
   "execution_count": 49,
   "id": "documented-sleeping",
   "metadata": {},
   "outputs": [],
   "source": [
    "## Loading libraries required"
   ]
  },
  {
   "cell_type": "code",
   "execution_count": 50,
   "id": "married-significance",
   "metadata": {},
   "outputs": [],
   "source": [
    "from sklearn.model_selection import train_test_split,StratifiedKFold"
   ]
  },
  {
   "cell_type": "code",
   "execution_count": 51,
   "id": "oriented-insured",
   "metadata": {},
   "outputs": [],
   "source": [
    "from sklearn.metrics import classification_report,plot_confusion_matrix,recall_score,accuracy_score,precision_score,plot_roc_curve,precision_score,accuracy_score"
   ]
  },
  {
   "cell_type": "code",
   "execution_count": null,
   "id": "fourth-grocery",
   "metadata": {},
   "outputs": [],
   "source": []
  },
  {
   "cell_type": "code",
   "execution_count": 52,
   "id": "sweet-depth",
   "metadata": {},
   "outputs": [],
   "source": [
    "## Splitting data into features and target\n",
    "X=df.drop(['user_id','signup_time','purchase_time','device_id','class'],axis=1)\n",
    "y=df['class']"
   ]
  },
  {
   "cell_type": "code",
   "execution_count": 53,
   "id": "ancient-expert",
   "metadata": {},
   "outputs": [],
   "source": [
    "## Splitting data into Train and Test data\n",
    "X_train,X_test,y_train,y_test= train_test_split(X,y,test_size=0.3,stratify=y,random_state=42)"
   ]
  },
  {
   "cell_type": "code",
   "execution_count": 54,
   "id": "dutch-nursery",
   "metadata": {},
   "outputs": [],
   "source": [
    "## Creating Cross Validation sets for validation before testing\n",
    "cv=StratifiedKFold(n_splits=5,random_state=42,shuffle=True)"
   ]
  },
  {
   "cell_type": "code",
   "execution_count": null,
   "id": "tropical-mambo",
   "metadata": {},
   "outputs": [],
   "source": []
  },
  {
   "cell_type": "markdown",
   "id": "coral-stamp",
   "metadata": {},
   "source": [
    "### Oversampling data to balance classes"
   ]
  },
  {
   "cell_type": "code",
   "execution_count": 55,
   "id": "lasting-digest",
   "metadata": {},
   "outputs": [],
   "source": [
    "from imblearn.over_sampling import SMOTENC"
   ]
  },
  {
   "cell_type": "code",
   "execution_count": 56,
   "id": "african-oasis",
   "metadata": {},
   "outputs": [],
   "source": [
    "## Using SMOTE to oversample data to balance classes\n",
    "sm=SMOTENC(categorical_features=[1,2,3,6],random_state=42,sampling_strategy='minority') ### resamples data that doesn't belong to majority class"
   ]
  },
  {
   "cell_type": "code",
   "execution_count": 57,
   "id": "vietnamese-stadium",
   "metadata": {},
   "outputs": [],
   "source": [
    "X_res,y_res=sm.fit_resample(X_train,y_train)"
   ]
  },
  {
   "cell_type": "code",
   "execution_count": 58,
   "id": "decreased-kingdom",
   "metadata": {},
   "outputs": [
    {
     "data": {
      "text/html": [
       "<div>\n",
       "<style scoped>\n",
       "    .dataframe tbody tr th:only-of-type {\n",
       "        vertical-align: middle;\n",
       "    }\n",
       "\n",
       "    .dataframe tbody tr th {\n",
       "        vertical-align: top;\n",
       "    }\n",
       "\n",
       "    .dataframe thead th {\n",
       "        text-align: right;\n",
       "    }\n",
       "</style>\n",
       "<table border=\"1\" class=\"dataframe\">\n",
       "  <thead>\n",
       "    <tr style=\"text-align: right;\">\n",
       "      <th></th>\n",
       "      <th>purchase_value</th>\n",
       "      <th>source</th>\n",
       "      <th>browser</th>\n",
       "      <th>sex</th>\n",
       "      <th>age</th>\n",
       "      <th>ip_address</th>\n",
       "      <th>country</th>\n",
       "      <th>#times_device_used</th>\n",
       "      <th>#times_ip_used</th>\n",
       "      <th>time_gap</th>\n",
       "    </tr>\n",
       "  </thead>\n",
       "  <tbody>\n",
       "    <tr>\n",
       "      <th>0</th>\n",
       "      <td>80</td>\n",
       "      <td>2</td>\n",
       "      <td>3</td>\n",
       "      <td>1</td>\n",
       "      <td>33</td>\n",
       "      <td>2.138401e+09</td>\n",
       "      <td>4</td>\n",
       "      <td>1</td>\n",
       "      <td>1</td>\n",
       "      <td>29578.000000</td>\n",
       "    </tr>\n",
       "    <tr>\n",
       "      <th>1</th>\n",
       "      <td>56</td>\n",
       "      <td>2</td>\n",
       "      <td>2</td>\n",
       "      <td>0</td>\n",
       "      <td>28</td>\n",
       "      <td>1.743976e+09</td>\n",
       "      <td>71</td>\n",
       "      <td>1</td>\n",
       "      <td>1</td>\n",
       "      <td>44656.000000</td>\n",
       "    </tr>\n",
       "    <tr>\n",
       "      <th>2</th>\n",
       "      <td>15</td>\n",
       "      <td>1</td>\n",
       "      <td>1</td>\n",
       "      <td>0</td>\n",
       "      <td>37</td>\n",
       "      <td>3.070562e+09</td>\n",
       "      <td>8</td>\n",
       "      <td>1</td>\n",
       "      <td>1</td>\n",
       "      <td>10093.000000</td>\n",
       "    </tr>\n",
       "    <tr>\n",
       "      <th>3</th>\n",
       "      <td>89</td>\n",
       "      <td>2</td>\n",
       "      <td>5</td>\n",
       "      <td>1</td>\n",
       "      <td>35</td>\n",
       "      <td>3.706374e+09</td>\n",
       "      <td>8</td>\n",
       "      <td>1</td>\n",
       "      <td>1</td>\n",
       "      <td>11190.000000</td>\n",
       "    </tr>\n",
       "    <tr>\n",
       "      <th>4</th>\n",
       "      <td>9</td>\n",
       "      <td>1</td>\n",
       "      <td>4</td>\n",
       "      <td>0</td>\n",
       "      <td>37</td>\n",
       "      <td>1.336691e+09</td>\n",
       "      <td>12</td>\n",
       "      <td>1</td>\n",
       "      <td>1</td>\n",
       "      <td>104830.000000</td>\n",
       "    </tr>\n",
       "    <tr>\n",
       "      <th>...</th>\n",
       "      <td>...</td>\n",
       "      <td>...</td>\n",
       "      <td>...</td>\n",
       "      <td>...</td>\n",
       "      <td>...</td>\n",
       "      <td>...</td>\n",
       "      <td>...</td>\n",
       "      <td>...</td>\n",
       "      <td>...</td>\n",
       "      <td>...</td>\n",
       "    </tr>\n",
       "    <tr>\n",
       "      <th>152223</th>\n",
       "      <td>9</td>\n",
       "      <td>2</td>\n",
       "      <td>2</td>\n",
       "      <td>1</td>\n",
       "      <td>46</td>\n",
       "      <td>2.300419e+09</td>\n",
       "      <td>0</td>\n",
       "      <td>11</td>\n",
       "      <td>11</td>\n",
       "      <td>0.000000</td>\n",
       "    </tr>\n",
       "    <tr>\n",
       "      <th>152224</th>\n",
       "      <td>58</td>\n",
       "      <td>1</td>\n",
       "      <td>1</td>\n",
       "      <td>1</td>\n",
       "      <td>40</td>\n",
       "      <td>1.876389e+09</td>\n",
       "      <td>8</td>\n",
       "      <td>1</td>\n",
       "      <td>1</td>\n",
       "      <td>125814.913036</td>\n",
       "    </tr>\n",
       "    <tr>\n",
       "      <th>152225</th>\n",
       "      <td>24</td>\n",
       "      <td>2</td>\n",
       "      <td>3</td>\n",
       "      <td>0</td>\n",
       "      <td>19</td>\n",
       "      <td>3.439851e+09</td>\n",
       "      <td>0</td>\n",
       "      <td>12</td>\n",
       "      <td>12</td>\n",
       "      <td>0.000000</td>\n",
       "    </tr>\n",
       "    <tr>\n",
       "      <th>152226</th>\n",
       "      <td>33</td>\n",
       "      <td>1</td>\n",
       "      <td>1</td>\n",
       "      <td>0</td>\n",
       "      <td>32</td>\n",
       "      <td>5.459210e+08</td>\n",
       "      <td>0</td>\n",
       "      <td>6</td>\n",
       "      <td>6</td>\n",
       "      <td>0.000000</td>\n",
       "    </tr>\n",
       "    <tr>\n",
       "      <th>152227</th>\n",
       "      <td>79</td>\n",
       "      <td>2</td>\n",
       "      <td>2</td>\n",
       "      <td>0</td>\n",
       "      <td>41</td>\n",
       "      <td>6.547101e+08</td>\n",
       "      <td>2</td>\n",
       "      <td>10</td>\n",
       "      <td>10</td>\n",
       "      <td>0.000000</td>\n",
       "    </tr>\n",
       "  </tbody>\n",
       "</table>\n",
       "<p>152228 rows × 10 columns</p>\n",
       "</div>"
      ],
      "text/plain": [
       "        purchase_value source browser sex  age    ip_address country  \\\n",
       "0                   80      2       3   1   33  2.138401e+09       4   \n",
       "1                   56      2       2   0   28  1.743976e+09      71   \n",
       "2                   15      1       1   0   37  3.070562e+09       8   \n",
       "3                   89      2       5   1   35  3.706374e+09       8   \n",
       "4                    9      1       4   0   37  1.336691e+09      12   \n",
       "...                ...    ...     ...  ..  ...           ...     ...   \n",
       "152223               9      2       2   1   46  2.300419e+09       0   \n",
       "152224              58      1       1   1   40  1.876389e+09       8   \n",
       "152225              24      2       3   0   19  3.439851e+09       0   \n",
       "152226              33      1       1   0   32  5.459210e+08       0   \n",
       "152227              79      2       2   0   41  6.547101e+08       2   \n",
       "\n",
       "        #times_device_used  #times_ip_used       time_gap  \n",
       "0                        1               1   29578.000000  \n",
       "1                        1               1   44656.000000  \n",
       "2                        1               1   10093.000000  \n",
       "3                        1               1   11190.000000  \n",
       "4                        1               1  104830.000000  \n",
       "...                    ...             ...            ...  \n",
       "152223                  11              11       0.000000  \n",
       "152224                   1               1  125814.913036  \n",
       "152225                  12              12       0.000000  \n",
       "152226                   6               6       0.000000  \n",
       "152227                  10              10       0.000000  \n",
       "\n",
       "[152228 rows x 10 columns]"
      ]
     },
     "execution_count": 58,
     "metadata": {},
     "output_type": "execute_result"
    }
   ],
   "source": [
    "X_res"
   ]
  },
  {
   "cell_type": "code",
   "execution_count": null,
   "id": "fitting-halifax",
   "metadata": {},
   "outputs": [],
   "source": []
  },
  {
   "cell_type": "code",
   "execution_count": 203,
   "id": "cheap-trust",
   "metadata": {},
   "outputs": [
    {
     "data": {
      "image/png": "[encoded data removed]",
      "text/plain": [
       "<Figure size 432x288 with 1 Axes>"
      ]
     },
     "metadata": {
      "needs_background": "light"
     },
     "output_type": "display_data"
    }
   ],
   "source": [
    "sns.countplot(x=y_res)\n",
    "plt.show()"
   ]
  },
  {
   "cell_type": "code",
   "execution_count": 60,
   "id": "initial-output",
   "metadata": {},
   "outputs": [],
   "source": [
    "## Splitting data using train test split, test data obtained in this data can be considered as validation set"
   ]
  },
  {
   "cell_type": "code",
   "execution_count": 61,
   "id": "heated-bread",
   "metadata": {},
   "outputs": [],
   "source": [
    "X_res_train,X_res_test,y_res_train,y_res_test= train_test_split(X_res,y_res,random_state=42,stratify=y_res,test_size=0.3)"
   ]
  },
  {
   "cell_type": "code",
   "execution_count": null,
   "id": "historic-vessel",
   "metadata": {},
   "outputs": [],
   "source": [
    "## Importing metrics\n",
    "\n",
    "from sklearn.metrics import precision_score,recall_score,accuracy_score,roc_curve,precision_recall_curve,log_loss"
   ]
  },
  {
   "cell_type": "code",
   "execution_count": null,
   "id": "interesting-supervision",
   "metadata": {},
   "outputs": [],
   "source": []
  },
  {
   "cell_type": "code",
   "execution_count": 63,
   "id": "public-cylinder",
   "metadata": {},
   "outputs": [],
   "source": [
    "def plot_roc_curve(y_true,y_pred):\n",
    "    '''Plots ROC curve\n",
    "    Input:y_true-True labels\n",
    "    y_pred-Predicted Labels'''\n",
    "    from sklearn.metrics import roc_curve,auc\n",
    "    fpr,tpr,threshold=roc_curve(y_true,y_pred)\n",
    "    plt.title('Receiver Operating Characteristic')\n",
    "    plt.plot(fpr, tpr, 'b', label = 'AUC = %0.2f' %auc(fpr,tpr))\n",
    "    plt.legend(loc = 'lower right')\n",
    "    plt.plot([0, 1], [0, 1],'r--')\n",
    "    plt.xlim([0, 1])\n",
    "    plt.ylim([0, 1])\n",
    "    plt.ylabel('True Positive Rate')\n",
    "    plt.xlabel('False Positive Rate')\n",
    "    "
   ]
  },
  {
   "cell_type": "code",
   "execution_count": 64,
   "id": "ancient-concept",
   "metadata": {},
   "outputs": [],
   "source": [
    "def plot_confusion_matrix(y_true,y_pred):\n",
    "    '''Plots Confusion Matrix\n",
    "    Input:y_true-True labels\n",
    "    y_pred-Predicted Labels'''\n",
    "    from sklearn.metrics import confusion_matrix\n",
    "    sns.heatmap(confusion_matrix(y_true,y_pred),annot=True,cbar=False)\n",
    "    plt.title('Confusion Matrix')\n",
    "    "
   ]
  },
  {
   "cell_type": "markdown",
   "id": "composed-survival",
   "metadata": {},
   "source": [
    "## Random Forest "
   ]
  },
  {
   "cell_type": "code",
   "execution_count": 65,
   "id": "palestinian-probability",
   "metadata": {},
   "outputs": [],
   "source": [
    "from sklearn.ensemble import RandomForestClassifier"
   ]
  },
  {
   "cell_type": "code",
   "execution_count": 204,
   "id": "floppy-novel",
   "metadata": {},
   "outputs": [],
   "source": [
    "rf=RandomForestClassifier(class_weight='balanced')"
   ]
  },
  {
   "cell_type": "code",
   "execution_count": 205,
   "id": "severe-ultimate",
   "metadata": {
    "scrolled": true
   },
   "outputs": [
    {
     "data": {
      "text/plain": [
       "RandomForestClassifier(class_weight='balanced')"
      ]
     },
     "execution_count": 205,
     "metadata": {},
     "output_type": "execute_result"
    }
   ],
   "source": [
    "rf.fit(X_res_train,y_res_train)"
   ]
  },
  {
   "cell_type": "code",
   "execution_count": 206,
   "id": "interested-agreement",
   "metadata": {},
   "outputs": [],
   "source": [
    "## predicting classes\n",
    "y_pred_rf=rf.predict(X_res_test)"
   ]
  },
  {
   "cell_type": "code",
   "execution_count": 207,
   "id": "coated-entity",
   "metadata": {},
   "outputs": [],
   "source": [
    "## predicting by using probability threshold\n",
    "threshold=0.4\n",
    "y_pred_rf_thresh=[1 if x >= threshold else 0 for x in (rf.predict_proba(X_res_test))[:,1]]"
   ]
  },
  {
   "cell_type": "code",
   "execution_count": 208,
   "id": "complete-stockholm",
   "metadata": {},
   "outputs": [],
   "source": [
    "## predicting on unseen data\n",
    "y_hat_rf_test=rf.predict(X_test)"
   ]
  },
  {
   "cell_type": "code",
   "execution_count": 209,
   "id": "advanced-lesbian",
   "metadata": {},
   "outputs": [],
   "source": [
    "## predicting on unseen data by applying threshold \n",
    "threshold=0.4\n",
    "y_hat_rf_test_proba=[1 if x >= threshold else 0 for x in (rf.predict_proba(X_test))[:,1]]"
   ]
  },
  {
   "cell_type": "code",
   "execution_count": null,
   "id": "classical-dominant",
   "metadata": {},
   "outputs": [],
   "source": []
  },
  {
   "cell_type": "code",
   "execution_count": 210,
   "id": "thousand-dealer",
   "metadata": {},
   "outputs": [
    {
     "data": {
      "image/png": "[encoded data removed]",
      "text/plain": [
       "<Figure size 1080x720 with 4 Axes>"
      ]
     },
     "metadata": {
      "needs_background": "light"
     },
     "output_type": "display_data"
    }
   ],
   "source": [
    "## Plotting Results on validation data\n",
    "plt.figure(figsize=(15,10))\n",
    "plt.suptitle('Results on validation data')\n",
    "plt.subplot(221)\n",
    "plot_roc_curve(y_res_test,y_pred_rf)\n",
    "plt.subplot(222)\n",
    "plot_confusion_matrix(y_res_test,y_pred_rf)\n",
    "plt.subplot(223)\n",
    "plot_roc_curve(y_res_test,y_pred_rf_thresh)\n",
    "plt.subplot(224)\n",
    "plot_confusion_matrix(y_res_test,y_pred_rf_thresh)"
   ]
  },
  {
   "cell_type": "code",
   "execution_count": 211,
   "id": "respiratory-aberdeen",
   "metadata": {},
   "outputs": [
    {
     "name": "stdout",
     "output_type": "stream",
     "text": [
      "              precision    recall  f1-score   support\n",
      "\n",
      "           0       0.84      0.96      0.90     22835\n",
      "           1       0.96      0.82      0.88     22834\n",
      "\n",
      "    accuracy                           0.89     45669\n",
      "   macro avg       0.90      0.89      0.89     45669\n",
      "weighted avg       0.90      0.89      0.89     45669\n",
      "\n"
     ]
    }
   ],
   "source": [
    "## No threshold\n",
    "print(classification_report(y_res_test,y_pred_rf))"
   ]
  },
  {
   "cell_type": "code",
   "execution_count": 212,
   "id": "missing-canyon",
   "metadata": {},
   "outputs": [
    {
     "name": "stdout",
     "output_type": "stream",
     "text": [
      "              precision    recall  f1-score   support\n",
      "\n",
      "           0       0.88      0.90      0.89     22835\n",
      "           1       0.90      0.88      0.89     22834\n",
      "\n",
      "    accuracy                           0.89     45669\n",
      "   macro avg       0.89      0.89      0.89     45669\n",
      "weighted avg       0.89      0.89      0.89     45669\n",
      "\n"
     ]
    }
   ],
   "source": [
    "## With threshold\n",
    "print(classification_report(y_res_test,y_pred_rf_thresh))"
   ]
  },
  {
   "cell_type": "code",
   "execution_count": 213,
   "id": "double-gabriel",
   "metadata": {},
   "outputs": [
    {
     "data": {
      "image/png": "[encoded data removed]",
      "text/plain": [
       "<Figure size 1080x720 with 4 Axes>"
      ]
     },
     "metadata": {
      "needs_background": "light"
     },
     "output_type": "display_data"
    }
   ],
   "source": [
    "## Plotting Results on test data\n",
    "plt.figure(figsize=(15,10))\n",
    "plt.suptitle('Results on test data')\n",
    "plt.subplot(221)\n",
    "plot_roc_curve(y_test,y_hat_rf_test)\n",
    "plt.subplot(222)\n",
    "plot_confusion_matrix(y_test,y_hat_rf_test)\n",
    "plt.subplot(223)\n",
    "plot_roc_curve(y_test,y_hat_rf_test_proba)\n",
    "plt.subplot(224)\n",
    "plot_confusion_matrix(y_test,y_hat_rf_test_proba)"
   ]
  },
  {
   "cell_type": "code",
   "execution_count": 214,
   "id": "political-classic",
   "metadata": {},
   "outputs": [
    {
     "name": "stdout",
     "output_type": "stream",
     "text": [
      "              precision    recall  f1-score   support\n",
      "\n",
      "           0       0.96      0.96      0.96     32621\n",
      "           1       0.62      0.60      0.61      3379\n",
      "\n",
      "    accuracy                           0.93     36000\n",
      "   macro avg       0.79      0.78      0.79     36000\n",
      "weighted avg       0.93      0.93      0.93     36000\n",
      "\n"
     ]
    }
   ],
   "source": [
    "## No threshold\n",
    "print(classification_report(y_test,y_hat_rf_test))"
   ]
  },
  {
   "cell_type": "code",
   "execution_count": 215,
   "id": "stylish-remark",
   "metadata": {},
   "outputs": [
    {
     "name": "stdout",
     "output_type": "stream",
     "text": [
      "              precision    recall  f1-score   support\n",
      "\n",
      "           0       0.96      0.91      0.93     32621\n",
      "           1       0.42      0.66      0.51      3379\n",
      "\n",
      "    accuracy                           0.88     36000\n",
      "   macro avg       0.69      0.78      0.72     36000\n",
      "weighted avg       0.91      0.88      0.89     36000\n",
      "\n"
     ]
    }
   ],
   "source": [
    "## With threshold\n",
    "print(classification_report(y_test,y_hat_rf_test_proba))"
   ]
  },
  {
   "cell_type": "code",
   "execution_count": 216,
   "id": "trained-estimate",
   "metadata": {},
   "outputs": [
    {
     "data": {
      "text/plain": [
       "<AxesSubplot:>"
      ]
     },
     "execution_count": 216,
     "metadata": {},
     "output_type": "execute_result"
    },
    {
     "data": {
      "image/png": "[encoded data removed]",
      "text/plain": [
       "<Figure size 432x288 with 1 Axes>"
      ]
     },
     "metadata": {
      "needs_background": "light"
     },
     "output_type": "display_data"
    }
   ],
   "source": [
    "## Feature Importances\n",
    "importances_rf=rf.feature_importances_\n",
    "\n",
    "features_rf=X_res_train.columns\n",
    "\n",
    "sns.barplot(y=features_rf,x=importances_rf)"
   ]
  },
  {
   "cell_type": "markdown",
   "id": "fitted-swing",
   "metadata": {},
   "source": [
    "## LightGBM"
   ]
  },
  {
   "cell_type": "code",
   "execution_count": 117,
   "id": "musical-circulation",
   "metadata": {},
   "outputs": [],
   "source": [
    "from lightgbm import LGBMClassifier"
   ]
  },
  {
   "cell_type": "code",
   "execution_count": 118,
   "id": "interested-denial",
   "metadata": {},
   "outputs": [],
   "source": [
    "lgb=LGBMClassifier()"
   ]
  },
  {
   "cell_type": "code",
   "execution_count": 119,
   "id": "stupid-addition",
   "metadata": {},
   "outputs": [
    {
     "data": {
      "text/plain": [
       "LGBMClassifier()"
      ]
     },
     "execution_count": 119,
     "metadata": {},
     "output_type": "execute_result"
    }
   ],
   "source": [
    "lgb.fit(X_res_train,y_res_train)"
   ]
  },
  {
   "cell_type": "code",
   "execution_count": 120,
   "id": "mineral-edition",
   "metadata": {},
   "outputs": [],
   "source": [
    "## predicting classes\n",
    "y_pred_lgb=lgb.predict(X_res_test)"
   ]
  },
  {
   "cell_type": "code",
   "execution_count": 121,
   "id": "protected-appreciation",
   "metadata": {},
   "outputs": [],
   "source": [
    "## predicting by using probability threshold\n",
    "threshold=0.4\n",
    "y_pred_lgb_thresh=[1 if x >= threshold else 0 for x in (lgb.predict_proba(X_res_test))[:,1]]"
   ]
  },
  {
   "cell_type": "code",
   "execution_count": 122,
   "id": "meaningful-classroom",
   "metadata": {},
   "outputs": [],
   "source": [
    "## predicting on unseen data\n",
    "y_hat_lgb_test=lgb.predict(X_test)"
   ]
  },
  {
   "cell_type": "code",
   "execution_count": 123,
   "id": "reasonable-tablet",
   "metadata": {},
   "outputs": [],
   "source": [
    "## predicting on unseen data by applying threshold \n",
    "threshold=0.4\n",
    "y_hat_lgb_test_proba=[1 if x >= threshold else 0 for x in (lgb.predict_proba(X_test))[:,1]]"
   ]
  },
  {
   "cell_type": "code",
   "execution_count": null,
   "id": "dominant-salmon",
   "metadata": {},
   "outputs": [],
   "source": []
  },
  {
   "cell_type": "code",
   "execution_count": 124,
   "id": "weighted-publication",
   "metadata": {},
   "outputs": [
    {
     "data": {
      "image/png": "[encoded data removed]",
      "text/plain": [
       "<Figure size 1080x720 with 4 Axes>"
      ]
     },
     "metadata": {
      "needs_background": "light"
     },
     "output_type": "display_data"
    }
   ],
   "source": [
    "## Plotting Results on validation data\n",
    "plt.figure(figsize=(15,10))\n",
    "plt.suptitle('Results on validation data')\n",
    "plt.subplot(221)\n",
    "plot_roc_curve(y_res_test,y_pred_lgb)\n",
    "plt.subplot(222)\n",
    "plot_confusion_matrix(y_res_test,y_pred_lgb)\n",
    "plt.subplot(223)\n",
    "plot_roc_curve(y_res_test,y_pred_lgb_thresh)\n",
    "plt.subplot(224)\n",
    "plot_confusion_matrix(y_res_test,y_pred_lgb_thresh)"
   ]
  },
  {
   "cell_type": "code",
   "execution_count": 125,
   "id": "pressed-tunisia",
   "metadata": {},
   "outputs": [
    {
     "name": "stdout",
     "output_type": "stream",
     "text": [
      "              precision    recall  f1-score   support\n",
      "\n",
      "           0       0.78      0.96      0.86     22835\n",
      "           1       0.95      0.73      0.83     22834\n",
      "\n",
      "    accuracy                           0.85     45669\n",
      "   macro avg       0.87      0.85      0.84     45669\n",
      "weighted avg       0.87      0.85      0.84     45669\n",
      "\n"
     ]
    }
   ],
   "source": [
    "## No threshold\n",
    "print(classification_report(y_res_test,y_pred_lgb))"
   ]
  },
  {
   "cell_type": "code",
   "execution_count": 126,
   "id": "naked-lighter",
   "metadata": {},
   "outputs": [
    {
     "name": "stdout",
     "output_type": "stream",
     "text": [
      "              precision    recall  f1-score   support\n",
      "\n",
      "           0       0.81      0.91      0.85     22835\n",
      "           1       0.89      0.78      0.84     22834\n",
      "\n",
      "    accuracy                           0.85     45669\n",
      "   macro avg       0.85      0.85      0.84     45669\n",
      "weighted avg       0.85      0.85      0.84     45669\n",
      "\n"
     ]
    }
   ],
   "source": [
    "## With threshold\n",
    "print(classification_report(y_res_test,y_pred_lgb_thresh))"
   ]
  },
  {
   "cell_type": "code",
   "execution_count": 127,
   "id": "cloudy-heart",
   "metadata": {},
   "outputs": [
    {
     "data": {
      "image/png": "[encoded data removed]",
      "text/plain": [
       "<Figure size 1080x720 with 4 Axes>"
      ]
     },
     "metadata": {
      "needs_background": "light"
     },
     "output_type": "display_data"
    }
   ],
   "source": [
    "## Plotting Results on test data\n",
    "plt.figure(figsize=(15,10))\n",
    "plt.suptitle('Results on test data')\n",
    "plt.subplot(221)\n",
    "plot_roc_curve(y_test,y_hat_lgb_test)\n",
    "plt.subplot(222)\n",
    "plot_confusion_matrix(y_test,y_hat_lgb_test)\n",
    "plt.subplot(223)\n",
    "plot_roc_curve(y_test,y_hat_lgb_test_proba)\n",
    "plt.subplot(224)\n",
    "plot_confusion_matrix(y_test,y_hat_lgb_test_proba)"
   ]
  },
  {
   "cell_type": "code",
   "execution_count": 128,
   "id": "postal-biotechnology",
   "metadata": {},
   "outputs": [
    {
     "name": "stdout",
     "output_type": "stream",
     "text": [
      "              precision    recall  f1-score   support\n",
      "\n",
      "           0       0.96      0.97      0.96     32621\n",
      "           1       0.65      0.61      0.63      3379\n",
      "\n",
      "    accuracy                           0.93     36000\n",
      "   macro avg       0.80      0.79      0.80     36000\n",
      "weighted avg       0.93      0.93      0.93     36000\n",
      "\n"
     ]
    }
   ],
   "source": [
    "## No threshold\n",
    "print(classification_report(y_test,y_hat_lgb_test))"
   ]
  },
  {
   "cell_type": "code",
   "execution_count": 129,
   "id": "secure-maximum",
   "metadata": {
    "scrolled": true
   },
   "outputs": [
    {
     "name": "stdout",
     "output_type": "stream",
     "text": [
      "              precision    recall  f1-score   support\n",
      "\n",
      "           0       0.96      0.91      0.93     32621\n",
      "           1       0.43      0.67      0.52      3379\n",
      "\n",
      "    accuracy                           0.88     36000\n",
      "   macro avg       0.70      0.79      0.73     36000\n",
      "weighted avg       0.91      0.88      0.90     36000\n",
      "\n"
     ]
    }
   ],
   "source": [
    "## With threshold\n",
    "print(classification_report(y_test,y_hat_lgb_test_proba))"
   ]
  },
  {
   "cell_type": "code",
   "execution_count": 156,
   "id": "private-ending",
   "metadata": {},
   "outputs": [
    {
     "data": {
      "text/plain": [
       "<AxesSubplot:>"
      ]
     },
     "execution_count": 156,
     "metadata": {},
     "output_type": "execute_result"
    },
    {
     "data": {
      "image/png": "[encoded data removed]",
      "text/plain": [
       "<Figure size 432x288 with 1 Axes>"
      ]
     },
     "metadata": {
      "needs_background": "light"
     },
     "output_type": "display_data"
    }
   ],
   "source": [
    "## Feature Importances\n",
    "importances_lgb=lgb.feature_importances_\n",
    "\n",
    "features_lgb=X_train.columns\n",
    "\n",
    "sns.barplot(y=features_lgb,x=importances_lgb)"
   ]
  },
  {
   "cell_type": "markdown",
   "id": "after-police",
   "metadata": {},
   "source": [
    "## Catboost"
   ]
  },
  {
   "cell_type": "code",
   "execution_count": 130,
   "id": "opposed-twins",
   "metadata": {},
   "outputs": [],
   "source": [
    "from catboost import CatBoostClassifier"
   ]
  },
  {
   "cell_type": "code",
   "execution_count": 131,
   "id": "dramatic-silence",
   "metadata": {},
   "outputs": [],
   "source": [
    "cb=CatBoostClassifier()"
   ]
  },
  {
   "cell_type": "code",
   "execution_count": 143,
   "id": "offshore-worst",
   "metadata": {},
   "outputs": [
    {
     "name": "stdout",
     "output_type": "stream",
     "text": [
      "Learning rate set to 0.075634\n",
      "0:\tlearn: 0.6226951\ttotal: 91.2ms\tremaining: 1m 31s\n",
      "1:\tlearn: 0.5586504\ttotal: 169ms\tremaining: 1m 24s\n",
      "2:\tlearn: 0.5193913\ttotal: 260ms\tremaining: 1m 26s\n",
      "3:\tlearn: 0.4830703\ttotal: 341ms\tremaining: 1m 24s\n",
      "4:\tlearn: 0.4636375\ttotal: 411ms\tremaining: 1m 21s\n",
      "5:\tlearn: 0.4494999\ttotal: 491ms\tremaining: 1m 21s\n",
      "6:\tlearn: 0.4351305\ttotal: 593ms\tremaining: 1m 24s\n",
      "7:\tlearn: 0.4217532\ttotal: 674ms\tremaining: 1m 23s\n",
      "8:\tlearn: 0.4139250\ttotal: 770ms\tremaining: 1m 24s\n",
      "9:\tlearn: 0.4046485\ttotal: 846ms\tremaining: 1m 23s\n",
      "10:\tlearn: 0.3986854\ttotal: 938ms\tremaining: 1m 24s\n",
      "11:\tlearn: 0.3950184\ttotal: 1.03s\tremaining: 1m 24s\n",
      "12:\tlearn: 0.3898978\ttotal: 1.1s\tremaining: 1m 23s\n",
      "13:\tlearn: 0.3862856\ttotal: 1.19s\tremaining: 1m 23s\n",
      "14:\tlearn: 0.3819305\ttotal: 1.28s\tremaining: 1m 24s\n",
      "15:\tlearn: 0.3798280\ttotal: 1.36s\tremaining: 1m 23s\n",
      "16:\tlearn: 0.3773928\ttotal: 1.45s\tremaining: 1m 23s\n",
      "17:\tlearn: 0.3755033\ttotal: 1.53s\tremaining: 1m 23s\n",
      "18:\tlearn: 0.3740336\ttotal: 1.63s\tremaining: 1m 24s\n",
      "19:\tlearn: 0.3727806\ttotal: 1.71s\tremaining: 1m 23s\n",
      "20:\tlearn: 0.3708703\ttotal: 1.8s\tremaining: 1m 24s\n",
      "21:\tlearn: 0.3694857\ttotal: 1.89s\tremaining: 1m 24s\n",
      "22:\tlearn: 0.3686511\ttotal: 1.97s\tremaining: 1m 23s\n",
      "23:\tlearn: 0.3674937\ttotal: 2.07s\tremaining: 1m 24s\n",
      "24:\tlearn: 0.3663746\ttotal: 2.16s\tremaining: 1m 24s\n",
      "25:\tlearn: 0.3655333\ttotal: 2.26s\tremaining: 1m 24s\n",
      "26:\tlearn: 0.3648997\ttotal: 2.36s\tremaining: 1m 25s\n",
      "27:\tlearn: 0.3639979\ttotal: 2.46s\tremaining: 1m 25s\n",
      "28:\tlearn: 0.3630628\ttotal: 2.55s\tremaining: 1m 25s\n",
      "29:\tlearn: 0.3623117\ttotal: 2.66s\tremaining: 1m 26s\n",
      "30:\tlearn: 0.3618177\ttotal: 2.75s\tremaining: 1m 25s\n",
      "31:\tlearn: 0.3612716\ttotal: 2.85s\tremaining: 1m 26s\n",
      "32:\tlearn: 0.3606652\ttotal: 2.95s\tremaining: 1m 26s\n",
      "33:\tlearn: 0.3601415\ttotal: 3.04s\tremaining: 1m 26s\n",
      "34:\tlearn: 0.3598226\ttotal: 3.12s\tremaining: 1m 26s\n",
      "35:\tlearn: 0.3593043\ttotal: 3.21s\tremaining: 1m 25s\n",
      "36:\tlearn: 0.3588086\ttotal: 3.28s\tremaining: 1m 25s\n",
      "37:\tlearn: 0.3580880\ttotal: 3.35s\tremaining: 1m 24s\n",
      "38:\tlearn: 0.3572897\ttotal: 3.42s\tremaining: 1m 24s\n",
      "39:\tlearn: 0.3569934\ttotal: 3.52s\tremaining: 1m 24s\n",
      "40:\tlearn: 0.3566617\ttotal: 3.61s\tremaining: 1m 24s\n",
      "41:\tlearn: 0.3561181\ttotal: 3.7s\tremaining: 1m 24s\n",
      "42:\tlearn: 0.3558548\ttotal: 3.79s\tremaining: 1m 24s\n",
      "43:\tlearn: 0.3553058\ttotal: 3.87s\tremaining: 1m 24s\n",
      "44:\tlearn: 0.3548071\ttotal: 3.96s\tremaining: 1m 24s\n",
      "45:\tlearn: 0.3543595\ttotal: 4.07s\tremaining: 1m 24s\n",
      "46:\tlearn: 0.3539664\ttotal: 4.14s\tremaining: 1m 24s\n",
      "47:\tlearn: 0.3535317\ttotal: 4.23s\tremaining: 1m 23s\n",
      "48:\tlearn: 0.3531695\ttotal: 4.29s\tremaining: 1m 23s\n",
      "49:\tlearn: 0.3528821\ttotal: 4.37s\tremaining: 1m 23s\n",
      "50:\tlearn: 0.3525038\ttotal: 4.47s\tremaining: 1m 23s\n",
      "51:\tlearn: 0.3523040\ttotal: 4.56s\tremaining: 1m 23s\n",
      "52:\tlearn: 0.3521051\ttotal: 4.65s\tremaining: 1m 23s\n",
      "53:\tlearn: 0.3519550\ttotal: 4.74s\tremaining: 1m 23s\n",
      "54:\tlearn: 0.3516303\ttotal: 4.84s\tremaining: 1m 23s\n",
      "55:\tlearn: 0.3513182\ttotal: 4.93s\tremaining: 1m 23s\n",
      "56:\tlearn: 0.3511396\ttotal: 5.01s\tremaining: 1m 22s\n",
      "57:\tlearn: 0.3509411\ttotal: 5.1s\tremaining: 1m 22s\n",
      "58:\tlearn: 0.3505680\ttotal: 5.18s\tremaining: 1m 22s\n",
      "59:\tlearn: 0.3503202\ttotal: 5.26s\tremaining: 1m 22s\n",
      "60:\tlearn: 0.3500580\ttotal: 5.34s\tremaining: 1m 22s\n",
      "61:\tlearn: 0.3498780\ttotal: 5.41s\tremaining: 1m 21s\n",
      "62:\tlearn: 0.3496551\ttotal: 5.48s\tremaining: 1m 21s\n",
      "63:\tlearn: 0.3494682\ttotal: 5.58s\tremaining: 1m 21s\n",
      "64:\tlearn: 0.3492746\ttotal: 5.65s\tremaining: 1m 21s\n",
      "65:\tlearn: 0.3490814\ttotal: 5.73s\tremaining: 1m 21s\n",
      "66:\tlearn: 0.3487633\ttotal: 5.81s\tremaining: 1m 20s\n",
      "67:\tlearn: 0.3485667\ttotal: 5.9s\tremaining: 1m 20s\n",
      "68:\tlearn: 0.3484322\ttotal: 5.99s\tremaining: 1m 20s\n",
      "69:\tlearn: 0.3483083\ttotal: 6.08s\tremaining: 1m 20s\n",
      "70:\tlearn: 0.3481260\ttotal: 6.15s\tremaining: 1m 20s\n",
      "71:\tlearn: 0.3477642\ttotal: 6.22s\tremaining: 1m 20s\n",
      "72:\tlearn: 0.3476210\ttotal: 6.29s\tremaining: 1m 19s\n",
      "73:\tlearn: 0.3474613\ttotal: 6.37s\tremaining: 1m 19s\n",
      "74:\tlearn: 0.3473214\ttotal: 6.45s\tremaining: 1m 19s\n",
      "75:\tlearn: 0.3471240\ttotal: 6.54s\tremaining: 1m 19s\n",
      "76:\tlearn: 0.3470994\ttotal: 6.58s\tremaining: 1m 18s\n",
      "77:\tlearn: 0.3469610\ttotal: 6.68s\tremaining: 1m 18s\n",
      "78:\tlearn: 0.3468701\ttotal: 6.77s\tremaining: 1m 18s\n",
      "79:\tlearn: 0.3467599\ttotal: 6.85s\tremaining: 1m 18s\n",
      "80:\tlearn: 0.3466481\ttotal: 6.94s\tremaining: 1m 18s\n",
      "81:\tlearn: 0.3465299\ttotal: 7.04s\tremaining: 1m 18s\n",
      "82:\tlearn: 0.3464025\ttotal: 7.13s\tremaining: 1m 18s\n",
      "83:\tlearn: 0.3462322\ttotal: 7.21s\tremaining: 1m 18s\n",
      "84:\tlearn: 0.3461273\ttotal: 7.29s\tremaining: 1m 18s\n",
      "85:\tlearn: 0.3460588\ttotal: 7.37s\tremaining: 1m 18s\n",
      "86:\tlearn: 0.3457792\ttotal: 7.45s\tremaining: 1m 18s\n",
      "87:\tlearn: 0.3456449\ttotal: 7.52s\tremaining: 1m 17s\n",
      "88:\tlearn: 0.3455229\ttotal: 7.6s\tremaining: 1m 17s\n",
      "89:\tlearn: 0.3453656\ttotal: 7.68s\tremaining: 1m 17s\n",
      "90:\tlearn: 0.3452220\ttotal: 7.76s\tremaining: 1m 17s\n",
      "91:\tlearn: 0.3450576\ttotal: 7.83s\tremaining: 1m 17s\n",
      "92:\tlearn: 0.3449906\ttotal: 7.93s\tremaining: 1m 17s\n",
      "93:\tlearn: 0.3449106\ttotal: 8.01s\tremaining: 1m 17s\n",
      "94:\tlearn: 0.3448586\ttotal: 8.09s\tremaining: 1m 17s\n",
      "95:\tlearn: 0.3447464\ttotal: 8.16s\tremaining: 1m 16s\n",
      "96:\tlearn: 0.3446501\ttotal: 8.23s\tremaining: 1m 16s\n",
      "97:\tlearn: 0.3445278\ttotal: 8.31s\tremaining: 1m 16s\n",
      "98:\tlearn: 0.3444249\ttotal: 8.4s\tremaining: 1m 16s\n",
      "99:\tlearn: 0.3443315\ttotal: 8.5s\tremaining: 1m 16s\n",
      "100:\tlearn: 0.3442533\ttotal: 8.57s\tremaining: 1m 16s\n",
      "101:\tlearn: 0.3440227\ttotal: 8.67s\tremaining: 1m 16s\n",
      "102:\tlearn: 0.3439054\ttotal: 8.74s\tremaining: 1m 16s\n",
      "103:\tlearn: 0.3437021\ttotal: 8.82s\tremaining: 1m 16s\n",
      "104:\tlearn: 0.3435817\ttotal: 8.92s\tremaining: 1m 16s\n",
      "105:\tlearn: 0.3434304\ttotal: 9s\tremaining: 1m 15s\n",
      "106:\tlearn: 0.3433214\ttotal: 9.1s\tremaining: 1m 15s\n",
      "107:\tlearn: 0.3431923\ttotal: 9.2s\tremaining: 1m 15s\n",
      "108:\tlearn: 0.3431712\ttotal: 9.26s\tremaining: 1m 15s\n",
      "109:\tlearn: 0.3430892\ttotal: 9.34s\tremaining: 1m 15s\n",
      "110:\tlearn: 0.3430079\ttotal: 9.42s\tremaining: 1m 15s\n",
      "111:\tlearn: 0.3429031\ttotal: 9.5s\tremaining: 1m 15s\n",
      "112:\tlearn: 0.3427705\ttotal: 9.57s\tremaining: 1m 15s\n",
      "113:\tlearn: 0.3426907\ttotal: 9.65s\tremaining: 1m 15s\n",
      "114:\tlearn: 0.3425300\ttotal: 9.73s\tremaining: 1m 14s\n",
      "115:\tlearn: 0.3423137\ttotal: 9.82s\tremaining: 1m 14s\n",
      "116:\tlearn: 0.3422367\ttotal: 9.89s\tremaining: 1m 14s\n",
      "117:\tlearn: 0.3421148\ttotal: 9.99s\tremaining: 1m 14s\n",
      "118:\tlearn: 0.3419294\ttotal: 10.1s\tremaining: 1m 14s\n",
      "119:\tlearn: 0.3418244\ttotal: 10.2s\tremaining: 1m 14s\n",
      "120:\tlearn: 0.3417155\ttotal: 10.3s\tremaining: 1m 14s\n",
      "121:\tlearn: 0.3416722\ttotal: 10.3s\tremaining: 1m 14s\n",
      "122:\tlearn: 0.3416722\ttotal: 10.4s\tremaining: 1m 13s\n",
      "123:\tlearn: 0.3415977\ttotal: 10.5s\tremaining: 1m 13s\n",
      "124:\tlearn: 0.3414506\ttotal: 10.5s\tremaining: 1m 13s\n",
      "125:\tlearn: 0.3413220\ttotal: 10.6s\tremaining: 1m 13s\n",
      "126:\tlearn: 0.3412490\ttotal: 10.7s\tremaining: 1m 13s\n",
      "127:\tlearn: 0.3411417\ttotal: 10.8s\tremaining: 1m 13s\n",
      "128:\tlearn: 0.3410458\ttotal: 10.9s\tremaining: 1m 13s\n",
      "129:\tlearn: 0.3408876\ttotal: 10.9s\tremaining: 1m 13s\n",
      "130:\tlearn: 0.3408268\ttotal: 11s\tremaining: 1m 13s\n",
      "131:\tlearn: 0.3406948\ttotal: 11.1s\tremaining: 1m 13s\n",
      "132:\tlearn: 0.3406176\ttotal: 11.2s\tremaining: 1m 12s\n",
      "133:\tlearn: 0.3405134\ttotal: 11.3s\tremaining: 1m 12s\n",
      "134:\tlearn: 0.3404402\ttotal: 11.3s\tremaining: 1m 12s\n",
      "135:\tlearn: 0.3403336\ttotal: 11.4s\tremaining: 1m 12s\n",
      "136:\tlearn: 0.3401018\ttotal: 11.5s\tremaining: 1m 12s\n",
      "137:\tlearn: 0.3400344\ttotal: 11.6s\tremaining: 1m 12s\n",
      "138:\tlearn: 0.3399038\ttotal: 11.6s\tremaining: 1m 12s\n",
      "139:\tlearn: 0.3398620\ttotal: 11.7s\tremaining: 1m 11s\n",
      "140:\tlearn: 0.3397385\ttotal: 11.8s\tremaining: 1m 11s\n",
      "141:\tlearn: 0.3396870\ttotal: 11.9s\tremaining: 1m 11s\n",
      "142:\tlearn: 0.3396334\ttotal: 12s\tremaining: 1m 11s\n",
      "143:\tlearn: 0.3394805\ttotal: 12.1s\tremaining: 1m 11s\n",
      "144:\tlearn: 0.3394317\ttotal: 12.2s\tremaining: 1m 11s\n",
      "145:\tlearn: 0.3393099\ttotal: 12.3s\tremaining: 1m 11s\n",
      "146:\tlearn: 0.3392075\ttotal: 12.3s\tremaining: 1m 11s\n",
      "147:\tlearn: 0.3391086\ttotal: 12.4s\tremaining: 1m 11s\n",
      "148:\tlearn: 0.3390076\ttotal: 12.5s\tremaining: 1m 11s\n",
      "149:\tlearn: 0.3389537\ttotal: 12.6s\tremaining: 1m 11s\n",
      "150:\tlearn: 0.3388980\ttotal: 12.7s\tremaining: 1m 11s\n",
      "151:\tlearn: 0.3388634\ttotal: 12.8s\tremaining: 1m 11s\n",
      "152:\tlearn: 0.3387786\ttotal: 12.8s\tremaining: 1m 11s\n",
      "153:\tlearn: 0.3386171\ttotal: 12.9s\tremaining: 1m 10s\n",
      "154:\tlearn: 0.3383965\ttotal: 13s\tremaining: 1m 10s\n",
      "155:\tlearn: 0.3382249\ttotal: 13.1s\tremaining: 1m 10s\n",
      "156:\tlearn: 0.3380358\ttotal: 13.2s\tremaining: 1m 10s\n"
     ]
    },
    {
     "name": "stdout",
     "output_type": "stream",
     "text": [
      "157:\tlearn: 0.3378877\ttotal: 13.3s\tremaining: 1m 10s\n",
      "158:\tlearn: 0.3378027\ttotal: 13.4s\tremaining: 1m 10s\n",
      "159:\tlearn: 0.3376936\ttotal: 13.4s\tremaining: 1m 10s\n",
      "160:\tlearn: 0.3375998\ttotal: 13.5s\tremaining: 1m 10s\n",
      "161:\tlearn: 0.3374825\ttotal: 13.6s\tremaining: 1m 10s\n",
      "162:\tlearn: 0.3372606\ttotal: 13.7s\tremaining: 1m 10s\n",
      "163:\tlearn: 0.3371383\ttotal: 13.8s\tremaining: 1m 10s\n",
      "164:\tlearn: 0.3369590\ttotal: 13.9s\tremaining: 1m 10s\n",
      "165:\tlearn: 0.3369183\ttotal: 14s\tremaining: 1m 10s\n",
      "166:\tlearn: 0.3368040\ttotal: 14.1s\tremaining: 1m 10s\n",
      "167:\tlearn: 0.3367016\ttotal: 14.1s\tremaining: 1m 10s\n",
      "168:\tlearn: 0.3365913\ttotal: 14.2s\tremaining: 1m 9s\n",
      "169:\tlearn: 0.3364999\ttotal: 14.3s\tremaining: 1m 9s\n",
      "170:\tlearn: 0.3364649\ttotal: 14.4s\tremaining: 1m 9s\n",
      "171:\tlearn: 0.3363655\ttotal: 14.5s\tremaining: 1m 9s\n",
      "172:\tlearn: 0.3362725\ttotal: 14.6s\tremaining: 1m 9s\n",
      "173:\tlearn: 0.3361462\ttotal: 14.7s\tremaining: 1m 9s\n",
      "174:\tlearn: 0.3360455\ttotal: 14.8s\tremaining: 1m 9s\n",
      "175:\tlearn: 0.3359790\ttotal: 14.8s\tremaining: 1m 9s\n",
      "176:\tlearn: 0.3359105\ttotal: 14.9s\tremaining: 1m 9s\n",
      "177:\tlearn: 0.3358320\ttotal: 15s\tremaining: 1m 9s\n",
      "178:\tlearn: 0.3357117\ttotal: 15.1s\tremaining: 1m 9s\n",
      "179:\tlearn: 0.3356302\ttotal: 15.2s\tremaining: 1m 9s\n",
      "180:\tlearn: 0.3355291\ttotal: 15.3s\tremaining: 1m 9s\n",
      "181:\tlearn: 0.3354493\ttotal: 15.4s\tremaining: 1m 9s\n",
      "182:\tlearn: 0.3354096\ttotal: 15.5s\tremaining: 1m 9s\n",
      "183:\tlearn: 0.3352888\ttotal: 15.5s\tremaining: 1m 8s\n",
      "184:\tlearn: 0.3352432\ttotal: 15.6s\tremaining: 1m 8s\n",
      "185:\tlearn: 0.3351197\ttotal: 15.7s\tremaining: 1m 8s\n",
      "186:\tlearn: 0.3350045\ttotal: 15.8s\tremaining: 1m 8s\n",
      "187:\tlearn: 0.3348732\ttotal: 15.9s\tremaining: 1m 8s\n",
      "188:\tlearn: 0.3347553\ttotal: 16s\tremaining: 1m 8s\n",
      "189:\tlearn: 0.3346077\ttotal: 16.1s\tremaining: 1m 8s\n",
      "190:\tlearn: 0.3344869\ttotal: 16.1s\tremaining: 1m 8s\n",
      "191:\tlearn: 0.3343915\ttotal: 16.2s\tremaining: 1m 8s\n",
      "192:\tlearn: 0.3342966\ttotal: 16.3s\tremaining: 1m 8s\n",
      "193:\tlearn: 0.3342088\ttotal: 16.4s\tremaining: 1m 8s\n",
      "194:\tlearn: 0.3341169\ttotal: 16.5s\tremaining: 1m 8s\n",
      "195:\tlearn: 0.3340042\ttotal: 16.6s\tremaining: 1m 7s\n",
      "196:\tlearn: 0.3339006\ttotal: 16.7s\tremaining: 1m 7s\n",
      "197:\tlearn: 0.3338095\ttotal: 16.7s\tremaining: 1m 7s\n",
      "198:\tlearn: 0.3337291\ttotal: 16.8s\tremaining: 1m 7s\n",
      "199:\tlearn: 0.3336453\ttotal: 16.9s\tremaining: 1m 7s\n",
      "200:\tlearn: 0.3335033\ttotal: 17s\tremaining: 1m 7s\n",
      "201:\tlearn: 0.3333998\ttotal: 17.1s\tremaining: 1m 7s\n",
      "202:\tlearn: 0.3333018\ttotal: 17.2s\tremaining: 1m 7s\n",
      "203:\tlearn: 0.3332157\ttotal: 17.3s\tremaining: 1m 7s\n",
      "204:\tlearn: 0.3330606\ttotal: 17.3s\tremaining: 1m 7s\n",
      "205:\tlearn: 0.3329549\ttotal: 17.4s\tremaining: 1m 7s\n",
      "206:\tlearn: 0.3328260\ttotal: 17.5s\tremaining: 1m 7s\n",
      "207:\tlearn: 0.3327179\ttotal: 17.6s\tremaining: 1m 6s\n",
      "208:\tlearn: 0.3326074\ttotal: 17.7s\tremaining: 1m 6s\n",
      "209:\tlearn: 0.3325095\ttotal: 17.7s\tremaining: 1m 6s\n",
      "210:\tlearn: 0.3324447\ttotal: 17.8s\tremaining: 1m 6s\n",
      "211:\tlearn: 0.3322805\ttotal: 17.9s\tremaining: 1m 6s\n",
      "212:\tlearn: 0.3322082\ttotal: 18s\tremaining: 1m 6s\n",
      "213:\tlearn: 0.3320883\ttotal: 18.1s\tremaining: 1m 6s\n",
      "214:\tlearn: 0.3319954\ttotal: 18.2s\tremaining: 1m 6s\n",
      "215:\tlearn: 0.3319007\ttotal: 18.3s\tremaining: 1m 6s\n",
      "216:\tlearn: 0.3317612\ttotal: 18.4s\tremaining: 1m 6s\n",
      "217:\tlearn: 0.3315962\ttotal: 18.5s\tremaining: 1m 6s\n",
      "218:\tlearn: 0.3314200\ttotal: 18.5s\tremaining: 1m 6s\n",
      "219:\tlearn: 0.3313780\ttotal: 18.6s\tremaining: 1m 6s\n",
      "220:\tlearn: 0.3312241\ttotal: 18.7s\tremaining: 1m 5s\n",
      "221:\tlearn: 0.3310760\ttotal: 18.8s\tremaining: 1m 5s\n",
      "222:\tlearn: 0.3309504\ttotal: 18.8s\tremaining: 1m 5s\n",
      "223:\tlearn: 0.3308425\ttotal: 18.9s\tremaining: 1m 5s\n",
      "224:\tlearn: 0.3307301\ttotal: 19s\tremaining: 1m 5s\n",
      "225:\tlearn: 0.3306308\ttotal: 19.1s\tremaining: 1m 5s\n",
      "226:\tlearn: 0.3304841\ttotal: 19.2s\tremaining: 1m 5s\n",
      "227:\tlearn: 0.3303866\ttotal: 19.3s\tremaining: 1m 5s\n",
      "228:\tlearn: 0.3302781\ttotal: 19.4s\tremaining: 1m 5s\n",
      "229:\tlearn: 0.3301064\ttotal: 19.5s\tremaining: 1m 5s\n",
      "230:\tlearn: 0.3300390\ttotal: 19.6s\tremaining: 1m 5s\n",
      "231:\tlearn: 0.3299052\ttotal: 19.7s\tremaining: 1m 5s\n",
      "232:\tlearn: 0.3298360\ttotal: 19.8s\tremaining: 1m 5s\n",
      "233:\tlearn: 0.3297439\ttotal: 19.8s\tremaining: 1m 4s\n",
      "234:\tlearn: 0.3296559\ttotal: 20s\tremaining: 1m 4s\n",
      "235:\tlearn: 0.3295585\ttotal: 20.1s\tremaining: 1m 4s\n",
      "236:\tlearn: 0.3294970\ttotal: 20.2s\tremaining: 1m 4s\n",
      "237:\tlearn: 0.3294442\ttotal: 20.2s\tremaining: 1m 4s\n",
      "238:\tlearn: 0.3292951\ttotal: 20.3s\tremaining: 1m 4s\n",
      "239:\tlearn: 0.3291710\ttotal: 20.4s\tremaining: 1m 4s\n",
      "240:\tlearn: 0.3290860\ttotal: 20.5s\tremaining: 1m 4s\n",
      "241:\tlearn: 0.3289872\ttotal: 20.6s\tremaining: 1m 4s\n",
      "242:\tlearn: 0.3289296\ttotal: 20.7s\tremaining: 1m 4s\n",
      "243:\tlearn: 0.3288848\ttotal: 20.8s\tremaining: 1m 4s\n",
      "244:\tlearn: 0.3288385\ttotal: 20.9s\tremaining: 1m 4s\n",
      "245:\tlearn: 0.3287536\ttotal: 21s\tremaining: 1m 4s\n",
      "246:\tlearn: 0.3286274\ttotal: 21.1s\tremaining: 1m 4s\n",
      "247:\tlearn: 0.3285788\ttotal: 21.3s\tremaining: 1m 4s\n",
      "248:\tlearn: 0.3283582\ttotal: 21.4s\tremaining: 1m 4s\n",
      "249:\tlearn: 0.3282495\ttotal: 21.5s\tremaining: 1m 4s\n",
      "250:\tlearn: 0.3281951\ttotal: 21.6s\tremaining: 1m 4s\n",
      "251:\tlearn: 0.3281179\ttotal: 21.7s\tremaining: 1m 4s\n",
      "252:\tlearn: 0.3280044\ttotal: 21.8s\tremaining: 1m 4s\n",
      "253:\tlearn: 0.3279339\ttotal: 21.9s\tremaining: 1m 4s\n",
      "254:\tlearn: 0.3278051\ttotal: 22s\tremaining: 1m 4s\n",
      "255:\tlearn: 0.3277042\ttotal: 22.1s\tremaining: 1m 4s\n",
      "256:\tlearn: 0.3276339\ttotal: 22.2s\tremaining: 1m 4s\n",
      "257:\tlearn: 0.3274359\ttotal: 22.3s\tremaining: 1m 4s\n",
      "258:\tlearn: 0.3273184\ttotal: 22.4s\tremaining: 1m 4s\n",
      "259:\tlearn: 0.3272523\ttotal: 22.5s\tremaining: 1m 4s\n",
      "260:\tlearn: 0.3271668\ttotal: 22.6s\tremaining: 1m 4s\n",
      "261:\tlearn: 0.3270266\ttotal: 22.7s\tremaining: 1m 3s\n",
      "262:\tlearn: 0.3269781\ttotal: 22.8s\tremaining: 1m 3s\n",
      "263:\tlearn: 0.3269047\ttotal: 22.9s\tremaining: 1m 3s\n",
      "264:\tlearn: 0.3268194\ttotal: 23s\tremaining: 1m 3s\n",
      "265:\tlearn: 0.3265664\ttotal: 23.1s\tremaining: 1m 3s\n",
      "266:\tlearn: 0.3264614\ttotal: 23.2s\tremaining: 1m 3s\n",
      "267:\tlearn: 0.3263546\ttotal: 23.3s\tremaining: 1m 3s\n",
      "268:\tlearn: 0.3262528\ttotal: 23.3s\tremaining: 1m 3s\n",
      "269:\tlearn: 0.3261975\ttotal: 23.4s\tremaining: 1m 3s\n",
      "270:\tlearn: 0.3260555\ttotal: 23.5s\tremaining: 1m 3s\n",
      "271:\tlearn: 0.3259893\ttotal: 23.6s\tremaining: 1m 3s\n",
      "272:\tlearn: 0.3258998\ttotal: 23.7s\tremaining: 1m 3s\n",
      "273:\tlearn: 0.3258371\ttotal: 23.8s\tremaining: 1m 2s\n",
      "274:\tlearn: 0.3258048\ttotal: 23.8s\tremaining: 1m 2s\n",
      "275:\tlearn: 0.3257586\ttotal: 23.9s\tremaining: 1m 2s\n",
      "276:\tlearn: 0.3256996\ttotal: 24s\tremaining: 1m 2s\n",
      "277:\tlearn: 0.3255869\ttotal: 24.1s\tremaining: 1m 2s\n",
      "278:\tlearn: 0.3255642\ttotal: 24.2s\tremaining: 1m 2s\n",
      "279:\tlearn: 0.3255397\ttotal: 24.3s\tremaining: 1m 2s\n",
      "280:\tlearn: 0.3254406\ttotal: 24.4s\tremaining: 1m 2s\n",
      "281:\tlearn: 0.3253632\ttotal: 24.5s\tremaining: 1m 2s\n",
      "282:\tlearn: 0.3252809\ttotal: 24.6s\tremaining: 1m 2s\n",
      "283:\tlearn: 0.3251951\ttotal: 24.7s\tremaining: 1m 2s\n",
      "284:\tlearn: 0.3250806\ttotal: 24.8s\tremaining: 1m 2s\n",
      "285:\tlearn: 0.3250099\ttotal: 24.9s\tremaining: 1m 2s\n",
      "286:\tlearn: 0.3249408\ttotal: 25s\tremaining: 1m 2s\n",
      "287:\tlearn: 0.3248955\ttotal: 25.1s\tremaining: 1m 1s\n",
      "288:\tlearn: 0.3248561\ttotal: 25.2s\tremaining: 1m 1s\n",
      "289:\tlearn: 0.3247419\ttotal: 25.2s\tremaining: 1m 1s\n",
      "290:\tlearn: 0.3246874\ttotal: 25.3s\tremaining: 1m 1s\n",
      "291:\tlearn: 0.3245830\ttotal: 25.4s\tremaining: 1m 1s\n",
      "292:\tlearn: 0.3245096\ttotal: 25.5s\tremaining: 1m 1s\n",
      "293:\tlearn: 0.3243772\ttotal: 25.6s\tremaining: 1m 1s\n",
      "294:\tlearn: 0.3242873\ttotal: 25.7s\tremaining: 1m 1s\n",
      "295:\tlearn: 0.3242128\ttotal: 25.8s\tremaining: 1m 1s\n",
      "296:\tlearn: 0.3241425\ttotal: 25.9s\tremaining: 1m 1s\n",
      "297:\tlearn: 0.3240502\ttotal: 26s\tremaining: 1m 1s\n",
      "298:\tlearn: 0.3239280\ttotal: 26.1s\tremaining: 1m 1s\n",
      "299:\tlearn: 0.3238094\ttotal: 26.2s\tremaining: 1m 1s\n",
      "300:\tlearn: 0.3237748\ttotal: 26.3s\tremaining: 1m 1s\n",
      "301:\tlearn: 0.3237004\ttotal: 26.4s\tremaining: 1m 1s\n",
      "302:\tlearn: 0.3235975\ttotal: 26.5s\tremaining: 1m\n",
      "303:\tlearn: 0.3235351\ttotal: 26.6s\tremaining: 1m\n",
      "304:\tlearn: 0.3234445\ttotal: 26.7s\tremaining: 1m\n",
      "305:\tlearn: 0.3233534\ttotal: 26.8s\tremaining: 1m\n",
      "306:\tlearn: 0.3232861\ttotal: 26.9s\tremaining: 1m\n",
      "307:\tlearn: 0.3232724\ttotal: 26.9s\tremaining: 1m\n",
      "308:\tlearn: 0.3232530\ttotal: 27s\tremaining: 1m\n",
      "309:\tlearn: 0.3231518\ttotal: 27.1s\tremaining: 1m\n",
      "310:\tlearn: 0.3230776\ttotal: 27.2s\tremaining: 1m\n",
      "311:\tlearn: 0.3229652\ttotal: 27.3s\tremaining: 1m\n",
      "312:\tlearn: 0.3227238\ttotal: 27.4s\tremaining: 1m\n",
      "313:\tlearn: 0.3225401\ttotal: 27.5s\tremaining: 1m\n",
      "314:\tlearn: 0.3224407\ttotal: 27.6s\tremaining: 60s\n",
      "315:\tlearn: 0.3223599\ttotal: 27.7s\tremaining: 59.9s\n"
     ]
    },
    {
     "name": "stdout",
     "output_type": "stream",
     "text": [
      "316:\tlearn: 0.3222120\ttotal: 27.8s\tremaining: 59.8s\n",
      "317:\tlearn: 0.3220782\ttotal: 27.9s\tremaining: 59.8s\n",
      "318:\tlearn: 0.3219787\ttotal: 28s\tremaining: 59.8s\n",
      "319:\tlearn: 0.3219193\ttotal: 28.1s\tremaining: 59.7s\n",
      "320:\tlearn: 0.3218911\ttotal: 28.2s\tremaining: 59.7s\n",
      "321:\tlearn: 0.3218310\ttotal: 28.3s\tremaining: 59.6s\n",
      "322:\tlearn: 0.3217564\ttotal: 28.4s\tremaining: 59.5s\n",
      "323:\tlearn: 0.3216510\ttotal: 28.5s\tremaining: 59.5s\n",
      "324:\tlearn: 0.3215994\ttotal: 28.6s\tremaining: 59.4s\n",
      "325:\tlearn: 0.3215208\ttotal: 28.7s\tremaining: 59.3s\n",
      "326:\tlearn: 0.3214015\ttotal: 28.8s\tremaining: 59.2s\n",
      "327:\tlearn: 0.3213276\ttotal: 28.9s\tremaining: 59.2s\n",
      "328:\tlearn: 0.3212412\ttotal: 29s\tremaining: 59.1s\n",
      "329:\tlearn: 0.3211740\ttotal: 29.1s\tremaining: 59s\n",
      "330:\tlearn: 0.3211277\ttotal: 29.2s\tremaining: 58.9s\n",
      "331:\tlearn: 0.3210428\ttotal: 29.3s\tremaining: 58.9s\n",
      "332:\tlearn: 0.3209332\ttotal: 29.5s\tremaining: 59s\n",
      "333:\tlearn: 0.3208391\ttotal: 29.6s\tremaining: 58.9s\n",
      "334:\tlearn: 0.3207456\ttotal: 29.7s\tremaining: 58.9s\n",
      "335:\tlearn: 0.3207273\ttotal: 29.8s\tremaining: 58.8s\n",
      "336:\tlearn: 0.3207114\ttotal: 29.8s\tremaining: 58.7s\n",
      "337:\tlearn: 0.3206440\ttotal: 29.9s\tremaining: 58.6s\n",
      "338:\tlearn: 0.3205667\ttotal: 30s\tremaining: 58.6s\n",
      "339:\tlearn: 0.3204575\ttotal: 30.1s\tremaining: 58.5s\n",
      "340:\tlearn: 0.3203633\ttotal: 30.2s\tremaining: 58.4s\n",
      "341:\tlearn: 0.3203453\ttotal: 30.3s\tremaining: 58.3s\n",
      "342:\tlearn: 0.3202630\ttotal: 30.4s\tremaining: 58.2s\n",
      "343:\tlearn: 0.3201723\ttotal: 30.5s\tremaining: 58.1s\n",
      "344:\tlearn: 0.3200985\ttotal: 30.6s\tremaining: 58s\n",
      "345:\tlearn: 0.3200071\ttotal: 30.6s\tremaining: 57.9s\n",
      "346:\tlearn: 0.3199676\ttotal: 30.7s\tremaining: 57.8s\n",
      "347:\tlearn: 0.3199036\ttotal: 30.8s\tremaining: 57.8s\n",
      "348:\tlearn: 0.3198407\ttotal: 30.9s\tremaining: 57.7s\n",
      "349:\tlearn: 0.3197496\ttotal: 31s\tremaining: 57.6s\n",
      "350:\tlearn: 0.3196612\ttotal: 31.1s\tremaining: 57.6s\n",
      "351:\tlearn: 0.3195615\ttotal: 31.2s\tremaining: 57.5s\n",
      "352:\tlearn: 0.3194932\ttotal: 31.4s\tremaining: 57.5s\n",
      "353:\tlearn: 0.3194219\ttotal: 31.5s\tremaining: 57.4s\n",
      "354:\tlearn: 0.3193330\ttotal: 31.6s\tremaining: 57.3s\n",
      "355:\tlearn: 0.3192527\ttotal: 31.7s\tremaining: 57.3s\n",
      "356:\tlearn: 0.3192010\ttotal: 31.7s\tremaining: 57.2s\n",
      "357:\tlearn: 0.3191881\ttotal: 31.8s\tremaining: 57.1s\n",
      "358:\tlearn: 0.3191412\ttotal: 31.9s\tremaining: 57s\n",
      "359:\tlearn: 0.3190972\ttotal: 32s\tremaining: 56.9s\n",
      "360:\tlearn: 0.3190360\ttotal: 32.1s\tremaining: 56.9s\n",
      "361:\tlearn: 0.3189683\ttotal: 32.2s\tremaining: 56.8s\n",
      "362:\tlearn: 0.3188941\ttotal: 32.3s\tremaining: 56.7s\n",
      "363:\tlearn: 0.3188243\ttotal: 32.4s\tremaining: 56.6s\n",
      "364:\tlearn: 0.3187608\ttotal: 32.5s\tremaining: 56.6s\n",
      "365:\tlearn: 0.3187339\ttotal: 32.6s\tremaining: 56.5s\n",
      "366:\tlearn: 0.3186590\ttotal: 32.7s\tremaining: 56.4s\n",
      "367:\tlearn: 0.3186169\ttotal: 32.8s\tremaining: 56.3s\n",
      "368:\tlearn: 0.3185462\ttotal: 32.9s\tremaining: 56.2s\n",
      "369:\tlearn: 0.3185198\ttotal: 33s\tremaining: 56.1s\n",
      "370:\tlearn: 0.3184165\ttotal: 33.1s\tremaining: 56.1s\n",
      "371:\tlearn: 0.3183474\ttotal: 33.2s\tremaining: 56s\n",
      "372:\tlearn: 0.3182538\ttotal: 33.3s\tremaining: 55.9s\n",
      "373:\tlearn: 0.3181782\ttotal: 33.3s\tremaining: 55.8s\n",
      "374:\tlearn: 0.3180958\ttotal: 33.4s\tremaining: 55.7s\n",
      "375:\tlearn: 0.3179979\ttotal: 33.5s\tremaining: 55.6s\n",
      "376:\tlearn: 0.3179121\ttotal: 33.6s\tremaining: 55.5s\n",
      "377:\tlearn: 0.3178307\ttotal: 33.7s\tremaining: 55.4s\n",
      "378:\tlearn: 0.3177556\ttotal: 33.8s\tremaining: 55.3s\n",
      "379:\tlearn: 0.3176549\ttotal: 33.8s\tremaining: 55.2s\n",
      "380:\tlearn: 0.3176312\ttotal: 33.9s\tremaining: 55.1s\n",
      "381:\tlearn: 0.3176013\ttotal: 34s\tremaining: 55s\n",
      "382:\tlearn: 0.3175385\ttotal: 34.1s\tremaining: 55s\n",
      "383:\tlearn: 0.3174707\ttotal: 34.2s\tremaining: 54.9s\n",
      "384:\tlearn: 0.3173530\ttotal: 34.3s\tremaining: 54.8s\n",
      "385:\tlearn: 0.3173346\ttotal: 34.4s\tremaining: 54.7s\n",
      "386:\tlearn: 0.3172742\ttotal: 34.5s\tremaining: 54.7s\n",
      "387:\tlearn: 0.3171752\ttotal: 34.6s\tremaining: 54.6s\n",
      "388:\tlearn: 0.3171249\ttotal: 34.7s\tremaining: 54.5s\n",
      "389:\tlearn: 0.3169943\ttotal: 34.8s\tremaining: 54.4s\n",
      "390:\tlearn: 0.3169165\ttotal: 34.9s\tremaining: 54.4s\n",
      "391:\tlearn: 0.3168536\ttotal: 35s\tremaining: 54.3s\n",
      "392:\tlearn: 0.3167440\ttotal: 35.1s\tremaining: 54.2s\n",
      "393:\tlearn: 0.3167076\ttotal: 35.2s\tremaining: 54.1s\n",
      "394:\tlearn: 0.3166170\ttotal: 35.3s\tremaining: 54.1s\n",
      "395:\tlearn: 0.3165347\ttotal: 35.4s\tremaining: 54s\n",
      "396:\tlearn: 0.3164764\ttotal: 35.5s\tremaining: 53.9s\n",
      "397:\tlearn: 0.3164132\ttotal: 35.6s\tremaining: 53.8s\n",
      "398:\tlearn: 0.3163915\ttotal: 35.7s\tremaining: 53.7s\n",
      "399:\tlearn: 0.3163436\ttotal: 35.7s\tremaining: 53.6s\n",
      "400:\tlearn: 0.3162598\ttotal: 35.8s\tremaining: 53.5s\n",
      "401:\tlearn: 0.3162153\ttotal: 35.9s\tremaining: 53.4s\n",
      "402:\tlearn: 0.3161478\ttotal: 36s\tremaining: 53.4s\n",
      "403:\tlearn: 0.3160859\ttotal: 36.1s\tremaining: 53.3s\n",
      "404:\tlearn: 0.3159962\ttotal: 36.2s\tremaining: 53.2s\n",
      "405:\tlearn: 0.3159125\ttotal: 36.3s\tremaining: 53.1s\n",
      "406:\tlearn: 0.3158347\ttotal: 36.4s\tremaining: 53s\n",
      "407:\tlearn: 0.3157553\ttotal: 36.5s\tremaining: 53s\n",
      "408:\tlearn: 0.3156781\ttotal: 36.6s\tremaining: 52.9s\n",
      "409:\tlearn: 0.3156202\ttotal: 36.7s\tremaining: 52.8s\n",
      "410:\tlearn: 0.3155102\ttotal: 36.8s\tremaining: 52.7s\n",
      "411:\tlearn: 0.3154204\ttotal: 36.9s\tremaining: 52.6s\n",
      "412:\tlearn: 0.3153558\ttotal: 36.9s\tremaining: 52.5s\n",
      "413:\tlearn: 0.3152435\ttotal: 37s\tremaining: 52.4s\n",
      "414:\tlearn: 0.3151848\ttotal: 37.2s\tremaining: 52.4s\n",
      "415:\tlearn: 0.3151689\ttotal: 37.3s\tremaining: 52.3s\n",
      "416:\tlearn: 0.3150920\ttotal: 37.4s\tremaining: 52.3s\n",
      "417:\tlearn: 0.3150239\ttotal: 37.5s\tremaining: 52.2s\n",
      "418:\tlearn: 0.3149790\ttotal: 37.6s\tremaining: 52.1s\n",
      "419:\tlearn: 0.3149149\ttotal: 37.7s\tremaining: 52.1s\n",
      "420:\tlearn: 0.3148591\ttotal: 37.8s\tremaining: 52s\n",
      "421:\tlearn: 0.3147665\ttotal: 37.9s\tremaining: 51.9s\n",
      "422:\tlearn: 0.3146974\ttotal: 38s\tremaining: 51.8s\n",
      "423:\tlearn: 0.3145918\ttotal: 38.1s\tremaining: 51.8s\n",
      "424:\tlearn: 0.3145205\ttotal: 38.2s\tremaining: 51.7s\n",
      "425:\tlearn: 0.3144835\ttotal: 38.3s\tremaining: 51.6s\n",
      "426:\tlearn: 0.3143963\ttotal: 38.4s\tremaining: 51.5s\n",
      "427:\tlearn: 0.3143430\ttotal: 38.5s\tremaining: 51.5s\n",
      "428:\tlearn: 0.3142904\ttotal: 38.6s\tremaining: 51.4s\n",
      "429:\tlearn: 0.3142526\ttotal: 38.7s\tremaining: 51.3s\n",
      "430:\tlearn: 0.3142086\ttotal: 38.8s\tremaining: 51.2s\n",
      "431:\tlearn: 0.3141114\ttotal: 38.9s\tremaining: 51.1s\n",
      "432:\tlearn: 0.3140957\ttotal: 38.9s\tremaining: 51s\n",
      "433:\tlearn: 0.3140211\ttotal: 39s\tremaining: 50.9s\n",
      "434:\tlearn: 0.3139206\ttotal: 39.1s\tremaining: 50.8s\n",
      "435:\tlearn: 0.3139108\ttotal: 39.2s\tremaining: 50.7s\n",
      "436:\tlearn: 0.3137734\ttotal: 39.3s\tremaining: 50.7s\n",
      "437:\tlearn: 0.3136771\ttotal: 39.4s\tremaining: 50.6s\n",
      "438:\tlearn: 0.3136060\ttotal: 39.5s\tremaining: 50.5s\n",
      "439:\tlearn: 0.3135561\ttotal: 39.6s\tremaining: 50.4s\n",
      "440:\tlearn: 0.3134875\ttotal: 39.7s\tremaining: 50.3s\n",
      "441:\tlearn: 0.3133874\ttotal: 39.8s\tremaining: 50.2s\n",
      "442:\tlearn: 0.3133470\ttotal: 39.8s\tremaining: 50.1s\n",
      "443:\tlearn: 0.3132606\ttotal: 39.9s\tremaining: 50s\n",
      "444:\tlearn: 0.3131990\ttotal: 40s\tremaining: 49.9s\n",
      "445:\tlearn: 0.3131257\ttotal: 40.1s\tremaining: 49.8s\n",
      "446:\tlearn: 0.3130763\ttotal: 40.2s\tremaining: 49.7s\n",
      "447:\tlearn: 0.3130411\ttotal: 40.3s\tremaining: 49.6s\n",
      "448:\tlearn: 0.3129095\ttotal: 40.4s\tremaining: 49.6s\n",
      "449:\tlearn: 0.3127230\ttotal: 40.5s\tremaining: 49.5s\n",
      "450:\tlearn: 0.3126795\ttotal: 40.6s\tremaining: 49.4s\n",
      "451:\tlearn: 0.3126375\ttotal: 40.7s\tremaining: 49.3s\n",
      "452:\tlearn: 0.3126131\ttotal: 40.8s\tremaining: 49.2s\n",
      "453:\tlearn: 0.3125820\ttotal: 40.9s\tremaining: 49.1s\n",
      "454:\tlearn: 0.3125224\ttotal: 41s\tremaining: 49.1s\n",
      "455:\tlearn: 0.3124534\ttotal: 41.1s\tremaining: 49s\n",
      "456:\tlearn: 0.3124037\ttotal: 41.2s\tremaining: 48.9s\n",
      "457:\tlearn: 0.3123861\ttotal: 41.2s\tremaining: 48.8s\n",
      "458:\tlearn: 0.3122481\ttotal: 41.3s\tremaining: 48.7s\n",
      "459:\tlearn: 0.3122075\ttotal: 41.4s\tremaining: 48.6s\n",
      "460:\tlearn: 0.3121318\ttotal: 41.5s\tremaining: 48.5s\n",
      "461:\tlearn: 0.3120922\ttotal: 41.6s\tremaining: 48.5s\n",
      "462:\tlearn: 0.3120435\ttotal: 41.7s\tremaining: 48.4s\n",
      "463:\tlearn: 0.3120080\ttotal: 41.8s\tremaining: 48.3s\n",
      "464:\tlearn: 0.3119520\ttotal: 41.9s\tremaining: 48.2s\n",
      "465:\tlearn: 0.3119051\ttotal: 42s\tremaining: 48.1s\n",
      "466:\tlearn: 0.3118691\ttotal: 42.1s\tremaining: 48s\n",
      "467:\tlearn: 0.3117940\ttotal: 42.2s\tremaining: 48s\n",
      "468:\tlearn: 0.3117353\ttotal: 42.3s\tremaining: 47.9s\n",
      "469:\tlearn: 0.3116971\ttotal: 42.4s\tremaining: 47.8s\n",
      "470:\tlearn: 0.3116189\ttotal: 42.5s\tremaining: 47.7s\n",
      "471:\tlearn: 0.3115026\ttotal: 42.5s\tremaining: 47.6s\n",
      "472:\tlearn: 0.3114653\ttotal: 42.6s\tremaining: 47.5s\n",
      "473:\tlearn: 0.3114000\ttotal: 42.7s\tremaining: 47.4s\n",
      "474:\tlearn: 0.3113721\ttotal: 42.8s\tremaining: 47.3s\n",
      "475:\tlearn: 0.3113294\ttotal: 42.9s\tremaining: 47.2s\n",
      "476:\tlearn: 0.3112979\ttotal: 43s\tremaining: 47.1s\n"
     ]
    },
    {
     "name": "stdout",
     "output_type": "stream",
     "text": [
      "477:\tlearn: 0.3111971\ttotal: 43.1s\tremaining: 47.1s\n",
      "478:\tlearn: 0.3111784\ttotal: 43.2s\tremaining: 47s\n",
      "479:\tlearn: 0.3110772\ttotal: 43.3s\tremaining: 46.9s\n",
      "480:\tlearn: 0.3109681\ttotal: 43.4s\tremaining: 46.8s\n",
      "481:\tlearn: 0.3108788\ttotal: 43.5s\tremaining: 46.7s\n",
      "482:\tlearn: 0.3108087\ttotal: 43.6s\tremaining: 46.7s\n",
      "483:\tlearn: 0.3107703\ttotal: 43.7s\tremaining: 46.6s\n",
      "484:\tlearn: 0.3106066\ttotal: 43.8s\tremaining: 46.5s\n",
      "485:\tlearn: 0.3105477\ttotal: 43.9s\tremaining: 46.4s\n",
      "486:\tlearn: 0.3104734\ttotal: 44s\tremaining: 46.3s\n",
      "487:\tlearn: 0.3104482\ttotal: 44.1s\tremaining: 46.3s\n",
      "488:\tlearn: 0.3104096\ttotal: 44.2s\tremaining: 46.2s\n",
      "489:\tlearn: 0.3102684\ttotal: 44.3s\tremaining: 46.1s\n",
      "490:\tlearn: 0.3101793\ttotal: 44.4s\tremaining: 46s\n",
      "491:\tlearn: 0.3100614\ttotal: 44.5s\tremaining: 45.9s\n",
      "492:\tlearn: 0.3100498\ttotal: 44.6s\tremaining: 45.8s\n",
      "493:\tlearn: 0.3100178\ttotal: 44.7s\tremaining: 45.7s\n",
      "494:\tlearn: 0.3099527\ttotal: 44.7s\tremaining: 45.6s\n",
      "495:\tlearn: 0.3098877\ttotal: 44.8s\tremaining: 45.6s\n",
      "496:\tlearn: 0.3098549\ttotal: 44.9s\tremaining: 45.5s\n",
      "497:\tlearn: 0.3097870\ttotal: 45s\tremaining: 45.4s\n",
      "498:\tlearn: 0.3097136\ttotal: 45.1s\tremaining: 45.3s\n",
      "499:\tlearn: 0.3095706\ttotal: 45.2s\tremaining: 45.2s\n",
      "500:\tlearn: 0.3095402\ttotal: 45.3s\tremaining: 45.2s\n",
      "501:\tlearn: 0.3094515\ttotal: 45.4s\tremaining: 45.1s\n",
      "502:\tlearn: 0.3093400\ttotal: 45.5s\tremaining: 45s\n",
      "503:\tlearn: 0.3092620\ttotal: 45.6s\tremaining: 44.9s\n",
      "504:\tlearn: 0.3092221\ttotal: 45.7s\tremaining: 44.8s\n",
      "505:\tlearn: 0.3091487\ttotal: 45.8s\tremaining: 44.7s\n",
      "506:\tlearn: 0.3091279\ttotal: 45.8s\tremaining: 44.6s\n",
      "507:\tlearn: 0.3090606\ttotal: 45.9s\tremaining: 44.5s\n",
      "508:\tlearn: 0.3090027\ttotal: 46s\tremaining: 44.4s\n",
      "509:\tlearn: 0.3089151\ttotal: 46.1s\tremaining: 44.3s\n",
      "510:\tlearn: 0.3088872\ttotal: 46.2s\tremaining: 44.2s\n",
      "511:\tlearn: 0.3088436\ttotal: 46.3s\tremaining: 44.1s\n",
      "512:\tlearn: 0.3088019\ttotal: 46.4s\tremaining: 44s\n",
      "513:\tlearn: 0.3087421\ttotal: 46.5s\tremaining: 43.9s\n",
      "514:\tlearn: 0.3086288\ttotal: 46.6s\tremaining: 43.9s\n",
      "515:\tlearn: 0.3085923\ttotal: 46.7s\tremaining: 43.8s\n",
      "516:\tlearn: 0.3085327\ttotal: 46.8s\tremaining: 43.7s\n",
      "517:\tlearn: 0.3084795\ttotal: 46.9s\tremaining: 43.6s\n",
      "518:\tlearn: 0.3084513\ttotal: 47s\tremaining: 43.5s\n",
      "519:\tlearn: 0.3084177\ttotal: 47.1s\tremaining: 43.5s\n",
      "520:\tlearn: 0.3083723\ttotal: 47.2s\tremaining: 43.4s\n",
      "521:\tlearn: 0.3083090\ttotal: 47.3s\tremaining: 43.3s\n",
      "522:\tlearn: 0.3082876\ttotal: 47.4s\tremaining: 43.3s\n",
      "523:\tlearn: 0.3082206\ttotal: 47.5s\tremaining: 43.2s\n",
      "524:\tlearn: 0.3081638\ttotal: 47.6s\tremaining: 43.1s\n",
      "525:\tlearn: 0.3081106\ttotal: 47.7s\tremaining: 43s\n",
      "526:\tlearn: 0.3079935\ttotal: 47.8s\tremaining: 42.9s\n",
      "527:\tlearn: 0.3079491\ttotal: 47.9s\tremaining: 42.8s\n",
      "528:\tlearn: 0.3079078\ttotal: 48s\tremaining: 42.8s\n",
      "529:\tlearn: 0.3078492\ttotal: 48.1s\tremaining: 42.7s\n",
      "530:\tlearn: 0.3077575\ttotal: 48.2s\tremaining: 42.6s\n",
      "531:\tlearn: 0.3077009\ttotal: 48.3s\tremaining: 42.5s\n",
      "532:\tlearn: 0.3076492\ttotal: 48.4s\tremaining: 42.4s\n",
      "533:\tlearn: 0.3076249\ttotal: 48.5s\tremaining: 42.3s\n",
      "534:\tlearn: 0.3075558\ttotal: 48.6s\tremaining: 42.2s\n",
      "535:\tlearn: 0.3075256\ttotal: 48.7s\tremaining: 42.1s\n",
      "536:\tlearn: 0.3074633\ttotal: 48.8s\tremaining: 42.1s\n",
      "537:\tlearn: 0.3074013\ttotal: 48.9s\tremaining: 42s\n",
      "538:\tlearn: 0.3073140\ttotal: 49s\tremaining: 41.9s\n",
      "539:\tlearn: 0.3072431\ttotal: 49s\tremaining: 41.8s\n",
      "540:\tlearn: 0.3071840\ttotal: 49.1s\tremaining: 41.7s\n",
      "541:\tlearn: 0.3071339\ttotal: 49.2s\tremaining: 41.6s\n",
      "542:\tlearn: 0.3070960\ttotal: 49.3s\tremaining: 41.5s\n",
      "543:\tlearn: 0.3070586\ttotal: 49.4s\tremaining: 41.4s\n",
      "544:\tlearn: 0.3069921\ttotal: 49.5s\tremaining: 41.3s\n",
      "545:\tlearn: 0.3069460\ttotal: 49.6s\tremaining: 41.2s\n",
      "546:\tlearn: 0.3069266\ttotal: 49.7s\tremaining: 41.1s\n",
      "547:\tlearn: 0.3068634\ttotal: 49.7s\tremaining: 41s\n",
      "548:\tlearn: 0.3067764\ttotal: 49.8s\tremaining: 40.9s\n",
      "549:\tlearn: 0.3067352\ttotal: 49.9s\tremaining: 40.8s\n",
      "550:\tlearn: 0.3066332\ttotal: 50s\tremaining: 40.8s\n",
      "551:\tlearn: 0.3065157\ttotal: 50.1s\tremaining: 40.7s\n",
      "552:\tlearn: 0.3064465\ttotal: 50.3s\tremaining: 40.6s\n",
      "553:\tlearn: 0.3064148\ttotal: 50.3s\tremaining: 40.5s\n",
      "554:\tlearn: 0.3063559\ttotal: 50.4s\tremaining: 40.4s\n",
      "555:\tlearn: 0.3062718\ttotal: 50.6s\tremaining: 40.4s\n",
      "556:\tlearn: 0.3062228\ttotal: 50.6s\tremaining: 40.3s\n",
      "557:\tlearn: 0.3061747\ttotal: 50.7s\tremaining: 40.2s\n",
      "558:\tlearn: 0.3061282\ttotal: 50.8s\tremaining: 40.1s\n",
      "559:\tlearn: 0.3060561\ttotal: 50.9s\tremaining: 40s\n",
      "560:\tlearn: 0.3060173\ttotal: 51s\tremaining: 39.9s\n",
      "561:\tlearn: 0.3059740\ttotal: 51.2s\tremaining: 39.9s\n",
      "562:\tlearn: 0.3059279\ttotal: 51.2s\tremaining: 39.8s\n",
      "563:\tlearn: 0.3058328\ttotal: 51.3s\tremaining: 39.7s\n",
      "564:\tlearn: 0.3057142\ttotal: 51.4s\tremaining: 39.6s\n",
      "565:\tlearn: 0.3056517\ttotal: 51.5s\tremaining: 39.5s\n",
      "566:\tlearn: 0.3056411\ttotal: 51.6s\tremaining: 39.4s\n",
      "567:\tlearn: 0.3055878\ttotal: 51.7s\tremaining: 39.3s\n",
      "568:\tlearn: 0.3055077\ttotal: 51.8s\tremaining: 39.2s\n",
      "569:\tlearn: 0.3054799\ttotal: 51.9s\tremaining: 39.1s\n",
      "570:\tlearn: 0.3054393\ttotal: 52s\tremaining: 39s\n",
      "571:\tlearn: 0.3053597\ttotal: 52.1s\tremaining: 39s\n",
      "572:\tlearn: 0.3052493\ttotal: 52.2s\tremaining: 38.9s\n",
      "573:\tlearn: 0.3051672\ttotal: 52.3s\tremaining: 38.8s\n",
      "574:\tlearn: 0.3050895\ttotal: 52.3s\tremaining: 38.7s\n",
      "575:\tlearn: 0.3050394\ttotal: 52.4s\tremaining: 38.6s\n",
      "576:\tlearn: 0.3049992\ttotal: 52.5s\tremaining: 38.5s\n",
      "577:\tlearn: 0.3049811\ttotal: 52.6s\tremaining: 38.4s\n",
      "578:\tlearn: 0.3049097\ttotal: 52.7s\tremaining: 38.3s\n",
      "579:\tlearn: 0.3047092\ttotal: 52.8s\tremaining: 38.2s\n",
      "580:\tlearn: 0.3046571\ttotal: 52.9s\tremaining: 38.1s\n",
      "581:\tlearn: 0.3046120\ttotal: 52.9s\tremaining: 38s\n",
      "582:\tlearn: 0.3045503\ttotal: 53s\tremaining: 37.9s\n",
      "583:\tlearn: 0.3044867\ttotal: 53.1s\tremaining: 37.9s\n",
      "584:\tlearn: 0.3044226\ttotal: 53.2s\tremaining: 37.8s\n",
      "585:\tlearn: 0.3043244\ttotal: 53.4s\tremaining: 37.7s\n",
      "586:\tlearn: 0.3042712\ttotal: 53.5s\tremaining: 37.6s\n",
      "587:\tlearn: 0.3042029\ttotal: 53.6s\tremaining: 37.5s\n",
      "588:\tlearn: 0.3041495\ttotal: 53.6s\tremaining: 37.4s\n",
      "589:\tlearn: 0.3040987\ttotal: 53.7s\tremaining: 37.3s\n",
      "590:\tlearn: 0.3040472\ttotal: 53.8s\tremaining: 37.2s\n",
      "591:\tlearn: 0.3039947\ttotal: 53.9s\tremaining: 37.2s\n",
      "592:\tlearn: 0.3039160\ttotal: 54s\tremaining: 37.1s\n",
      "593:\tlearn: 0.3038842\ttotal: 54.1s\tremaining: 37s\n",
      "594:\tlearn: 0.3038618\ttotal: 54.2s\tremaining: 36.9s\n",
      "595:\tlearn: 0.3038361\ttotal: 54.3s\tremaining: 36.8s\n",
      "596:\tlearn: 0.3037862\ttotal: 54.4s\tremaining: 36.7s\n",
      "597:\tlearn: 0.3037231\ttotal: 54.5s\tremaining: 36.6s\n",
      "598:\tlearn: 0.3036939\ttotal: 54.6s\tremaining: 36.6s\n",
      "599:\tlearn: 0.3036312\ttotal: 54.7s\tremaining: 36.5s\n",
      "600:\tlearn: 0.3035974\ttotal: 54.8s\tremaining: 36.4s\n",
      "601:\tlearn: 0.3035477\ttotal: 54.9s\tremaining: 36.3s\n",
      "602:\tlearn: 0.3033915\ttotal: 55s\tremaining: 36.2s\n",
      "603:\tlearn: 0.3032480\ttotal: 55.1s\tremaining: 36.1s\n",
      "604:\tlearn: 0.3032140\ttotal: 55.2s\tremaining: 36s\n",
      "605:\tlearn: 0.3031485\ttotal: 55.3s\tremaining: 35.9s\n",
      "606:\tlearn: 0.3030895\ttotal: 55.4s\tremaining: 35.9s\n",
      "607:\tlearn: 0.3030470\ttotal: 55.5s\tremaining: 35.8s\n",
      "608:\tlearn: 0.3030015\ttotal: 55.5s\tremaining: 35.7s\n",
      "609:\tlearn: 0.3029260\ttotal: 55.6s\tremaining: 35.6s\n",
      "610:\tlearn: 0.3028915\ttotal: 55.7s\tremaining: 35.5s\n",
      "611:\tlearn: 0.3027118\ttotal: 55.8s\tremaining: 35.4s\n",
      "612:\tlearn: 0.3026740\ttotal: 55.9s\tremaining: 35.3s\n",
      "613:\tlearn: 0.3026014\ttotal: 56s\tremaining: 35.2s\n",
      "614:\tlearn: 0.3025729\ttotal: 56s\tremaining: 35.1s\n",
      "615:\tlearn: 0.3025223\ttotal: 56.1s\tremaining: 35s\n",
      "616:\tlearn: 0.3024605\ttotal: 56.2s\tremaining: 34.9s\n",
      "617:\tlearn: 0.3024320\ttotal: 56.3s\tremaining: 34.8s\n",
      "618:\tlearn: 0.3023544\ttotal: 56.4s\tremaining: 34.7s\n",
      "619:\tlearn: 0.3023090\ttotal: 56.5s\tremaining: 34.7s\n",
      "620:\tlearn: 0.3022464\ttotal: 56.6s\tremaining: 34.6s\n",
      "621:\tlearn: 0.3021818\ttotal: 56.7s\tremaining: 34.5s\n",
      "622:\tlearn: 0.3021159\ttotal: 56.8s\tremaining: 34.4s\n",
      "623:\tlearn: 0.3020843\ttotal: 56.9s\tremaining: 34.3s\n",
      "624:\tlearn: 0.3019439\ttotal: 57s\tremaining: 34.2s\n",
      "625:\tlearn: 0.3018851\ttotal: 57.1s\tremaining: 34.1s\n",
      "626:\tlearn: 0.3018434\ttotal: 57.2s\tremaining: 34s\n",
      "627:\tlearn: 0.3018038\ttotal: 57.3s\tremaining: 34s\n",
      "628:\tlearn: 0.3017368\ttotal: 57.4s\tremaining: 33.9s\n",
      "629:\tlearn: 0.3016577\ttotal: 57.5s\tremaining: 33.8s\n",
      "630:\tlearn: 0.3016422\ttotal: 57.6s\tremaining: 33.7s\n",
      "631:\tlearn: 0.3016035\ttotal: 57.7s\tremaining: 33.6s\n",
      "632:\tlearn: 0.3015096\ttotal: 57.8s\tremaining: 33.5s\n",
      "633:\tlearn: 0.3014556\ttotal: 57.9s\tremaining: 33.4s\n",
      "634:\tlearn: 0.3013378\ttotal: 58s\tremaining: 33.3s\n",
      "635:\tlearn: 0.3012766\ttotal: 58.1s\tremaining: 33.2s\n",
      "636:\tlearn: 0.3011751\ttotal: 58.2s\tremaining: 33.2s\n"
     ]
    },
    {
     "name": "stdout",
     "output_type": "stream",
     "text": [
      "637:\tlearn: 0.3011188\ttotal: 58.3s\tremaining: 33.1s\n",
      "638:\tlearn: 0.3010536\ttotal: 58.4s\tremaining: 33s\n",
      "639:\tlearn: 0.3009846\ttotal: 58.5s\tremaining: 32.9s\n",
      "640:\tlearn: 0.3009606\ttotal: 58.5s\tremaining: 32.8s\n",
      "641:\tlearn: 0.3009057\ttotal: 58.6s\tremaining: 32.7s\n",
      "642:\tlearn: 0.3008765\ttotal: 58.7s\tremaining: 32.6s\n",
      "643:\tlearn: 0.3007845\ttotal: 58.8s\tremaining: 32.5s\n",
      "644:\tlearn: 0.3007369\ttotal: 58.9s\tremaining: 32.4s\n",
      "645:\tlearn: 0.3006760\ttotal: 59s\tremaining: 32.3s\n",
      "646:\tlearn: 0.3006525\ttotal: 59.1s\tremaining: 32.2s\n",
      "647:\tlearn: 0.3006073\ttotal: 59.2s\tremaining: 32.1s\n",
      "648:\tlearn: 0.3005261\ttotal: 59.3s\tremaining: 32.1s\n",
      "649:\tlearn: 0.3004634\ttotal: 59.4s\tremaining: 32s\n",
      "650:\tlearn: 0.3003537\ttotal: 59.5s\tremaining: 31.9s\n",
      "651:\tlearn: 0.3003463\ttotal: 59.6s\tremaining: 31.8s\n",
      "652:\tlearn: 0.3001901\ttotal: 59.7s\tremaining: 31.7s\n",
      "653:\tlearn: 0.3001467\ttotal: 59.7s\tremaining: 31.6s\n",
      "654:\tlearn: 0.3000762\ttotal: 59.8s\tremaining: 31.5s\n",
      "655:\tlearn: 0.2999999\ttotal: 60s\tremaining: 31.5s\n",
      "656:\tlearn: 0.2999424\ttotal: 1m\tremaining: 31.4s\n",
      "657:\tlearn: 0.2999174\ttotal: 1m\tremaining: 31.3s\n",
      "658:\tlearn: 0.2998734\ttotal: 1m\tremaining: 31.2s\n",
      "659:\tlearn: 0.2997948\ttotal: 1m\tremaining: 31.1s\n",
      "660:\tlearn: 0.2997662\ttotal: 1m\tremaining: 31s\n",
      "661:\tlearn: 0.2997048\ttotal: 1m\tremaining: 30.9s\n",
      "662:\tlearn: 0.2996610\ttotal: 1m\tremaining: 30.8s\n",
      "663:\tlearn: 0.2996324\ttotal: 1m\tremaining: 30.7s\n",
      "664:\tlearn: 0.2996022\ttotal: 1m\tremaining: 30.7s\n",
      "665:\tlearn: 0.2995444\ttotal: 1m\tremaining: 30.6s\n",
      "666:\tlearn: 0.2994637\ttotal: 1m 1s\tremaining: 30.5s\n",
      "667:\tlearn: 0.2994062\ttotal: 1m 1s\tremaining: 30.4s\n",
      "668:\tlearn: 0.2992997\ttotal: 1m 1s\tremaining: 30.3s\n",
      "669:\tlearn: 0.2992456\ttotal: 1m 1s\tremaining: 30.2s\n",
      "670:\tlearn: 0.2991866\ttotal: 1m 1s\tremaining: 30.1s\n",
      "671:\tlearn: 0.2991436\ttotal: 1m 1s\tremaining: 30s\n",
      "672:\tlearn: 0.2991238\ttotal: 1m 1s\tremaining: 29.9s\n",
      "673:\tlearn: 0.2990818\ttotal: 1m 1s\tremaining: 29.8s\n",
      "674:\tlearn: 0.2990364\ttotal: 1m 1s\tremaining: 29.8s\n",
      "675:\tlearn: 0.2989993\ttotal: 1m 1s\tremaining: 29.7s\n",
      "676:\tlearn: 0.2989710\ttotal: 1m 1s\tremaining: 29.6s\n",
      "677:\tlearn: 0.2989437\ttotal: 1m 2s\tremaining: 29.5s\n",
      "678:\tlearn: 0.2989116\ttotal: 1m 2s\tremaining: 29.4s\n",
      "679:\tlearn: 0.2988955\ttotal: 1m 2s\tremaining: 29.3s\n",
      "680:\tlearn: 0.2988382\ttotal: 1m 2s\tremaining: 29.2s\n",
      "681:\tlearn: 0.2987848\ttotal: 1m 2s\tremaining: 29.1s\n",
      "682:\tlearn: 0.2987375\ttotal: 1m 2s\tremaining: 29s\n",
      "683:\tlearn: 0.2986746\ttotal: 1m 2s\tremaining: 28.9s\n",
      "684:\tlearn: 0.2986149\ttotal: 1m 2s\tremaining: 28.8s\n",
      "685:\tlearn: 0.2985856\ttotal: 1m 2s\tremaining: 28.7s\n",
      "686:\tlearn: 0.2985346\ttotal: 1m 2s\tremaining: 28.6s\n",
      "687:\tlearn: 0.2985175\ttotal: 1m 2s\tremaining: 28.5s\n",
      "688:\tlearn: 0.2984846\ttotal: 1m 3s\tremaining: 28.5s\n",
      "689:\tlearn: 0.2984067\ttotal: 1m 3s\tremaining: 28.4s\n",
      "690:\tlearn: 0.2983710\ttotal: 1m 3s\tremaining: 28.3s\n",
      "691:\tlearn: 0.2982885\ttotal: 1m 3s\tremaining: 28.2s\n",
      "692:\tlearn: 0.2982638\ttotal: 1m 3s\tremaining: 28.1s\n",
      "693:\tlearn: 0.2982382\ttotal: 1m 3s\tremaining: 28s\n",
      "694:\tlearn: 0.2981700\ttotal: 1m 3s\tremaining: 28s\n",
      "695:\tlearn: 0.2981244\ttotal: 1m 3s\tremaining: 27.9s\n",
      "696:\tlearn: 0.2981058\ttotal: 1m 3s\tremaining: 27.8s\n",
      "697:\tlearn: 0.2980897\ttotal: 1m 3s\tremaining: 27.7s\n",
      "698:\tlearn: 0.2980382\ttotal: 1m 4s\tremaining: 27.6s\n",
      "699:\tlearn: 0.2980229\ttotal: 1m 4s\tremaining: 27.5s\n",
      "700:\tlearn: 0.2980042\ttotal: 1m 4s\tremaining: 27.4s\n",
      "701:\tlearn: 0.2979825\ttotal: 1m 4s\tremaining: 27.3s\n",
      "702:\tlearn: 0.2978877\ttotal: 1m 4s\tremaining: 27.2s\n",
      "703:\tlearn: 0.2978818\ttotal: 1m 4s\tremaining: 27.1s\n",
      "704:\tlearn: 0.2978030\ttotal: 1m 4s\tremaining: 27s\n",
      "705:\tlearn: 0.2977797\ttotal: 1m 4s\tremaining: 26.9s\n",
      "706:\tlearn: 0.2976282\ttotal: 1m 4s\tremaining: 26.9s\n",
      "707:\tlearn: 0.2975746\ttotal: 1m 4s\tremaining: 26.8s\n",
      "708:\tlearn: 0.2974637\ttotal: 1m 4s\tremaining: 26.7s\n",
      "709:\tlearn: 0.2974119\ttotal: 1m 5s\tremaining: 26.6s\n",
      "710:\tlearn: 0.2973529\ttotal: 1m 5s\tremaining: 26.5s\n",
      "711:\tlearn: 0.2973145\ttotal: 1m 5s\tremaining: 26.4s\n",
      "712:\tlearn: 0.2973074\ttotal: 1m 5s\tremaining: 26.3s\n",
      "713:\tlearn: 0.2972814\ttotal: 1m 5s\tremaining: 26.2s\n",
      "714:\tlearn: 0.2972208\ttotal: 1m 5s\tremaining: 26.1s\n",
      "715:\tlearn: 0.2971819\ttotal: 1m 5s\tremaining: 26s\n",
      "716:\tlearn: 0.2971653\ttotal: 1m 5s\tremaining: 25.9s\n",
      "717:\tlearn: 0.2971122\ttotal: 1m 5s\tremaining: 25.8s\n",
      "718:\tlearn: 0.2970342\ttotal: 1m 5s\tremaining: 25.8s\n",
      "719:\tlearn: 0.2970018\ttotal: 1m 6s\tremaining: 25.7s\n",
      "720:\tlearn: 0.2969759\ttotal: 1m 6s\tremaining: 25.6s\n",
      "721:\tlearn: 0.2969264\ttotal: 1m 6s\tremaining: 25.5s\n",
      "722:\tlearn: 0.2968908\ttotal: 1m 6s\tremaining: 25.4s\n",
      "723:\tlearn: 0.2968792\ttotal: 1m 6s\tremaining: 25.4s\n",
      "724:\tlearn: 0.2968141\ttotal: 1m 6s\tremaining: 25.3s\n",
      "725:\tlearn: 0.2967335\ttotal: 1m 6s\tremaining: 25.2s\n",
      "726:\tlearn: 0.2967111\ttotal: 1m 6s\tremaining: 25.1s\n",
      "727:\tlearn: 0.2966742\ttotal: 1m 6s\tremaining: 25s\n",
      "728:\tlearn: 0.2966216\ttotal: 1m 7s\tremaining: 24.9s\n",
      "729:\tlearn: 0.2965511\ttotal: 1m 7s\tremaining: 24.8s\n",
      "730:\tlearn: 0.2965249\ttotal: 1m 7s\tremaining: 24.7s\n",
      "731:\tlearn: 0.2964382\ttotal: 1m 7s\tremaining: 24.7s\n",
      "732:\tlearn: 0.2963918\ttotal: 1m 7s\tremaining: 24.6s\n",
      "733:\tlearn: 0.2963399\ttotal: 1m 7s\tremaining: 24.5s\n",
      "734:\tlearn: 0.2962827\ttotal: 1m 7s\tremaining: 24.4s\n",
      "735:\tlearn: 0.2962057\ttotal: 1m 7s\tremaining: 24.3s\n",
      "736:\tlearn: 0.2961945\ttotal: 1m 7s\tremaining: 24.2s\n",
      "737:\tlearn: 0.2961318\ttotal: 1m 8s\tremaining: 24.2s\n",
      "738:\tlearn: 0.2961066\ttotal: 1m 8s\tremaining: 24.1s\n",
      "739:\tlearn: 0.2960596\ttotal: 1m 8s\tremaining: 24s\n",
      "740:\tlearn: 0.2959834\ttotal: 1m 8s\tremaining: 23.9s\n",
      "741:\tlearn: 0.2959210\ttotal: 1m 8s\tremaining: 23.8s\n",
      "742:\tlearn: 0.2958361\ttotal: 1m 8s\tremaining: 23.7s\n",
      "743:\tlearn: 0.2957797\ttotal: 1m 8s\tremaining: 23.6s\n",
      "744:\tlearn: 0.2957474\ttotal: 1m 8s\tremaining: 23.6s\n",
      "745:\tlearn: 0.2957150\ttotal: 1m 8s\tremaining: 23.5s\n",
      "746:\tlearn: 0.2956933\ttotal: 1m 9s\tremaining: 23.4s\n",
      "747:\tlearn: 0.2956740\ttotal: 1m 9s\tremaining: 23.3s\n",
      "748:\tlearn: 0.2955960\ttotal: 1m 9s\tremaining: 23.2s\n",
      "749:\tlearn: 0.2955230\ttotal: 1m 9s\tremaining: 23.2s\n",
      "750:\tlearn: 0.2954345\ttotal: 1m 9s\tremaining: 23.1s\n",
      "751:\tlearn: 0.2954117\ttotal: 1m 9s\tremaining: 23s\n",
      "752:\tlearn: 0.2953402\ttotal: 1m 9s\tremaining: 22.9s\n",
      "753:\tlearn: 0.2952983\ttotal: 1m 9s\tremaining: 22.8s\n",
      "754:\tlearn: 0.2952308\ttotal: 1m 10s\tremaining: 22.7s\n",
      "755:\tlearn: 0.2951771\ttotal: 1m 10s\tremaining: 22.6s\n",
      "756:\tlearn: 0.2951305\ttotal: 1m 10s\tremaining: 22.6s\n",
      "757:\tlearn: 0.2950654\ttotal: 1m 10s\tremaining: 22.5s\n",
      "758:\tlearn: 0.2949721\ttotal: 1m 10s\tremaining: 22.4s\n",
      "759:\tlearn: 0.2949403\ttotal: 1m 10s\tremaining: 22.3s\n",
      "760:\tlearn: 0.2949142\ttotal: 1m 10s\tremaining: 22.2s\n",
      "761:\tlearn: 0.2949024\ttotal: 1m 10s\tremaining: 22.1s\n",
      "762:\tlearn: 0.2948602\ttotal: 1m 10s\tremaining: 22s\n",
      "763:\tlearn: 0.2948179\ttotal: 1m 11s\tremaining: 21.9s\n",
      "764:\tlearn: 0.2947315\ttotal: 1m 11s\tremaining: 21.8s\n",
      "765:\tlearn: 0.2946600\ttotal: 1m 11s\tremaining: 21.8s\n",
      "766:\tlearn: 0.2946112\ttotal: 1m 11s\tremaining: 21.7s\n",
      "767:\tlearn: 0.2945742\ttotal: 1m 11s\tremaining: 21.6s\n",
      "768:\tlearn: 0.2945338\ttotal: 1m 11s\tremaining: 21.5s\n",
      "769:\tlearn: 0.2944728\ttotal: 1m 11s\tremaining: 21.4s\n",
      "770:\tlearn: 0.2944246\ttotal: 1m 11s\tremaining: 21.3s\n",
      "771:\tlearn: 0.2943394\ttotal: 1m 11s\tremaining: 21.2s\n",
      "772:\tlearn: 0.2942946\ttotal: 1m 11s\tremaining: 21.1s\n",
      "773:\tlearn: 0.2942563\ttotal: 1m 12s\tremaining: 21s\n",
      "774:\tlearn: 0.2942011\ttotal: 1m 12s\tremaining: 20.9s\n",
      "775:\tlearn: 0.2940974\ttotal: 1m 12s\tremaining: 20.8s\n",
      "776:\tlearn: 0.2940563\ttotal: 1m 12s\tremaining: 20.8s\n",
      "777:\tlearn: 0.2939615\ttotal: 1m 12s\tremaining: 20.7s\n",
      "778:\tlearn: 0.2939300\ttotal: 1m 12s\tremaining: 20.6s\n",
      "779:\tlearn: 0.2938699\ttotal: 1m 12s\tremaining: 20.5s\n",
      "780:\tlearn: 0.2938108\ttotal: 1m 12s\tremaining: 20.4s\n",
      "781:\tlearn: 0.2937742\ttotal: 1m 12s\tremaining: 20.3s\n",
      "782:\tlearn: 0.2937286\ttotal: 1m 12s\tremaining: 20.2s\n",
      "783:\tlearn: 0.2936760\ttotal: 1m 12s\tremaining: 20.1s\n",
      "784:\tlearn: 0.2936304\ttotal: 1m 13s\tremaining: 20s\n",
      "785:\tlearn: 0.2935942\ttotal: 1m 13s\tremaining: 19.9s\n",
      "786:\tlearn: 0.2935615\ttotal: 1m 13s\tremaining: 19.8s\n",
      "787:\tlearn: 0.2935256\ttotal: 1m 13s\tremaining: 19.7s\n",
      "788:\tlearn: 0.2934950\ttotal: 1m 13s\tremaining: 19.6s\n",
      "789:\tlearn: 0.2934235\ttotal: 1m 13s\tremaining: 19.5s\n",
      "790:\tlearn: 0.2933238\ttotal: 1m 13s\tremaining: 19.5s\n",
      "791:\tlearn: 0.2932525\ttotal: 1m 13s\tremaining: 19.4s\n",
      "792:\tlearn: 0.2932254\ttotal: 1m 13s\tremaining: 19.3s\n",
      "793:\tlearn: 0.2931350\ttotal: 1m 13s\tremaining: 19.2s\n",
      "794:\tlearn: 0.2931117\ttotal: 1m 14s\tremaining: 19.1s\n",
      "795:\tlearn: 0.2930806\ttotal: 1m 14s\tremaining: 19s\n",
      "796:\tlearn: 0.2930164\ttotal: 1m 14s\tremaining: 18.9s\n"
     ]
    },
    {
     "name": "stdout",
     "output_type": "stream",
     "text": [
      "797:\tlearn: 0.2929791\ttotal: 1m 14s\tremaining: 18.8s\n",
      "798:\tlearn: 0.2929123\ttotal: 1m 14s\tremaining: 18.7s\n",
      "799:\tlearn: 0.2928661\ttotal: 1m 14s\tremaining: 18.6s\n",
      "800:\tlearn: 0.2927747\ttotal: 1m 14s\tremaining: 18.5s\n",
      "801:\tlearn: 0.2927174\ttotal: 1m 14s\tremaining: 18.4s\n",
      "802:\tlearn: 0.2926420\ttotal: 1m 14s\tremaining: 18.4s\n",
      "803:\tlearn: 0.2926143\ttotal: 1m 14s\tremaining: 18.3s\n",
      "804:\tlearn: 0.2925307\ttotal: 1m 14s\tremaining: 18.2s\n",
      "805:\tlearn: 0.2924503\ttotal: 1m 15s\tremaining: 18.1s\n",
      "806:\tlearn: 0.2923924\ttotal: 1m 15s\tremaining: 18s\n",
      "807:\tlearn: 0.2923751\ttotal: 1m 15s\tremaining: 17.9s\n",
      "808:\tlearn: 0.2923380\ttotal: 1m 15s\tremaining: 17.8s\n",
      "809:\tlearn: 0.2922783\ttotal: 1m 15s\tremaining: 17.7s\n",
      "810:\tlearn: 0.2922297\ttotal: 1m 15s\tremaining: 17.6s\n",
      "811:\tlearn: 0.2921458\ttotal: 1m 15s\tremaining: 17.5s\n",
      "812:\tlearn: 0.2920972\ttotal: 1m 15s\tremaining: 17.4s\n",
      "813:\tlearn: 0.2920695\ttotal: 1m 15s\tremaining: 17.3s\n",
      "814:\tlearn: 0.2920089\ttotal: 1m 15s\tremaining: 17.2s\n",
      "815:\tlearn: 0.2919157\ttotal: 1m 16s\tremaining: 17.1s\n",
      "816:\tlearn: 0.2918483\ttotal: 1m 16s\tremaining: 17s\n",
      "817:\tlearn: 0.2917814\ttotal: 1m 16s\tremaining: 17s\n",
      "818:\tlearn: 0.2917466\ttotal: 1m 16s\tremaining: 16.9s\n",
      "819:\tlearn: 0.2916916\ttotal: 1m 16s\tremaining: 16.8s\n",
      "820:\tlearn: 0.2916435\ttotal: 1m 16s\tremaining: 16.7s\n",
      "821:\tlearn: 0.2916103\ttotal: 1m 16s\tremaining: 16.6s\n",
      "822:\tlearn: 0.2915612\ttotal: 1m 16s\tremaining: 16.5s\n",
      "823:\tlearn: 0.2915381\ttotal: 1m 16s\tremaining: 16.4s\n",
      "824:\tlearn: 0.2914722\ttotal: 1m 16s\tremaining: 16.3s\n",
      "825:\tlearn: 0.2914282\ttotal: 1m 17s\tremaining: 16.2s\n",
      "826:\tlearn: 0.2913750\ttotal: 1m 17s\tremaining: 16.1s\n",
      "827:\tlearn: 0.2913367\ttotal: 1m 17s\tremaining: 16s\n",
      "828:\tlearn: 0.2913028\ttotal: 1m 17s\tremaining: 16s\n",
      "829:\tlearn: 0.2912565\ttotal: 1m 17s\tremaining: 15.9s\n",
      "830:\tlearn: 0.2912389\ttotal: 1m 17s\tremaining: 15.8s\n",
      "831:\tlearn: 0.2911857\ttotal: 1m 17s\tremaining: 15.7s\n",
      "832:\tlearn: 0.2911620\ttotal: 1m 17s\tremaining: 15.6s\n",
      "833:\tlearn: 0.2911329\ttotal: 1m 17s\tremaining: 15.5s\n",
      "834:\tlearn: 0.2910942\ttotal: 1m 18s\tremaining: 15.4s\n",
      "835:\tlearn: 0.2910570\ttotal: 1m 18s\tremaining: 15.3s\n",
      "836:\tlearn: 0.2910068\ttotal: 1m 18s\tremaining: 15.2s\n",
      "837:\tlearn: 0.2909447\ttotal: 1m 18s\tremaining: 15.1s\n",
      "838:\tlearn: 0.2908730\ttotal: 1m 18s\tremaining: 15.1s\n",
      "839:\tlearn: 0.2908603\ttotal: 1m 18s\tremaining: 15s\n",
      "840:\tlearn: 0.2908253\ttotal: 1m 18s\tremaining: 14.9s\n",
      "841:\tlearn: 0.2907361\ttotal: 1m 18s\tremaining: 14.8s\n",
      "842:\tlearn: 0.2905562\ttotal: 1m 18s\tremaining: 14.7s\n",
      "843:\tlearn: 0.2905133\ttotal: 1m 18s\tremaining: 14.6s\n",
      "844:\tlearn: 0.2904685\ttotal: 1m 19s\tremaining: 14.5s\n",
      "845:\tlearn: 0.2904251\ttotal: 1m 19s\tremaining: 14.4s\n",
      "846:\tlearn: 0.2902767\ttotal: 1m 19s\tremaining: 14.3s\n",
      "847:\tlearn: 0.2901915\ttotal: 1m 19s\tremaining: 14.2s\n",
      "848:\tlearn: 0.2901436\ttotal: 1m 19s\tremaining: 14.1s\n",
      "849:\tlearn: 0.2901005\ttotal: 1m 19s\tremaining: 14s\n",
      "850:\tlearn: 0.2900331\ttotal: 1m 19s\tremaining: 13.9s\n",
      "851:\tlearn: 0.2899666\ttotal: 1m 19s\tremaining: 13.8s\n",
      "852:\tlearn: 0.2899440\ttotal: 1m 19s\tremaining: 13.8s\n",
      "853:\tlearn: 0.2899073\ttotal: 1m 19s\tremaining: 13.7s\n",
      "854:\tlearn: 0.2898878\ttotal: 1m 20s\tremaining: 13.6s\n",
      "855:\tlearn: 0.2898456\ttotal: 1m 20s\tremaining: 13.5s\n",
      "856:\tlearn: 0.2897894\ttotal: 1m 20s\tremaining: 13.4s\n",
      "857:\tlearn: 0.2897753\ttotal: 1m 20s\tremaining: 13.3s\n",
      "858:\tlearn: 0.2896906\ttotal: 1m 20s\tremaining: 13.2s\n",
      "859:\tlearn: 0.2896739\ttotal: 1m 20s\tremaining: 13.2s\n",
      "860:\tlearn: 0.2895806\ttotal: 1m 20s\tremaining: 13.1s\n",
      "861:\tlearn: 0.2895121\ttotal: 1m 21s\tremaining: 13s\n",
      "862:\tlearn: 0.2894366\ttotal: 1m 21s\tremaining: 12.9s\n",
      "863:\tlearn: 0.2893952\ttotal: 1m 21s\tremaining: 12.8s\n",
      "864:\tlearn: 0.2893690\ttotal: 1m 21s\tremaining: 12.7s\n",
      "865:\tlearn: 0.2893460\ttotal: 1m 21s\tremaining: 12.6s\n",
      "866:\tlearn: 0.2893071\ttotal: 1m 21s\tremaining: 12.5s\n",
      "867:\tlearn: 0.2892629\ttotal: 1m 21s\tremaining: 12.4s\n",
      "868:\tlearn: 0.2892379\ttotal: 1m 21s\tremaining: 12.4s\n",
      "869:\tlearn: 0.2891976\ttotal: 1m 22s\tremaining: 12.3s\n",
      "870:\tlearn: 0.2891788\ttotal: 1m 22s\tremaining: 12.2s\n",
      "871:\tlearn: 0.2891560\ttotal: 1m 22s\tremaining: 12.1s\n",
      "872:\tlearn: 0.2891258\ttotal: 1m 22s\tremaining: 12s\n",
      "873:\tlearn: 0.2890649\ttotal: 1m 22s\tremaining: 11.9s\n",
      "874:\tlearn: 0.2890178\ttotal: 1m 22s\tremaining: 11.8s\n",
      "875:\tlearn: 0.2890147\ttotal: 1m 22s\tremaining: 11.7s\n",
      "876:\tlearn: 0.2889227\ttotal: 1m 22s\tremaining: 11.6s\n",
      "877:\tlearn: 0.2888520\ttotal: 1m 22s\tremaining: 11.5s\n",
      "878:\tlearn: 0.2887819\ttotal: 1m 22s\tremaining: 11.4s\n",
      "879:\tlearn: 0.2887484\ttotal: 1m 23s\tremaining: 11.3s\n",
      "880:\tlearn: 0.2887254\ttotal: 1m 23s\tremaining: 11.2s\n",
      "881:\tlearn: 0.2886998\ttotal: 1m 23s\tremaining: 11.1s\n",
      "882:\tlearn: 0.2886771\ttotal: 1m 23s\tremaining: 11.1s\n",
      "883:\tlearn: 0.2886204\ttotal: 1m 23s\tremaining: 11s\n",
      "884:\tlearn: 0.2885955\ttotal: 1m 23s\tremaining: 10.9s\n",
      "885:\tlearn: 0.2885661\ttotal: 1m 23s\tremaining: 10.8s\n",
      "886:\tlearn: 0.2884941\ttotal: 1m 23s\tremaining: 10.7s\n",
      "887:\tlearn: 0.2884614\ttotal: 1m 24s\tremaining: 10.6s\n",
      "888:\tlearn: 0.2883894\ttotal: 1m 24s\tremaining: 10.5s\n",
      "889:\tlearn: 0.2883632\ttotal: 1m 24s\tremaining: 10.4s\n",
      "890:\tlearn: 0.2883345\ttotal: 1m 24s\tremaining: 10.3s\n",
      "891:\tlearn: 0.2882882\ttotal: 1m 24s\tremaining: 10.2s\n",
      "892:\tlearn: 0.2882808\ttotal: 1m 24s\tremaining: 10.1s\n",
      "893:\tlearn: 0.2882314\ttotal: 1m 24s\tremaining: 10.1s\n",
      "894:\tlearn: 0.2881876\ttotal: 1m 24s\tremaining: 9.96s\n",
      "895:\tlearn: 0.2881650\ttotal: 1m 25s\tremaining: 9.87s\n",
      "896:\tlearn: 0.2881362\ttotal: 1m 25s\tremaining: 9.78s\n",
      "897:\tlearn: 0.2880353\ttotal: 1m 25s\tremaining: 9.69s\n",
      "898:\tlearn: 0.2879633\ttotal: 1m 25s\tremaining: 9.6s\n",
      "899:\tlearn: 0.2879224\ttotal: 1m 25s\tremaining: 9.5s\n",
      "900:\tlearn: 0.2878767\ttotal: 1m 25s\tremaining: 9.41s\n",
      "901:\tlearn: 0.2877857\ttotal: 1m 25s\tremaining: 9.32s\n",
      "902:\tlearn: 0.2877488\ttotal: 1m 25s\tremaining: 9.23s\n",
      "903:\tlearn: 0.2876848\ttotal: 1m 26s\tremaining: 9.13s\n",
      "904:\tlearn: 0.2876673\ttotal: 1m 26s\tremaining: 9.04s\n",
      "905:\tlearn: 0.2876561\ttotal: 1m 26s\tremaining: 8.95s\n",
      "906:\tlearn: 0.2876308\ttotal: 1m 26s\tremaining: 8.85s\n",
      "907:\tlearn: 0.2875485\ttotal: 1m 26s\tremaining: 8.76s\n",
      "908:\tlearn: 0.2875125\ttotal: 1m 26s\tremaining: 8.66s\n",
      "909:\tlearn: 0.2874799\ttotal: 1m 26s\tremaining: 8.57s\n",
      "910:\tlearn: 0.2874474\ttotal: 1m 26s\tremaining: 8.48s\n",
      "911:\tlearn: 0.2873969\ttotal: 1m 26s\tremaining: 8.38s\n",
      "912:\tlearn: 0.2873665\ttotal: 1m 26s\tremaining: 8.29s\n",
      "913:\tlearn: 0.2873205\ttotal: 1m 27s\tremaining: 8.19s\n",
      "914:\tlearn: 0.2872727\ttotal: 1m 27s\tremaining: 8.1s\n",
      "915:\tlearn: 0.2871930\ttotal: 1m 27s\tremaining: 8s\n",
      "916:\tlearn: 0.2871179\ttotal: 1m 27s\tremaining: 7.91s\n",
      "917:\tlearn: 0.2871011\ttotal: 1m 27s\tremaining: 7.81s\n",
      "918:\tlearn: 0.2870032\ttotal: 1m 27s\tremaining: 7.72s\n",
      "919:\tlearn: 0.2869607\ttotal: 1m 27s\tremaining: 7.63s\n",
      "920:\tlearn: 0.2869191\ttotal: 1m 27s\tremaining: 7.53s\n",
      "921:\tlearn: 0.2868736\ttotal: 1m 27s\tremaining: 7.44s\n",
      "922:\tlearn: 0.2868461\ttotal: 1m 28s\tremaining: 7.35s\n",
      "923:\tlearn: 0.2867869\ttotal: 1m 28s\tremaining: 7.25s\n",
      "924:\tlearn: 0.2867501\ttotal: 1m 28s\tremaining: 7.16s\n",
      "925:\tlearn: 0.2866876\ttotal: 1m 28s\tremaining: 7.07s\n",
      "926:\tlearn: 0.2866555\ttotal: 1m 28s\tremaining: 6.98s\n",
      "927:\tlearn: 0.2865328\ttotal: 1m 28s\tremaining: 6.89s\n",
      "928:\tlearn: 0.2864791\ttotal: 1m 28s\tremaining: 6.8s\n",
      "929:\tlearn: 0.2864345\ttotal: 1m 29s\tremaining: 6.7s\n",
      "930:\tlearn: 0.2864264\ttotal: 1m 29s\tremaining: 6.61s\n",
      "931:\tlearn: 0.2863766\ttotal: 1m 29s\tremaining: 6.52s\n",
      "932:\tlearn: 0.2863197\ttotal: 1m 29s\tremaining: 6.42s\n",
      "933:\tlearn: 0.2863049\ttotal: 1m 29s\tremaining: 6.33s\n",
      "934:\tlearn: 0.2862501\ttotal: 1m 29s\tremaining: 6.23s\n",
      "935:\tlearn: 0.2861978\ttotal: 1m 29s\tremaining: 6.14s\n",
      "936:\tlearn: 0.2861095\ttotal: 1m 29s\tremaining: 6.04s\n",
      "937:\tlearn: 0.2860874\ttotal: 1m 30s\tremaining: 5.95s\n",
      "938:\tlearn: 0.2860697\ttotal: 1m 30s\tremaining: 5.85s\n",
      "939:\tlearn: 0.2860528\ttotal: 1m 30s\tremaining: 5.76s\n",
      "940:\tlearn: 0.2860322\ttotal: 1m 30s\tremaining: 5.66s\n",
      "941:\tlearn: 0.2859767\ttotal: 1m 30s\tremaining: 5.57s\n",
      "942:\tlearn: 0.2859656\ttotal: 1m 30s\tremaining: 5.47s\n",
      "943:\tlearn: 0.2859487\ttotal: 1m 30s\tremaining: 5.38s\n",
      "944:\tlearn: 0.2859286\ttotal: 1m 30s\tremaining: 5.28s\n",
      "945:\tlearn: 0.2859133\ttotal: 1m 30s\tremaining: 5.18s\n",
      "946:\tlearn: 0.2859035\ttotal: 1m 30s\tremaining: 5.08s\n",
      "947:\tlearn: 0.2858677\ttotal: 1m 30s\tremaining: 4.99s\n",
      "948:\tlearn: 0.2858156\ttotal: 1m 31s\tremaining: 4.89s\n",
      "949:\tlearn: 0.2858084\ttotal: 1m 31s\tremaining: 4.8s\n",
      "950:\tlearn: 0.2857343\ttotal: 1m 31s\tremaining: 4.7s\n",
      "951:\tlearn: 0.2857198\ttotal: 1m 31s\tremaining: 4.61s\n",
      "952:\tlearn: 0.2856439\ttotal: 1m 31s\tremaining: 4.51s\n",
      "953:\tlearn: 0.2855962\ttotal: 1m 31s\tremaining: 4.42s\n"
     ]
    },
    {
     "name": "stdout",
     "output_type": "stream",
     "text": [
      "954:\tlearn: 0.2854648\ttotal: 1m 31s\tremaining: 4.32s\n",
      "955:\tlearn: 0.2853588\ttotal: 1m 31s\tremaining: 4.23s\n",
      "956:\tlearn: 0.2852925\ttotal: 1m 31s\tremaining: 4.13s\n",
      "957:\tlearn: 0.2852534\ttotal: 1m 32s\tremaining: 4.04s\n",
      "958:\tlearn: 0.2851763\ttotal: 1m 32s\tremaining: 3.94s\n",
      "959:\tlearn: 0.2851441\ttotal: 1m 32s\tremaining: 3.85s\n",
      "960:\tlearn: 0.2850763\ttotal: 1m 32s\tremaining: 3.75s\n",
      "961:\tlearn: 0.2850501\ttotal: 1m 32s\tremaining: 3.65s\n",
      "962:\tlearn: 0.2850484\ttotal: 1m 32s\tremaining: 3.56s\n",
      "963:\tlearn: 0.2850012\ttotal: 1m 32s\tremaining: 3.46s\n",
      "964:\tlearn: 0.2849797\ttotal: 1m 32s\tremaining: 3.37s\n",
      "965:\tlearn: 0.2849294\ttotal: 1m 32s\tremaining: 3.27s\n",
      "966:\tlearn: 0.2848674\ttotal: 1m 33s\tremaining: 3.18s\n",
      "967:\tlearn: 0.2848211\ttotal: 1m 33s\tremaining: 3.08s\n",
      "968:\tlearn: 0.2848178\ttotal: 1m 33s\tremaining: 2.98s\n",
      "969:\tlearn: 0.2847765\ttotal: 1m 33s\tremaining: 2.89s\n",
      "970:\tlearn: 0.2847401\ttotal: 1m 33s\tremaining: 2.79s\n",
      "971:\tlearn: 0.2846996\ttotal: 1m 33s\tremaining: 2.69s\n",
      "972:\tlearn: 0.2846371\ttotal: 1m 33s\tremaining: 2.6s\n",
      "973:\tlearn: 0.2845806\ttotal: 1m 33s\tremaining: 2.5s\n",
      "974:\tlearn: 0.2845572\ttotal: 1m 33s\tremaining: 2.41s\n",
      "975:\tlearn: 0.2845368\ttotal: 1m 34s\tremaining: 2.31s\n",
      "976:\tlearn: 0.2844694\ttotal: 1m 34s\tremaining: 2.21s\n",
      "977:\tlearn: 0.2844490\ttotal: 1m 34s\tremaining: 2.12s\n",
      "978:\tlearn: 0.2844243\ttotal: 1m 34s\tremaining: 2.02s\n",
      "979:\tlearn: 0.2843365\ttotal: 1m 34s\tremaining: 1.93s\n",
      "980:\tlearn: 0.2843077\ttotal: 1m 34s\tremaining: 1.83s\n",
      "981:\tlearn: 0.2842839\ttotal: 1m 34s\tremaining: 1.74s\n",
      "982:\tlearn: 0.2842004\ttotal: 1m 34s\tremaining: 1.64s\n",
      "983:\tlearn: 0.2841911\ttotal: 1m 34s\tremaining: 1.54s\n",
      "984:\tlearn: 0.2841592\ttotal: 1m 34s\tremaining: 1.45s\n",
      "985:\tlearn: 0.2841285\ttotal: 1m 35s\tremaining: 1.35s\n",
      "986:\tlearn: 0.2840895\ttotal: 1m 35s\tremaining: 1.25s\n",
      "987:\tlearn: 0.2840287\ttotal: 1m 35s\tremaining: 1.16s\n",
      "988:\tlearn: 0.2840131\ttotal: 1m 35s\tremaining: 1.06s\n",
      "989:\tlearn: 0.2839734\ttotal: 1m 35s\tremaining: 965ms\n",
      "990:\tlearn: 0.2839665\ttotal: 1m 35s\tremaining: 868ms\n",
      "991:\tlearn: 0.2839260\ttotal: 1m 35s\tremaining: 772ms\n",
      "992:\tlearn: 0.2838697\ttotal: 1m 35s\tremaining: 675ms\n",
      "993:\tlearn: 0.2838305\ttotal: 1m 35s\tremaining: 579ms\n",
      "994:\tlearn: 0.2838046\ttotal: 1m 36s\tremaining: 483ms\n",
      "995:\tlearn: 0.2837949\ttotal: 1m 36s\tremaining: 386ms\n",
      "996:\tlearn: 0.2837694\ttotal: 1m 36s\tremaining: 290ms\n",
      "997:\tlearn: 0.2837322\ttotal: 1m 36s\tremaining: 193ms\n",
      "998:\tlearn: 0.2836956\ttotal: 1m 36s\tremaining: 96.6ms\n",
      "999:\tlearn: 0.2836908\ttotal: 1m 36s\tremaining: 0us\n"
     ]
    },
    {
     "data": {
      "text/plain": [
       "<catboost.core.CatBoostClassifier at 0x1f5c477d430>"
      ]
     },
     "execution_count": 143,
     "metadata": {},
     "output_type": "execute_result"
    }
   ],
   "source": [
    "cb.fit(X_res_train,y_res_train,cat_features=[1,2,3,6])"
   ]
  },
  {
   "cell_type": "code",
   "execution_count": 144,
   "id": "twelve-matter",
   "metadata": {},
   "outputs": [],
   "source": [
    "## predicting classes\n",
    "y_pred_cb=cb.predict(X_res_test)"
   ]
  },
  {
   "cell_type": "code",
   "execution_count": 145,
   "id": "instant-football",
   "metadata": {},
   "outputs": [],
   "source": [
    "## predicting by using probability threshold\n",
    "threshold=0.4\n",
    "y_pred_cb_thresh=[1 if x >= threshold else 0 for x in (cb.predict_proba(X_res_test))[:,1]]"
   ]
  },
  {
   "cell_type": "code",
   "execution_count": 146,
   "id": "fifteen-still",
   "metadata": {},
   "outputs": [],
   "source": [
    "## predicting on unseen data\n",
    "y_hat_cb_test=cb.predict(X_test)"
   ]
  },
  {
   "cell_type": "code",
   "execution_count": 147,
   "id": "exciting-impossible",
   "metadata": {},
   "outputs": [],
   "source": [
    "## predicting on unseen data by applying threshold \n",
    "threshold=0.4\n",
    "y_hat_cb_test_proba=[1 if x >= threshold else 0 for x in (cb.predict_proba(X_test))[:,1]]"
   ]
  },
  {
   "cell_type": "code",
   "execution_count": null,
   "id": "abroad-ethnic",
   "metadata": {},
   "outputs": [],
   "source": []
  },
  {
   "cell_type": "code",
   "execution_count": 148,
   "id": "placed-conversion",
   "metadata": {},
   "outputs": [
    {
     "data": {
      "image/png": "[encoded data removed]",
      "text/plain": [
       "<Figure size 1080x720 with 4 Axes>"
      ]
     },
     "metadata": {
      "needs_background": "light"
     },
     "output_type": "display_data"
    }
   ],
   "source": [
    "## Plotting Results on validation data\n",
    "plt.figure(figsize=(15,10))\n",
    "plt.suptitle('Results on validation data')\n",
    "plt.subplot(221)\n",
    "plot_roc_curve(y_res_test,y_pred_cb)\n",
    "plt.subplot(222)\n",
    "plot_confusion_matrix(y_res_test,y_pred_cb)\n",
    "plt.subplot(223)\n",
    "plot_roc_curve(y_res_test,y_pred_cb_thresh)\n",
    "plt.subplot(224)\n",
    "plot_confusion_matrix(y_res_test,y_pred_cb_thresh)"
   ]
  },
  {
   "cell_type": "code",
   "execution_count": 149,
   "id": "static-graphics",
   "metadata": {},
   "outputs": [
    {
     "name": "stdout",
     "output_type": "stream",
     "text": [
      "              precision    recall  f1-score   support\n",
      "\n",
      "           0       0.80      0.96      0.87     22835\n",
      "           1       0.95      0.76      0.84     22834\n",
      "\n",
      "    accuracy                           0.86     45669\n",
      "   macro avg       0.87      0.86      0.86     45669\n",
      "weighted avg       0.87      0.86      0.86     45669\n",
      "\n"
     ]
    }
   ],
   "source": [
    "## No threshold\n",
    "print(classification_report(y_res_test,y_pred_cb))"
   ]
  },
  {
   "cell_type": "code",
   "execution_count": 150,
   "id": "prepared-member",
   "metadata": {},
   "outputs": [
    {
     "name": "stdout",
     "output_type": "stream",
     "text": [
      "              precision    recall  f1-score   support\n",
      "\n",
      "           0       0.83      0.90      0.87     22835\n",
      "           1       0.89      0.82      0.86     22834\n",
      "\n",
      "    accuracy                           0.86     45669\n",
      "   macro avg       0.86      0.86      0.86     45669\n",
      "weighted avg       0.86      0.86      0.86     45669\n",
      "\n"
     ]
    }
   ],
   "source": [
    "## With threshold\n",
    "print(classification_report(y_res_test,y_pred_cb_thresh))"
   ]
  },
  {
   "cell_type": "code",
   "execution_count": 151,
   "id": "published-roberts",
   "metadata": {},
   "outputs": [
    {
     "data": {
      "image/png": "[encoded data removed]",
      "text/plain": [
       "<Figure size 1080x720 with 4 Axes>"
      ]
     },
     "metadata": {
      "needs_background": "light"
     },
     "output_type": "display_data"
    }
   ],
   "source": [
    "## Plotting Results on test data\n",
    "plt.figure(figsize=(15,10))\n",
    "plt.suptitle('Results on test data')\n",
    "plt.subplot(221)\n",
    "plot_roc_curve(y_test,y_hat_cb_test)\n",
    "plt.subplot(222)\n",
    "plot_confusion_matrix(y_test,y_hat_cb_test)\n",
    "plt.subplot(223)\n",
    "plot_roc_curve(y_test,y_hat_cb_test_proba)\n",
    "plt.subplot(224)\n",
    "plot_confusion_matrix(y_test,y_hat_cb_test_proba)"
   ]
  },
  {
   "cell_type": "code",
   "execution_count": 152,
   "id": "enabling-suicide",
   "metadata": {},
   "outputs": [
    {
     "name": "stdout",
     "output_type": "stream",
     "text": [
      "              precision    recall  f1-score   support\n",
      "\n",
      "           0       0.96      0.96      0.96     32621\n",
      "           1       0.62      0.61      0.61      3379\n",
      "\n",
      "    accuracy                           0.93     36000\n",
      "   macro avg       0.79      0.78      0.79     36000\n",
      "weighted avg       0.93      0.93      0.93     36000\n",
      "\n"
     ]
    }
   ],
   "source": [
    "## No threshold\n",
    "print(classification_report(y_test,y_hat_cb_test))"
   ]
  },
  {
   "cell_type": "code",
   "execution_count": 153,
   "id": "southwest-heather",
   "metadata": {},
   "outputs": [
    {
     "name": "stdout",
     "output_type": "stream",
     "text": [
      "              precision    recall  f1-score   support\n",
      "\n",
      "           0       0.96      0.90      0.93     32621\n",
      "           1       0.41      0.65      0.50      3379\n",
      "\n",
      "    accuracy                           0.88     36000\n",
      "   macro avg       0.69      0.78      0.72     36000\n",
      "weighted avg       0.91      0.88      0.89     36000\n",
      "\n"
     ]
    }
   ],
   "source": [
    "## With threshold\n",
    "print(classification_report(y_test,y_hat_cb_test_proba))"
   ]
  },
  {
   "cell_type": "code",
   "execution_count": 157,
   "id": "compressed-cotton",
   "metadata": {},
   "outputs": [
    {
     "data": {
      "text/plain": [
       "<AxesSubplot:>"
      ]
     },
     "execution_count": 157,
     "metadata": {},
     "output_type": "execute_result"
    },
    {
     "data": {
      "image/png": "[encoded data removed]",
      "text/plain": [
       "<Figure size 432x288 with 1 Axes>"
      ]
     },
     "metadata": {
      "needs_background": "light"
     },
     "output_type": "display_data"
    }
   ],
   "source": [
    "## Feature Importances\n",
    "importances_cb=cb.feature_importances_\n",
    "\n",
    "features_cb=X_train.columns\n",
    "\n",
    "sns.barplot(y=features_cb,x=importances_cb)"
   ]
  },
  {
   "cell_type": "markdown",
   "id": "portuguese-journey",
   "metadata": {},
   "source": [
    "### Initial Insights from all three prediction models:\n",
    "\n",
    "###### 1) All three models perform equally well on both validation and test data.\n",
    "\n",
    "###### 2) All models consider the features obtained by feature engineering as very important features in prediction.\n",
    "\n",
    "###### 3) In this scenario, The transaction which is fraud shouldn't be predicted as not fraud. Hence, False Negatives should be reduced. Therefore, Recall is considered as an important metrics, If recall increases , the number of False Negatives decreases. \n",
    "\n",
    "###### 4) Increasing Recall might dent accuracy of prediction, but it can be afforded as cost of false negatives is very high. Therefore, the predictions obtained are based on changing the probaility threshold to increase recall\n",
    "\n",
    "###### 5) As all the algorithms perform similarly, the algorithm that uses less computational power and is fastest considered best, Therefore, considering Random Forest as best model\n"
   ]
  },
  {
   "cell_type": "code",
   "execution_count": null,
   "id": "owned-feelings",
   "metadata": {},
   "outputs": [],
   "source": []
  },
  {
   "cell_type": "code",
   "execution_count": null,
   "id": "pacific-fourth",
   "metadata": {},
   "outputs": [],
   "source": []
  },
  {
   "cell_type": "markdown",
   "id": "private-pantyhose",
   "metadata": {},
   "source": [
    "## Hyperparameter Tuning"
   ]
  },
  {
   "cell_type": "code",
   "execution_count": 217,
   "id": "agreed-graduate",
   "metadata": {},
   "outputs": [],
   "source": [
    "from hyperopt import fmin, tpe, hp, STATUS_OK, Trials"
   ]
  },
  {
   "cell_type": "code",
   "execution_count": 233,
   "id": "lyric-leeds",
   "metadata": {},
   "outputs": [],
   "source": [
    "# RF parameters\n",
    "rf_clf_params = {\n",
    "    \n",
    "    'max_depth':        hp.choice('max_depth',        np.arange(1, 16, 1, dtype=int)),\n",
    "    'n_estimators':     hp.choice('n_estimators', np.arange(100,550,50)),\n",
    "}\n",
    "\n",
    "rf_para = dict()\n",
    "rf_para['clf_params'] = rf_clf_params\n",
    "\n",
    "rf_para['loss_func' ] = lambda y, pred: log_loss(y, pred)"
   ]
  },
  {
   "cell_type": "code",
   "execution_count": 234,
   "id": "dying-channels",
   "metadata": {},
   "outputs": [],
   "source": [
    "class HPOpt(object):\n",
    "\n",
    "    def __init__(self, x_train, x_test, y_train, y_test):\n",
    "        self.x_train = x_train\n",
    "        self.x_test  = x_test\n",
    "        self.y_train = y_train\n",
    "        self.y_test  = y_test\n",
    "\n",
    "    def process(self, fn_name, space, trials, algo, max_evals):\n",
    "        fn = getattr(self, fn_name)\n",
    "        try:\n",
    "            result = fmin(fn=fn, space=space, algo=algo, max_evals=max_evals, trials=trials)\n",
    "        except Exception as e:\n",
    "            return {'status': STATUS_FAIL,\n",
    "                    'exception': str(e)}\n",
    "        return result, trials\n",
    "\n",
    "    def rf_clf(self, para):\n",
    "        clf = RandomForestClassifier(**para['clf_params'])\n",
    "        return self.train_clf(clf, para)\n",
    "    \n",
    "    def train_clf(self, clf, para):\n",
    "        clf.fit(self.x_train, self.y_train)\n",
    "        pred = clf.predict(self.x_test)\n",
    "        loss = para['loss_func'](self.y_test, pred)\n",
    "        return {'loss': loss, 'status': STATUS_OK}"
   ]
  },
  {
   "cell_type": "code",
   "execution_count": 235,
   "id": "legendary-biology",
   "metadata": {},
   "outputs": [],
   "source": [
    "obj = HPOpt(X_res_train, X_res_test, y_res_train, y_res_test)"
   ]
  },
  {
   "cell_type": "code",
   "execution_count": 236,
   "id": "substantial-wisdom",
   "metadata": {
    "scrolled": true
   },
   "outputs": [
    {
     "name": "stdout",
     "output_type": "stream",
     "text": [
      "100%|███████████████████████████████████████████████| 100/100 [49:57<00:00, 29.97s/trial, best loss: 5.334842779241816]\n"
     ]
    }
   ],
   "source": [
    "rf_opt = obj.process(fn_name='rf_clf', space=rf_para, trials=Trials(), algo=tpe.suggest, max_evals=100)"
   ]
  },
  {
   "cell_type": "code",
   "execution_count": 237,
   "id": "verified-dryer",
   "metadata": {},
   "outputs": [
    {
     "data": {
      "text/plain": [
       "({'max_depth': 14, 'n_estimators': 1}, <hyperopt.base.Trials at 0x1f603e87430>)"
      ]
     },
     "execution_count": 237,
     "metadata": {},
     "output_type": "execute_result"
    }
   ],
   "source": [
    "### Hyper parameter tuning results\n",
    "rf_opt"
   ]
  },
  {
   "cell_type": "code",
   "execution_count": 238,
   "id": "coupled-queue",
   "metadata": {},
   "outputs": [
    {
     "data": {
      "text/plain": [
       "150"
      ]
     },
     "execution_count": 238,
     "metadata": {},
     "output_type": "execute_result"
    }
   ],
   "source": [
    "np.arange(100,550,50)[1]"
   ]
  },
  {
   "cell_type": "code",
   "execution_count": 239,
   "id": "raising-hardware",
   "metadata": {},
   "outputs": [
    {
     "data": {
      "text/plain": [
       "15"
      ]
     },
     "execution_count": 239,
     "metadata": {},
     "output_type": "execute_result"
    }
   ],
   "source": [
    "np.arange(1, 16, 1, dtype=int)[14]"
   ]
  },
  {
   "cell_type": "markdown",
   "id": "quality-imperial",
   "metadata": {},
   "source": [
    "### Hyperparameter Tuned Random Forest"
   ]
  },
  {
   "cell_type": "code",
   "execution_count": 269,
   "id": "regulated-catering",
   "metadata": {},
   "outputs": [],
   "source": [
    "rf_tuned=RandomForestClassifier(n_estimators=150,max_depth=15)"
   ]
  },
  {
   "cell_type": "code",
   "execution_count": 270,
   "id": "valued-duration",
   "metadata": {
    "scrolled": true
   },
   "outputs": [
    {
     "data": {
      "text/plain": [
       "RandomForestClassifier(max_depth=15, n_estimators=150)"
      ]
     },
     "execution_count": 270,
     "metadata": {},
     "output_type": "execute_result"
    }
   ],
   "source": [
    "rf_tuned.fit(X_res_train,y_res_train)"
   ]
  },
  {
   "cell_type": "code",
   "execution_count": 271,
   "id": "refined-northern",
   "metadata": {},
   "outputs": [],
   "source": [
    "## predicting classes\n",
    "y_pred_rf_tuned=rf_tuned.predict(X_res_test)"
   ]
  },
  {
   "cell_type": "code",
   "execution_count": 272,
   "id": "imported-commander",
   "metadata": {},
   "outputs": [],
   "source": [
    "## predicting by using probability threshold\n",
    "threshold=0.4\n",
    "y_pred_rf_tuned_thresh=[1 if x >= threshold else 0 for x in (rf_tuned.predict_proba(X_res_test))[:,1]]"
   ]
  },
  {
   "cell_type": "code",
   "execution_count": 273,
   "id": "arranged-peace",
   "metadata": {},
   "outputs": [],
   "source": [
    "## predicting on unseen data\n",
    "y_hat_rf_tuned_test=rf_tuned.predict(X_test)"
   ]
  },
  {
   "cell_type": "code",
   "execution_count": 274,
   "id": "oriental-middle",
   "metadata": {},
   "outputs": [],
   "source": [
    "## predicting on unseen data by applying threshold \n",
    "threshold=0.4\n",
    "y_hat_rf_tuned_test_proba=[1 if x >= threshold else 0 for x in (rf_tuned.predict_proba(X_test))[:,1]]"
   ]
  },
  {
   "cell_type": "code",
   "execution_count": null,
   "id": "endangered-singing",
   "metadata": {},
   "outputs": [],
   "source": []
  },
  {
   "cell_type": "code",
   "execution_count": 275,
   "id": "grand-ontario",
   "metadata": {},
   "outputs": [
    {
     "data": {
      "image/png": "[encoded data removed]",
      "text/plain": [
       "<Figure size 1080x720 with 4 Axes>"
      ]
     },
     "metadata": {
      "needs_background": "light"
     },
     "output_type": "display_data"
    }
   ],
   "source": [
    "## Plotting Results on validation data\n",
    "plt.figure(figsize=(15,10))\n",
    "plt.suptitle('Results on validation data')\n",
    "plt.subplot(221)\n",
    "plot_roc_curve(y_res_test,y_pred_rf_tuned)\n",
    "plt.subplot(222)\n",
    "plot_confusion_matrix(y_res_test,y_pred_rf_tuned)\n",
    "plt.subplot(223)\n",
    "plot_roc_curve(y_res_test,y_pred_rf_tuned_thresh)\n",
    "plt.subplot(224)\n",
    "plot_confusion_matrix(y_res_test,y_pred_rf_tuned_thresh)"
   ]
  },
  {
   "cell_type": "code",
   "execution_count": 276,
   "id": "controlling-activity",
   "metadata": {},
   "outputs": [
    {
     "name": "stdout",
     "output_type": "stream",
     "text": [
      "              precision    recall  f1-score   support\n",
      "\n",
      "           0       0.77      0.98      0.86     22835\n",
      "           1       0.97      0.71      0.82     22834\n",
      "\n",
      "    accuracy                           0.84     45669\n",
      "   macro avg       0.87      0.84      0.84     45669\n",
      "weighted avg       0.87      0.84      0.84     45669\n",
      "\n"
     ]
    }
   ],
   "source": [
    "## No threshold\n",
    "print(classification_report(y_res_test,y_pred_rf_tuned))"
   ]
  },
  {
   "cell_type": "code",
   "execution_count": 277,
   "id": "adverse-commissioner",
   "metadata": {},
   "outputs": [
    {
     "name": "stdout",
     "output_type": "stream",
     "text": [
      "              precision    recall  f1-score   support\n",
      "\n",
      "           0       0.79      0.94      0.86     22835\n",
      "           1       0.93      0.76      0.83     22834\n",
      "\n",
      "    accuracy                           0.85     45669\n",
      "   macro avg       0.86      0.85      0.85     45669\n",
      "weighted avg       0.86      0.85      0.85     45669\n",
      "\n"
     ]
    }
   ],
   "source": [
    "## With threshold\n",
    "print(classification_report(y_res_test,y_pred_rf_tuned_thresh))"
   ]
  },
  {
   "cell_type": "code",
   "execution_count": 278,
   "id": "covered-magic",
   "metadata": {},
   "outputs": [
    {
     "data": {
      "image/png": "[encoded data removed]",
      "text/plain": [
       "<Figure size 1080x720 with 4 Axes>"
      ]
     },
     "metadata": {
      "needs_background": "light"
     },
     "output_type": "display_data"
    }
   ],
   "source": [
    "## Plotting Results on test data\n",
    "plt.figure(figsize=(15,10))\n",
    "plt.suptitle('Results on test data')\n",
    "plt.subplot(221)\n",
    "plot_roc_curve(y_test,y_hat_rf_tuned_test)\n",
    "plt.subplot(222)\n",
    "plot_confusion_matrix(y_test,y_hat_rf_tuned_test)\n",
    "plt.subplot(223)\n",
    "plot_roc_curve(y_test,y_hat_rf_tuned_test_proba)\n",
    "plt.subplot(224)\n",
    "plot_confusion_matrix(y_test,y_hat_rf_tuned_test_proba)"
   ]
  },
  {
   "cell_type": "code",
   "execution_count": 279,
   "id": "linear-hawaiian",
   "metadata": {},
   "outputs": [
    {
     "name": "stdout",
     "output_type": "stream",
     "text": [
      "              precision    recall  f1-score   support\n",
      "\n",
      "           0       0.96      0.98      0.97     32621\n",
      "           1       0.72      0.60      0.66      3379\n",
      "\n",
      "    accuracy                           0.94     36000\n",
      "   macro avg       0.84      0.79      0.81     36000\n",
      "weighted avg       0.94      0.94      0.94     36000\n",
      "\n"
     ]
    }
   ],
   "source": [
    "## No threshold\n",
    "print(classification_report(y_test,y_hat_rf_tuned_test))"
   ]
  },
  {
   "cell_type": "code",
   "execution_count": 280,
   "id": "empirical-server",
   "metadata": {},
   "outputs": [
    {
     "name": "stdout",
     "output_type": "stream",
     "text": [
      "              precision    recall  f1-score   support\n",
      "\n",
      "           0       0.96      0.94      0.95     32621\n",
      "           1       0.53      0.66      0.59      3379\n",
      "\n",
      "    accuracy                           0.91     36000\n",
      "   macro avg       0.75      0.80      0.77     36000\n",
      "weighted avg       0.92      0.91      0.92     36000\n",
      "\n"
     ]
    }
   ],
   "source": [
    "## With threshold\n",
    "print(classification_report(y_test,y_hat_rf_tuned_test_proba))"
   ]
  },
  {
   "cell_type": "code",
   "execution_count": 281,
   "id": "cardiovascular-discovery",
   "metadata": {},
   "outputs": [
    {
     "data": {
      "text/plain": [
       "<AxesSubplot:>"
      ]
     },
     "execution_count": 281,
     "metadata": {},
     "output_type": "execute_result"
    },
    {
     "data": {
      "image/png": "[encoded data removed]",
      "text/plain": [
       "<Figure size 432x288 with 1 Axes>"
      ]
     },
     "metadata": {
      "needs_background": "light"
     },
     "output_type": "display_data"
    }
   ],
   "source": [
    "## Feature Importances\n",
    "importances_rf_tuned=rf_tuned.feature_importances_\n",
    "\n",
    "features_rf_tuned=X_res_train.columns\n",
    "\n",
    "sns.barplot(y=features_rf_tuned,x=importances_rf_tuned)"
   ]
  },
  {
   "cell_type": "code",
   "execution_count": null,
   "id": "vital-civilization",
   "metadata": {},
   "outputs": [],
   "source": []
  },
  {
   "cell_type": "markdown",
   "id": "curious-geology",
   "metadata": {},
   "source": [
    "### Results after parameter tuning"
   ]
  },
  {
   "cell_type": "markdown",
   "id": "stone-conference",
   "metadata": {},
   "source": [
    "###### 1) There is a little improvement on test set after parameter tuning in AUC score from 0.78 to 0.79 with classes and 0.78 to 0.80 using probability threshold.\n",
    "###### 2) There is significant improvement in the Accuracy though the Recall of 0.66 is maintained, The accuracy increased by 3% from 88% to 91%\n",
    "###### 3) Hence, The most valuable predictor is RandomForestClassifier(n_estimators=150,max_depth=15)"
   ]
  },
  {
   "cell_type": "code",
   "execution_count": null,
   "id": "medical-swedish",
   "metadata": {},
   "outputs": [],
   "source": []
  },
  {
   "cell_type": "markdown",
   "id": "independent-intelligence",
   "metadata": {},
   "source": [
    "# Conclusion"
   ]
  },
  {
   "cell_type": "markdown",
   "id": "increased-hazard",
   "metadata": {},
   "source": [
    "#### Data Analysis:\n",
    "###### 1) There are no null,duplicated and  NaN values in the given data frame.\n",
    "###### 2) It is observed that few devices and IP addresses have been used multiple times.\n",
    "\n",
    "#### Feature Engineering:\n",
    "###### 1) Fetching country based on ip address\n",
    "###### 2) Finding number of times each device and ip address have been used\n",
    "###### 3) Finding Time between signup and first purchase\n",
    "###### 4) Assigning numerical values to browser,source,country and sex columns, converting them to categorical values\n",
    "###### 5) Treating class imbalances by oversampling data\n",
    "\n",
    "#### Prediction Models:\n",
    "###### 1) Using Random Forest, LightGBM and Catboost models to find the best base predictor model\n",
    "###### 2) Recall is important metrics, Because Cost of False Negatives is very high\n",
    "###### 3) Selecting Random Forest and Tuning Hyperparameters using Hyperopt to obtain best optimized model\n",
    "###### 4) Most Valuable predictor is named as rf_tuned, RandomForestClassifier(n_estimators=150, max_depth=15)"
   ]
  },
  {
   "cell_type": "code",
   "execution_count": null,
   "id": "infinite-shipping",
   "metadata": {},
   "outputs": [],
   "source": []
  },
  {
   "cell_type": "code",
   "execution_count": null,
   "id": "interesting-pregnancy",
   "metadata": {},
   "outputs": [],
   "source": []
  },
  {
   "cell_type": "markdown",
   "id": "amended-dylan",
   "metadata": {},
   "source": [
    "#### Function for data preparation to test"
   ]
  },
  {
   "cell_type": "code",
   "execution_count": 288,
   "id": "super-stopping",
   "metadata": {},
   "outputs": [],
   "source": [
    "def prepare_data(data):\n",
    "    '''This function transforms the data set into data set possible to use the above predictors.\n",
    "    It creates required features and converts the columns as required by predictor\n",
    "    Input: DataFrame containing test data\n",
    "    Output: Transformed DataFrame'''\n",
    "    \n",
    "    test_device=times_device_used(data)\n",
    "    test_ip=times_ip_used(data)\n",
    "    data=data.merge(right=test_device,how='left')\n",
    "    data=data.merge(right=test_ip,how='left')\n",
    "    \n",
    "    data['signup_time']=pd.to_datetime(data['signup_time'])\n",
    "    data['purchase_time']=pd.to_datetime(data['purchase_time'])\n",
    "    data['time_gap']=(data['purchase_time']-data['signup_time']).astype('timedelta64[m]')\n",
    "    data['browser']=data['browser'].map({'Chrome':1,'IE':2,'Safari':3,'FireFox':4,'Opera':5})\n",
    "\n",
    "    data['source']=data['source'].map({'SEO':1,'Ads':2,'Direct':3})\n",
    "\n",
    "    data['sex']=data['sex'].map({'M':0,'F':1})\n",
    "\n",
    "    data['country']=data['ip_address'].map(ip_to_country)\n",
    "    data['country']=data['country'].factorize()[0]\n",
    "    \n",
    "    cat_cols=['source','browser','sex','class','country','device_id','user_id']\n",
    "\n",
    "    for i in cat_cols:\n",
    "        data[i]=data[i].astype('category')\n",
    "    \n",
    "    return data"
   ]
  },
  {
   "cell_type": "code",
   "execution_count": null,
   "id": "assured-inspector",
   "metadata": {},
   "outputs": [],
   "source": []
  }
 ],
 "metadata": {
  "kernelspec": {
   "display_name": "Python 3",
   "language": "python",
   "name": "python3"
  },
  "language_info": {
   "codemirror_mode": {
    "name": "ipython",
    "version": 3
   },
   "file_extension": ".py",
   "mimetype": "text/x-python",
   "name": "python",
   "nbconvert_exporter": "python",
   "pygments_lexer": "ipython3",
   "version": "3.8.5"
  }
 },
 "nbformat": 4,
 "nbformat_minor": 5
}
